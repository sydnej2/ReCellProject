{
 "cells": [
  {
   "cell_type": "markdown",
   "metadata": {},
   "source": [
    "## Recell Project\n",
    "\n",
    "In this project I will be analyzing the data provided to build a linear regression model to predict the price of a used phone and identify factors that significantly influence it. Let's get started!"
   ]
  },
  {
   "cell_type": "code",
   "execution_count": 1,
   "metadata": {},
   "outputs": [],
   "source": [
    "#I am starting off by importing the different libraries \n",
    "import warnings\n",
    "warnings.filterwarnings('ignore') #this will ignore warnings \n",
    "import pandas as pd\n",
    "import numpy as np\n",
    "\n",
    "import matplotlib.pyplot as plt\n",
    "import seaborn as sns"
   ]
  },
  {
   "cell_type": "code",
   "execution_count": 2,
   "metadata": {},
   "outputs": [],
   "source": [
    "df = pd.read_csv(\"used_phone_data.csv\") #importing the dataset"
   ]
  },
  {
   "cell_type": "code",
   "execution_count": 3,
   "metadata": {},
   "outputs": [
    {
     "data": {
      "text/plain": [
       "(3571, 15)"
      ]
     },
     "execution_count": 3,
     "metadata": {},
     "output_type": "execute_result"
    }
   ],
   "source": [
    "df.shape"
   ]
  },
  {
   "cell_type": "markdown",
   "metadata": {},
   "source": [
    "There are 3571 rows and 15 columns."
   ]
  },
  {
   "cell_type": "code",
   "execution_count": 4,
   "metadata": {},
   "outputs": [
    {
     "data": {
      "text/html": [
       "<div>\n",
       "<style scoped>\n",
       "    .dataframe tbody tr th:only-of-type {\n",
       "        vertical-align: middle;\n",
       "    }\n",
       "\n",
       "    .dataframe tbody tr th {\n",
       "        vertical-align: top;\n",
       "    }\n",
       "\n",
       "    .dataframe thead th {\n",
       "        text-align: right;\n",
       "    }\n",
       "</style>\n",
       "<table border=\"1\" class=\"dataframe\">\n",
       "  <thead>\n",
       "    <tr style=\"text-align: right;\">\n",
       "      <th></th>\n",
       "      <th>brand_name</th>\n",
       "      <th>os</th>\n",
       "      <th>screen_size</th>\n",
       "      <th>4g</th>\n",
       "      <th>5g</th>\n",
       "      <th>main_camera_mp</th>\n",
       "      <th>selfie_camera_mp</th>\n",
       "      <th>int_memory</th>\n",
       "      <th>ram</th>\n",
       "      <th>battery</th>\n",
       "      <th>weight</th>\n",
       "      <th>release_year</th>\n",
       "      <th>days_used</th>\n",
       "      <th>new_price</th>\n",
       "      <th>used_price</th>\n",
       "    </tr>\n",
       "  </thead>\n",
       "  <tbody>\n",
       "    <tr>\n",
       "      <th>2501</th>\n",
       "      <td>Samsung</td>\n",
       "      <td>Android</td>\n",
       "      <td>13.49</td>\n",
       "      <td>yes</td>\n",
       "      <td>no</td>\n",
       "      <td>13.0</td>\n",
       "      <td>13.0</td>\n",
       "      <td>32.0</td>\n",
       "      <td>4.00</td>\n",
       "      <td>3600.0</td>\n",
       "      <td>181.0</td>\n",
       "      <td>2017</td>\n",
       "      <td>683</td>\n",
       "      <td>198.680</td>\n",
       "      <td>79.47</td>\n",
       "    </tr>\n",
       "    <tr>\n",
       "      <th>2782</th>\n",
       "      <td>Sony</td>\n",
       "      <td>Android</td>\n",
       "      <td>13.81</td>\n",
       "      <td>yes</td>\n",
       "      <td>no</td>\n",
       "      <td>NaN</td>\n",
       "      <td>8.0</td>\n",
       "      <td>32.0</td>\n",
       "      <td>4.00</td>\n",
       "      <td>3300.0</td>\n",
       "      <td>156.0</td>\n",
       "      <td>2019</td>\n",
       "      <td>195</td>\n",
       "      <td>198.150</td>\n",
       "      <td>149.10</td>\n",
       "    </tr>\n",
       "    <tr>\n",
       "      <th>605</th>\n",
       "      <td>Others</td>\n",
       "      <td>Android</td>\n",
       "      <td>12.70</td>\n",
       "      <td>yes</td>\n",
       "      <td>no</td>\n",
       "      <td>8.0</td>\n",
       "      <td>5.0</td>\n",
       "      <td>16.0</td>\n",
       "      <td>4.00</td>\n",
       "      <td>2400.0</td>\n",
       "      <td>137.0</td>\n",
       "      <td>2015</td>\n",
       "      <td>1048</td>\n",
       "      <td>161.470</td>\n",
       "      <td>48.39</td>\n",
       "    </tr>\n",
       "    <tr>\n",
       "      <th>2923</th>\n",
       "      <td>Vivo</td>\n",
       "      <td>Android</td>\n",
       "      <td>19.37</td>\n",
       "      <td>yes</td>\n",
       "      <td>no</td>\n",
       "      <td>13.0</td>\n",
       "      <td>16.0</td>\n",
       "      <td>64.0</td>\n",
       "      <td>4.00</td>\n",
       "      <td>3260.0</td>\n",
       "      <td>149.3</td>\n",
       "      <td>2019</td>\n",
       "      <td>375</td>\n",
       "      <td>211.880</td>\n",
       "      <td>138.31</td>\n",
       "    </tr>\n",
       "    <tr>\n",
       "      <th>941</th>\n",
       "      <td>Others</td>\n",
       "      <td>Others</td>\n",
       "      <td>5.72</td>\n",
       "      <td>no</td>\n",
       "      <td>no</td>\n",
       "      <td>0.3</td>\n",
       "      <td>0.3</td>\n",
       "      <td>32.0</td>\n",
       "      <td>0.25</td>\n",
       "      <td>820.0</td>\n",
       "      <td>90.0</td>\n",
       "      <td>2013</td>\n",
       "      <td>883</td>\n",
       "      <td>29.810</td>\n",
       "      <td>8.92</td>\n",
       "    </tr>\n",
       "    <tr>\n",
       "      <th>1833</th>\n",
       "      <td>LG</td>\n",
       "      <td>Android</td>\n",
       "      <td>13.49</td>\n",
       "      <td>no</td>\n",
       "      <td>no</td>\n",
       "      <td>8.0</td>\n",
       "      <td>1.3</td>\n",
       "      <td>32.0</td>\n",
       "      <td>4.00</td>\n",
       "      <td>3140.0</td>\n",
       "      <td>161.0</td>\n",
       "      <td>2013</td>\n",
       "      <td>670</td>\n",
       "      <td>240.540</td>\n",
       "      <td>96.18</td>\n",
       "    </tr>\n",
       "    <tr>\n",
       "      <th>671</th>\n",
       "      <td>Apple</td>\n",
       "      <td>iOS</td>\n",
       "      <td>14.92</td>\n",
       "      <td>yes</td>\n",
       "      <td>no</td>\n",
       "      <td>12.0</td>\n",
       "      <td>7.0</td>\n",
       "      <td>64.0</td>\n",
       "      <td>4.00</td>\n",
       "      <td>5493.0</td>\n",
       "      <td>48.0</td>\n",
       "      <td>2018</td>\n",
       "      <td>403</td>\n",
       "      <td>700.150</td>\n",
       "      <td>350.08</td>\n",
       "    </tr>\n",
       "    <tr>\n",
       "      <th>1796</th>\n",
       "      <td>LG</td>\n",
       "      <td>Android</td>\n",
       "      <td>17.78</td>\n",
       "      <td>yes</td>\n",
       "      <td>no</td>\n",
       "      <td>5.0</td>\n",
       "      <td>0.3</td>\n",
       "      <td>16.0</td>\n",
       "      <td>4.00</td>\n",
       "      <td>4000.0</td>\n",
       "      <td>294.8</td>\n",
       "      <td>2014</td>\n",
       "      <td>708</td>\n",
       "      <td>189.300</td>\n",
       "      <td>75.94</td>\n",
       "    </tr>\n",
       "    <tr>\n",
       "      <th>757</th>\n",
       "      <td>Asus</td>\n",
       "      <td>Android</td>\n",
       "      <td>13.49</td>\n",
       "      <td>yes</td>\n",
       "      <td>no</td>\n",
       "      <td>13.0</td>\n",
       "      <td>8.0</td>\n",
       "      <td>32.0</td>\n",
       "      <td>4.00</td>\n",
       "      <td>5000.0</td>\n",
       "      <td>181.0</td>\n",
       "      <td>2017</td>\n",
       "      <td>612</td>\n",
       "      <td>270.500</td>\n",
       "      <td>108.13</td>\n",
       "    </tr>\n",
       "    <tr>\n",
       "      <th>3528</th>\n",
       "      <td>Realme</td>\n",
       "      <td>Android</td>\n",
       "      <td>15.72</td>\n",
       "      <td>yes</td>\n",
       "      <td>no</td>\n",
       "      <td>NaN</td>\n",
       "      <td>16.0</td>\n",
       "      <td>64.0</td>\n",
       "      <td>4.00</td>\n",
       "      <td>4035.0</td>\n",
       "      <td>184.0</td>\n",
       "      <td>2019</td>\n",
       "      <td>433</td>\n",
       "      <td>159.885</td>\n",
       "      <td>80.00</td>\n",
       "    </tr>\n",
       "  </tbody>\n",
       "</table>\n",
       "</div>"
      ],
      "text/plain": [
       "     brand_name       os  screen_size   4g  5g  main_camera_mp  \\\n",
       "2501    Samsung  Android        13.49  yes  no            13.0   \n",
       "2782       Sony  Android        13.81  yes  no             NaN   \n",
       "605      Others  Android        12.70  yes  no             8.0   \n",
       "2923       Vivo  Android        19.37  yes  no            13.0   \n",
       "941      Others   Others         5.72   no  no             0.3   \n",
       "1833         LG  Android        13.49   no  no             8.0   \n",
       "671       Apple      iOS        14.92  yes  no            12.0   \n",
       "1796         LG  Android        17.78  yes  no             5.0   \n",
       "757        Asus  Android        13.49  yes  no            13.0   \n",
       "3528     Realme  Android        15.72  yes  no             NaN   \n",
       "\n",
       "      selfie_camera_mp  int_memory   ram  battery  weight  release_year  \\\n",
       "2501              13.0        32.0  4.00   3600.0   181.0          2017   \n",
       "2782               8.0        32.0  4.00   3300.0   156.0          2019   \n",
       "605                5.0        16.0  4.00   2400.0   137.0          2015   \n",
       "2923              16.0        64.0  4.00   3260.0   149.3          2019   \n",
       "941                0.3        32.0  0.25    820.0    90.0          2013   \n",
       "1833               1.3        32.0  4.00   3140.0   161.0          2013   \n",
       "671                7.0        64.0  4.00   5493.0    48.0          2018   \n",
       "1796               0.3        16.0  4.00   4000.0   294.8          2014   \n",
       "757                8.0        32.0  4.00   5000.0   181.0          2017   \n",
       "3528              16.0        64.0  4.00   4035.0   184.0          2019   \n",
       "\n",
       "      days_used  new_price  used_price  \n",
       "2501        683    198.680       79.47  \n",
       "2782        195    198.150      149.10  \n",
       "605        1048    161.470       48.39  \n",
       "2923        375    211.880      138.31  \n",
       "941         883     29.810        8.92  \n",
       "1833        670    240.540       96.18  \n",
       "671         403    700.150      350.08  \n",
       "1796        708    189.300       75.94  \n",
       "757         612    270.500      108.13  \n",
       "3528        433    159.885       80.00  "
      ]
     },
     "execution_count": 4,
     "metadata": {},
     "output_type": "execute_result"
    }
   ],
   "source": [
    "# I'm now going to look at 10 random rows\n",
    "# I'm setting the random seed via np.random.seed so that I get the same random results every time\n",
    "np.random.seed(1)\n",
    "df.sample(n=10)"
   ]
  },
  {
   "cell_type": "code",
   "execution_count": 5,
   "metadata": {},
   "outputs": [
    {
     "name": "stdout",
     "output_type": "stream",
     "text": [
      "<class 'pandas.core.frame.DataFrame'>\n",
      "RangeIndex: 3571 entries, 0 to 3570\n",
      "Data columns (total 15 columns):\n",
      " #   Column            Non-Null Count  Dtype  \n",
      "---  ------            --------------  -----  \n",
      " 0   brand_name        3571 non-null   object \n",
      " 1   os                3571 non-null   object \n",
      " 2   screen_size       3571 non-null   float64\n",
      " 3   4g                3571 non-null   object \n",
      " 4   5g                3571 non-null   object \n",
      " 5   main_camera_mp    3391 non-null   float64\n",
      " 6   selfie_camera_mp  3569 non-null   float64\n",
      " 7   int_memory        3561 non-null   float64\n",
      " 8   ram               3561 non-null   float64\n",
      " 9   battery           3565 non-null   float64\n",
      " 10  weight            3564 non-null   float64\n",
      " 11  release_year      3571 non-null   int64  \n",
      " 12  days_used         3571 non-null   int64  \n",
      " 13  new_price         3571 non-null   float64\n",
      " 14  used_price        3571 non-null   float64\n",
      "dtypes: float64(9), int64(2), object(4)\n",
      "memory usage: 418.6+ KB\n"
     ]
    }
   ],
   "source": [
    "df.info() #lets see the info of each column"
   ]
  },
  {
   "cell_type": "markdown",
   "metadata": {},
   "source": [
    "Based off of this, I can see that there are missing values in main_camera_mp, selfie_camera_mp, int_memory, ram, battery, and weight. There are 9 float datatypes, 2 int64 datatypes, and 4 object datatypes."
   ]
  },
  {
   "cell_type": "code",
   "execution_count": 6,
   "metadata": {},
   "outputs": [
    {
     "data": {
      "text/plain": [
       "main_camera_mp      180\n",
       "int_memory           10\n",
       "ram                  10\n",
       "weight                7\n",
       "battery               6\n",
       "selfie_camera_mp      2\n",
       "brand_name            0\n",
       "os                    0\n",
       "screen_size           0\n",
       "4g                    0\n",
       "5g                    0\n",
       "release_year          0\n",
       "days_used             0\n",
       "new_price             0\n",
       "used_price            0\n",
       "dtype: int64"
      ]
     },
     "execution_count": 6,
     "metadata": {},
     "output_type": "execute_result"
    }
   ],
   "source": [
    "# looking at which columns have the missing values in descending order\n",
    "df.isnull().sum().sort_values(ascending=False)"
   ]
  },
  {
   "cell_type": "markdown",
   "metadata": {},
   "source": [
    "I am going to drop the missing values from the dataset. This is because the missing data is such a small amount that it won't drastically change the output."
   ]
  },
  {
   "cell_type": "code",
   "execution_count": 7,
   "metadata": {},
   "outputs": [],
   "source": [
    "df2=df.dropna(axis=0) #I am going to drop the missing values"
   ]
  },
  {
   "cell_type": "code",
   "execution_count": 8,
   "metadata": {},
   "outputs": [
    {
     "data": {
      "text/html": [
       "<div>\n",
       "<style scoped>\n",
       "    .dataframe tbody tr th:only-of-type {\n",
       "        vertical-align: middle;\n",
       "    }\n",
       "\n",
       "    .dataframe tbody tr th {\n",
       "        vertical-align: top;\n",
       "    }\n",
       "\n",
       "    .dataframe thead th {\n",
       "        text-align: right;\n",
       "    }\n",
       "</style>\n",
       "<table border=\"1\" class=\"dataframe\">\n",
       "  <thead>\n",
       "    <tr style=\"text-align: right;\">\n",
       "      <th></th>\n",
       "      <th>brand_name</th>\n",
       "      <th>os</th>\n",
       "      <th>screen_size</th>\n",
       "      <th>4g</th>\n",
       "      <th>5g</th>\n",
       "      <th>main_camera_mp</th>\n",
       "      <th>selfie_camera_mp</th>\n",
       "      <th>int_memory</th>\n",
       "      <th>ram</th>\n",
       "      <th>battery</th>\n",
       "      <th>weight</th>\n",
       "      <th>release_year</th>\n",
       "      <th>days_used</th>\n",
       "      <th>new_price</th>\n",
       "      <th>used_price</th>\n",
       "    </tr>\n",
       "  </thead>\n",
       "  <tbody>\n",
       "    <tr>\n",
       "      <th>0</th>\n",
       "      <td>Honor</td>\n",
       "      <td>Android</td>\n",
       "      <td>23.97</td>\n",
       "      <td>yes</td>\n",
       "      <td>no</td>\n",
       "      <td>13.0</td>\n",
       "      <td>5.0</td>\n",
       "      <td>64.0</td>\n",
       "      <td>3.0</td>\n",
       "      <td>3020.0</td>\n",
       "      <td>146.0</td>\n",
       "      <td>2020</td>\n",
       "      <td>127</td>\n",
       "      <td>111.62</td>\n",
       "      <td>86.96</td>\n",
       "    </tr>\n",
       "    <tr>\n",
       "      <th>1</th>\n",
       "      <td>Honor</td>\n",
       "      <td>Android</td>\n",
       "      <td>28.10</td>\n",
       "      <td>yes</td>\n",
       "      <td>yes</td>\n",
       "      <td>13.0</td>\n",
       "      <td>16.0</td>\n",
       "      <td>128.0</td>\n",
       "      <td>8.0</td>\n",
       "      <td>4300.0</td>\n",
       "      <td>213.0</td>\n",
       "      <td>2020</td>\n",
       "      <td>325</td>\n",
       "      <td>249.39</td>\n",
       "      <td>161.49</td>\n",
       "    </tr>\n",
       "    <tr>\n",
       "      <th>2</th>\n",
       "      <td>Honor</td>\n",
       "      <td>Android</td>\n",
       "      <td>24.29</td>\n",
       "      <td>yes</td>\n",
       "      <td>yes</td>\n",
       "      <td>13.0</td>\n",
       "      <td>8.0</td>\n",
       "      <td>128.0</td>\n",
       "      <td>8.0</td>\n",
       "      <td>4200.0</td>\n",
       "      <td>213.0</td>\n",
       "      <td>2020</td>\n",
       "      <td>162</td>\n",
       "      <td>359.47</td>\n",
       "      <td>268.55</td>\n",
       "    </tr>\n",
       "    <tr>\n",
       "      <th>3</th>\n",
       "      <td>Honor</td>\n",
       "      <td>Android</td>\n",
       "      <td>26.04</td>\n",
       "      <td>yes</td>\n",
       "      <td>yes</td>\n",
       "      <td>13.0</td>\n",
       "      <td>8.0</td>\n",
       "      <td>64.0</td>\n",
       "      <td>6.0</td>\n",
       "      <td>7250.0</td>\n",
       "      <td>480.0</td>\n",
       "      <td>2020</td>\n",
       "      <td>345</td>\n",
       "      <td>278.93</td>\n",
       "      <td>180.23</td>\n",
       "    </tr>\n",
       "    <tr>\n",
       "      <th>4</th>\n",
       "      <td>Honor</td>\n",
       "      <td>Android</td>\n",
       "      <td>15.72</td>\n",
       "      <td>yes</td>\n",
       "      <td>no</td>\n",
       "      <td>13.0</td>\n",
       "      <td>8.0</td>\n",
       "      <td>64.0</td>\n",
       "      <td>3.0</td>\n",
       "      <td>5000.0</td>\n",
       "      <td>185.0</td>\n",
       "      <td>2020</td>\n",
       "      <td>293</td>\n",
       "      <td>140.87</td>\n",
       "      <td>103.80</td>\n",
       "    </tr>\n",
       "  </tbody>\n",
       "</table>\n",
       "</div>"
      ],
      "text/plain": [
       "  brand_name       os  screen_size   4g   5g  main_camera_mp  \\\n",
       "0      Honor  Android        23.97  yes   no            13.0   \n",
       "1      Honor  Android        28.10  yes  yes            13.0   \n",
       "2      Honor  Android        24.29  yes  yes            13.0   \n",
       "3      Honor  Android        26.04  yes  yes            13.0   \n",
       "4      Honor  Android        15.72  yes   no            13.0   \n",
       "\n",
       "   selfie_camera_mp  int_memory  ram  battery  weight  release_year  \\\n",
       "0               5.0        64.0  3.0   3020.0   146.0          2020   \n",
       "1              16.0       128.0  8.0   4300.0   213.0          2020   \n",
       "2               8.0       128.0  8.0   4200.0   213.0          2020   \n",
       "3               8.0        64.0  6.0   7250.0   480.0          2020   \n",
       "4               8.0        64.0  3.0   5000.0   185.0          2020   \n",
       "\n",
       "   days_used  new_price  used_price  \n",
       "0        127     111.62       86.96  \n",
       "1        325     249.39      161.49  \n",
       "2        162     359.47      268.55  \n",
       "3        345     278.93      180.23  \n",
       "4        293     140.87      103.80  "
      ]
     },
     "execution_count": 8,
     "metadata": {},
     "output_type": "execute_result"
    }
   ],
   "source": [
    "df2.head()"
   ]
  },
  {
   "cell_type": "code",
   "execution_count": 9,
   "metadata": {},
   "outputs": [
    {
     "data": {
      "text/plain": [
       "brand_name          0\n",
       "os                  0\n",
       "screen_size         0\n",
       "4g                  0\n",
       "5g                  0\n",
       "main_camera_mp      0\n",
       "selfie_camera_mp    0\n",
       "int_memory          0\n",
       "ram                 0\n",
       "battery             0\n",
       "weight              0\n",
       "release_year        0\n",
       "days_used           0\n",
       "new_price           0\n",
       "used_price          0\n",
       "dtype: int64"
      ]
     },
     "execution_count": 9,
     "metadata": {},
     "output_type": "execute_result"
    }
   ],
   "source": [
    "df2.isnull().sum() #checking to see how many missing values there are, there should be none"
   ]
  },
  {
   "cell_type": "markdown",
   "metadata": {},
   "source": [
    "There are no missing values now."
   ]
  },
  {
   "cell_type": "code",
   "execution_count": 10,
   "metadata": {},
   "outputs": [
    {
     "data": {
      "text/html": [
       "<div>\n",
       "<style scoped>\n",
       "    .dataframe tbody tr th:only-of-type {\n",
       "        vertical-align: middle;\n",
       "    }\n",
       "\n",
       "    .dataframe tbody tr th {\n",
       "        vertical-align: top;\n",
       "    }\n",
       "\n",
       "    .dataframe thead th {\n",
       "        text-align: right;\n",
       "    }\n",
       "</style>\n",
       "<table border=\"1\" class=\"dataframe\">\n",
       "  <thead>\n",
       "    <tr style=\"text-align: right;\">\n",
       "      <th></th>\n",
       "      <th>count</th>\n",
       "      <th>unique</th>\n",
       "      <th>top</th>\n",
       "      <th>freq</th>\n",
       "      <th>mean</th>\n",
       "      <th>std</th>\n",
       "      <th>min</th>\n",
       "      <th>25%</th>\n",
       "      <th>50%</th>\n",
       "      <th>75%</th>\n",
       "      <th>max</th>\n",
       "    </tr>\n",
       "  </thead>\n",
       "  <tbody>\n",
       "    <tr>\n",
       "      <th>brand_name</th>\n",
       "      <td>3368</td>\n",
       "      <td>33</td>\n",
       "      <td>Others</td>\n",
       "      <td>509</td>\n",
       "      <td>NaN</td>\n",
       "      <td>NaN</td>\n",
       "      <td>NaN</td>\n",
       "      <td>NaN</td>\n",
       "      <td>NaN</td>\n",
       "      <td>NaN</td>\n",
       "      <td>NaN</td>\n",
       "    </tr>\n",
       "    <tr>\n",
       "      <th>os</th>\n",
       "      <td>3368</td>\n",
       "      <td>4</td>\n",
       "      <td>Android</td>\n",
       "      <td>3056</td>\n",
       "      <td>NaN</td>\n",
       "      <td>NaN</td>\n",
       "      <td>NaN</td>\n",
       "      <td>NaN</td>\n",
       "      <td>NaN</td>\n",
       "      <td>NaN</td>\n",
       "      <td>NaN</td>\n",
       "    </tr>\n",
       "    <tr>\n",
       "      <th>screen_size</th>\n",
       "      <td>3368.0</td>\n",
       "      <td>NaN</td>\n",
       "      <td>NaN</td>\n",
       "      <td>NaN</td>\n",
       "      <td>14.575095</td>\n",
       "      <td>5.045491</td>\n",
       "      <td>2.7</td>\n",
       "      <td>11.43</td>\n",
       "      <td>13.49</td>\n",
       "      <td>16.03</td>\n",
       "      <td>46.36</td>\n",
       "    </tr>\n",
       "    <tr>\n",
       "      <th>4g</th>\n",
       "      <td>3368</td>\n",
       "      <td>2</td>\n",
       "      <td>yes</td>\n",
       "      <td>2173</td>\n",
       "      <td>NaN</td>\n",
       "      <td>NaN</td>\n",
       "      <td>NaN</td>\n",
       "      <td>NaN</td>\n",
       "      <td>NaN</td>\n",
       "      <td>NaN</td>\n",
       "      <td>NaN</td>\n",
       "    </tr>\n",
       "    <tr>\n",
       "      <th>5g</th>\n",
       "      <td>3368</td>\n",
       "      <td>2</td>\n",
       "      <td>no</td>\n",
       "      <td>3283</td>\n",
       "      <td>NaN</td>\n",
       "      <td>NaN</td>\n",
       "      <td>NaN</td>\n",
       "      <td>NaN</td>\n",
       "      <td>NaN</td>\n",
       "      <td>NaN</td>\n",
       "      <td>NaN</td>\n",
       "    </tr>\n",
       "    <tr>\n",
       "      <th>main_camera_mp</th>\n",
       "      <td>3368.0</td>\n",
       "      <td>NaN</td>\n",
       "      <td>NaN</td>\n",
       "      <td>NaN</td>\n",
       "      <td>9.419519</td>\n",
       "      <td>4.803271</td>\n",
       "      <td>0.08</td>\n",
       "      <td>5.0</td>\n",
       "      <td>8.0</td>\n",
       "      <td>13.0</td>\n",
       "      <td>48.0</td>\n",
       "    </tr>\n",
       "    <tr>\n",
       "      <th>selfie_camera_mp</th>\n",
       "      <td>3368.0</td>\n",
       "      <td>NaN</td>\n",
       "      <td>NaN</td>\n",
       "      <td>NaN</td>\n",
       "      <td>6.096437</td>\n",
       "      <td>6.513867</td>\n",
       "      <td>0.3</td>\n",
       "      <td>2.0</td>\n",
       "      <td>5.0</td>\n",
       "      <td>8.0</td>\n",
       "      <td>32.0</td>\n",
       "    </tr>\n",
       "    <tr>\n",
       "      <th>int_memory</th>\n",
       "      <td>3368.0</td>\n",
       "      <td>NaN</td>\n",
       "      <td>NaN</td>\n",
       "      <td>NaN</td>\n",
       "      <td>52.056596</td>\n",
       "      <td>85.108736</td>\n",
       "      <td>0.005</td>\n",
       "      <td>16.0</td>\n",
       "      <td>32.0</td>\n",
       "      <td>64.0</td>\n",
       "      <td>1024.0</td>\n",
       "    </tr>\n",
       "    <tr>\n",
       "      <th>ram</th>\n",
       "      <td>3368.0</td>\n",
       "      <td>NaN</td>\n",
       "      <td>NaN</td>\n",
       "      <td>NaN</td>\n",
       "      <td>3.98095</td>\n",
       "      <td>1.271313</td>\n",
       "      <td>0.03</td>\n",
       "      <td>4.0</td>\n",
       "      <td>4.0</td>\n",
       "      <td>4.0</td>\n",
       "      <td>16.0</td>\n",
       "    </tr>\n",
       "    <tr>\n",
       "      <th>battery</th>\n",
       "      <td>3368.0</td>\n",
       "      <td>NaN</td>\n",
       "      <td>NaN</td>\n",
       "      <td>NaN</td>\n",
       "      <td>3008.418795</td>\n",
       "      <td>1361.468949</td>\n",
       "      <td>80.0</td>\n",
       "      <td>2050.0</td>\n",
       "      <td>3000.0</td>\n",
       "      <td>3900.0</td>\n",
       "      <td>12000.0</td>\n",
       "    </tr>\n",
       "    <tr>\n",
       "      <th>weight</th>\n",
       "      <td>3368.0</td>\n",
       "      <td>NaN</td>\n",
       "      <td>NaN</td>\n",
       "      <td>NaN</td>\n",
       "      <td>179.050193</td>\n",
       "      <td>92.185768</td>\n",
       "      <td>23.0</td>\n",
       "      <td>140.0</td>\n",
       "      <td>157.0</td>\n",
       "      <td>180.0</td>\n",
       "      <td>950.0</td>\n",
       "    </tr>\n",
       "    <tr>\n",
       "      <th>release_year</th>\n",
       "      <td>3368.0</td>\n",
       "      <td>NaN</td>\n",
       "      <td>NaN</td>\n",
       "      <td>NaN</td>\n",
       "      <td>2015.776128</td>\n",
       "      <td>2.188557</td>\n",
       "      <td>2013.0</td>\n",
       "      <td>2014.0</td>\n",
       "      <td>2015.0</td>\n",
       "      <td>2018.0</td>\n",
       "      <td>2020.0</td>\n",
       "    </tr>\n",
       "    <tr>\n",
       "      <th>days_used</th>\n",
       "      <td>3368.0</td>\n",
       "      <td>NaN</td>\n",
       "      <td>NaN</td>\n",
       "      <td>NaN</td>\n",
       "      <td>695.17696</td>\n",
       "      <td>236.186405</td>\n",
       "      <td>91.0</td>\n",
       "      <td>563.0</td>\n",
       "      <td>704.0</td>\n",
       "      <td>880.25</td>\n",
       "      <td>1094.0</td>\n",
       "    </tr>\n",
       "    <tr>\n",
       "      <th>new_price</th>\n",
       "      <td>3368.0</td>\n",
       "      <td>NaN</td>\n",
       "      <td>NaN</td>\n",
       "      <td>NaN</td>\n",
       "      <td>232.343347</td>\n",
       "      <td>193.070557</td>\n",
       "      <td>9.13</td>\n",
       "      <td>119.905</td>\n",
       "      <td>189.145</td>\n",
       "      <td>281.3475</td>\n",
       "      <td>2560.2</td>\n",
       "    </tr>\n",
       "    <tr>\n",
       "      <th>used_price</th>\n",
       "      <td>3368.0</td>\n",
       "      <td>NaN</td>\n",
       "      <td>NaN</td>\n",
       "      <td>NaN</td>\n",
       "      <td>103.715629</td>\n",
       "      <td>114.655795</td>\n",
       "      <td>2.51</td>\n",
       "      <td>44.91</td>\n",
       "      <td>74.81</td>\n",
       "      <td>120.2375</td>\n",
       "      <td>1916.54</td>\n",
       "    </tr>\n",
       "  </tbody>\n",
       "</table>\n",
       "</div>"
      ],
      "text/plain": [
       "                   count unique      top  freq         mean          std  \\\n",
       "brand_name          3368     33   Others   509          NaN          NaN   \n",
       "os                  3368      4  Android  3056          NaN          NaN   \n",
       "screen_size       3368.0    NaN      NaN   NaN    14.575095     5.045491   \n",
       "4g                  3368      2      yes  2173          NaN          NaN   \n",
       "5g                  3368      2       no  3283          NaN          NaN   \n",
       "main_camera_mp    3368.0    NaN      NaN   NaN     9.419519     4.803271   \n",
       "selfie_camera_mp  3368.0    NaN      NaN   NaN     6.096437     6.513867   \n",
       "int_memory        3368.0    NaN      NaN   NaN    52.056596    85.108736   \n",
       "ram               3368.0    NaN      NaN   NaN      3.98095     1.271313   \n",
       "battery           3368.0    NaN      NaN   NaN  3008.418795  1361.468949   \n",
       "weight            3368.0    NaN      NaN   NaN   179.050193    92.185768   \n",
       "release_year      3368.0    NaN      NaN   NaN  2015.776128     2.188557   \n",
       "days_used         3368.0    NaN      NaN   NaN    695.17696   236.186405   \n",
       "new_price         3368.0    NaN      NaN   NaN   232.343347   193.070557   \n",
       "used_price        3368.0    NaN      NaN   NaN   103.715629   114.655795   \n",
       "\n",
       "                     min      25%      50%       75%      max  \n",
       "brand_name           NaN      NaN      NaN       NaN      NaN  \n",
       "os                   NaN      NaN      NaN       NaN      NaN  \n",
       "screen_size          2.7    11.43    13.49     16.03    46.36  \n",
       "4g                   NaN      NaN      NaN       NaN      NaN  \n",
       "5g                   NaN      NaN      NaN       NaN      NaN  \n",
       "main_camera_mp      0.08      5.0      8.0      13.0     48.0  \n",
       "selfie_camera_mp     0.3      2.0      5.0       8.0     32.0  \n",
       "int_memory         0.005     16.0     32.0      64.0   1024.0  \n",
       "ram                 0.03      4.0      4.0       4.0     16.0  \n",
       "battery             80.0   2050.0   3000.0    3900.0  12000.0  \n",
       "weight              23.0    140.0    157.0     180.0    950.0  \n",
       "release_year      2013.0   2014.0   2015.0    2018.0   2020.0  \n",
       "days_used           91.0    563.0    704.0    880.25   1094.0  \n",
       "new_price           9.13  119.905  189.145  281.3475   2560.2  \n",
       "used_price          2.51    44.91    74.81  120.2375  1916.54  "
      ]
     },
     "execution_count": 10,
     "metadata": {},
     "output_type": "execute_result"
    }
   ],
   "source": [
    "# Lets look at the statistical summary of the data\n",
    "df2.describe(include=\"all\").T"
   ]
  },
  {
   "cell_type": "markdown",
   "metadata": {},
   "source": [
    "There are 33 different phone brand names, the most occuring 509 times. \n",
    "There are 4 unique OS on which the phone runs, the most occuring 3056 times. \n",
    "The mean of the screen size is 14.58 cm.\n",
    "The phones have been used on average for 695 days, or almost two years. \n",
    "The average price of the used phone is cheaper than the price of a new phone that is the same model."
   ]
  },
  {
   "cell_type": "code",
   "execution_count": 11,
   "metadata": {},
   "outputs": [],
   "source": [
    "#I am going to convert a few different datatypes to categories\n",
    "df2[\"brand_name\"]=df2[\"brand_name\"].astype(\"category\")\n",
    "df2[\"os\"]=df2[\"os\"].astype(\"category\")\n",
    "df2[\"4g\"]=df2[\"4g\"].astype(\"category\")\n",
    "df2[\"5g\"]=df2[\"5g\"].astype(\"category\")\n",
    "df2[\"release_year\"]=df2[\"release_year\"].astype(\"category\")"
   ]
  },
  {
   "cell_type": "code",
   "execution_count": 12,
   "metadata": {},
   "outputs": [
    {
     "name": "stdout",
     "output_type": "stream",
     "text": [
      "<class 'pandas.core.frame.DataFrame'>\n",
      "Int64Index: 3368 entries, 0 to 3570\n",
      "Data columns (total 15 columns):\n",
      " #   Column            Non-Null Count  Dtype   \n",
      "---  ------            --------------  -----   \n",
      " 0   brand_name        3368 non-null   category\n",
      " 1   os                3368 non-null   category\n",
      " 2   screen_size       3368 non-null   float64 \n",
      " 3   4g                3368 non-null   category\n",
      " 4   5g                3368 non-null   category\n",
      " 5   main_camera_mp    3368 non-null   float64 \n",
      " 6   selfie_camera_mp  3368 non-null   float64 \n",
      " 7   int_memory        3368 non-null   float64 \n",
      " 8   ram               3368 non-null   float64 \n",
      " 9   battery           3368 non-null   float64 \n",
      " 10  weight            3368 non-null   float64 \n",
      " 11  release_year      3368 non-null   category\n",
      " 12  days_used         3368 non-null   int64   \n",
      " 13  new_price         3368 non-null   float64 \n",
      " 14  used_price        3368 non-null   float64 \n",
      "dtypes: category(5), float64(9), int64(1)\n",
      "memory usage: 308.0 KB\n"
     ]
    }
   ],
   "source": [
    "df2.info() #lets see the change on release year"
   ]
  },
  {
   "cell_type": "markdown",
   "metadata": {},
   "source": [
    "## EDA\n",
    "\n",
    "I am now moving onto the Exploratory Data Analysis side"
   ]
  },
  {
   "cell_type": "code",
   "execution_count": 13,
   "metadata": {},
   "outputs": [],
   "source": [
    "# function to create labeled barplots\n",
    "\n",
    "def labeled_barplot(data, feature, perc=False, n=None):\n",
    "    \"\"\"\n",
    "    Barplot with percentage at the top\n",
    "\n",
    "    data: dataframe\n",
    "    feature: dataframe column\n",
    "    perc: whether to display percentages instead of count (default is False)\n",
    "    n: displays the top n category levels (default is None, i.e., display all levels)\n",
    "    \"\"\"\n",
    "\n",
    "    total = len(data[feature])  # length of the column\n",
    "    count = data[feature].nunique()\n",
    "    if n is None:\n",
    "        plt.figure(figsize=(count + 1, 5))\n",
    "    else:\n",
    "        plt.figure(figsize=(n + 1, 5))\n",
    "\n",
    "    plt.xticks(rotation=90, fontsize=15)\n",
    "    ax = sns.countplot(\n",
    "        data=data,\n",
    "        x=feature,\n",
    "        palette=\"Paired\",\n",
    "        order=data[feature].value_counts().index[:n].sort_values(),\n",
    "    )\n",
    "\n",
    "    for p in ax.patches:\n",
    "        if perc == True:\n",
    "            label = \"{:.1f}%\".format(\n",
    "                100 * p.get_height() / total\n",
    "            )  # percentage of each class of the category\n",
    "        else:\n",
    "            label = p.get_height()  # count of each level of the category\n",
    "\n",
    "        x = p.get_x() + p.get_width() / 2  # width of the plot\n",
    "        y = p.get_height()  # height of the plot\n",
    "\n",
    "        ax.annotate(\n",
    "            label,\n",
    "            (x, y),\n",
    "            ha=\"center\",\n",
    "            va=\"center\",\n",
    "            size=12,\n",
    "            xytext=(0, 5),\n",
    "            textcoords=\"offset points\",\n",
    "        )  # annotate the percentage\n",
    "\n",
    "    plt.show()  # show the plot"
   ]
  },
  {
   "cell_type": "code",
   "execution_count": 14,
   "metadata": {},
   "outputs": [
    {
     "data": {
      "text/plain": [
       "Others        509\n",
       "Samsung       364\n",
       "Huawei        264\n",
       "LG            212\n",
       "Lenovo        172\n",
       "ZTE           137\n",
       "Alcatel       125\n",
       "Asus          122\n",
       "Micromax      120\n",
       "Honor         118\n",
       "Nokia         111\n",
       "Xiaomi        110\n",
       "HTC           110\n",
       "Oppo          109\n",
       "Vivo          103\n",
       "Motorola       92\n",
       "Sony           81\n",
       "Apple          59\n",
       "Gionee         56\n",
       "Acer           51\n",
       "Panasonic      45\n",
       "Meizu          44\n",
       "XOLO           42\n",
       "Celkon         37\n",
       "Lava           34\n",
       "Karbonn        30\n",
       "Spice          30\n",
       "Microsoft      21\n",
       "Coolpad        19\n",
       "BlackBerry     18\n",
       "Google         13\n",
       "OnePlus         5\n",
       "Realme          5\n",
       "Name: brand_name, dtype: int64"
      ]
     },
     "execution_count": 14,
     "metadata": {},
     "output_type": "execute_result"
    }
   ],
   "source": [
    "df2.brand_name.value_counts() #I would like to see the brand name next to it's count"
   ]
  },
  {
   "cell_type": "code",
   "execution_count": 15,
   "metadata": {},
   "outputs": [
    {
     "data": {
      "image/png": "[encoded data removed]",
      "text/plain": [
       "<Figure size 2448x360 with 1 Axes>"
      ]
     },
     "metadata": {
      "needs_background": "light"
     },
     "output_type": "display_data"
    }
   ],
   "source": [
    "labeled_barplot(df2, \"brand_name\") #to see this visually in a barplot"
   ]
  },
  {
   "cell_type": "code",
   "execution_count": 16,
   "metadata": {},
   "outputs": [
    {
     "data": {
      "text/plain": [
       "brand_name\n",
       "Acer          172.867647\n",
       "Alcatel       142.499092\n",
       "Apple         639.004941\n",
       "Asus          239.327004\n",
       "BlackBerry    204.589444\n",
       "Celkon         60.956486\n",
       "Coolpad       189.654211\n",
       "Gionee        255.379286\n",
       "Google        408.600000\n",
       "HTC           249.853818\n",
       "Honor         235.897915\n",
       "Huawei        323.960091\n",
       "Karbonn       110.384333\n",
       "LG            242.218203\n",
       "Lava          109.042059\n",
       "Lenovo        193.358779\n",
       "Meizu         240.035227\n",
       "Micromax      106.964667\n",
       "Microsoft     158.517143\n",
       "Motorola      195.497989\n",
       "Nokia         138.888532\n",
       "OnePlus       331.980000\n",
       "Oppo          317.009761\n",
       "Others        191.112094\n",
       "Panasonic     166.857111\n",
       "Realme        137.888000\n",
       "Samsung       293.854500\n",
       "Sony          260.943210\n",
       "Spice          98.000000\n",
       "Vivo          316.331403\n",
       "XOLO          134.247619\n",
       "Xiaomi        251.303264\n",
       "ZTE           209.181460\n",
       "Name: new_price, dtype: float64"
      ]
     },
     "execution_count": 16,
     "metadata": {},
     "output_type": "execute_result"
    }
   ],
   "source": [
    "#how does the new price vary amongst different brand names\n",
    "df2.groupby(\"brand_name\")[\"new_price\"].mean()"
   ]
  },
  {
   "cell_type": "markdown",
   "metadata": {},
   "source": [
    "The average prices of the new phones vary from 60 euros to 639 euros. Apple and Google have the highest average price. The lowest average price being Celkon and Spice, which are brands I have never heard of. "
   ]
  },
  {
   "cell_type": "code",
   "execution_count": 17,
   "metadata": {},
   "outputs": [
    {
     "data": {
      "text/plain": [
       "brand_name\n",
       "Acer           63.798431\n",
       "Alcatel        55.326080\n",
       "Apple         293.228814\n",
       "Asus           94.062213\n",
       "BlackBerry     83.033333\n",
       "Celkon         22.648378\n",
       "Coolpad        67.935789\n",
       "Gionee         91.881964\n",
       "Google        206.422308\n",
       "HTC            99.626000\n",
       "Honor         132.285932\n",
       "Huawei        176.256894\n",
       "Karbonn        38.069333\n",
       "LG            115.853726\n",
       "Lava           39.424118\n",
       "Lenovo         77.147500\n",
       "Meizu          93.805455\n",
       "Micromax       38.134417\n",
       "Microsoft      53.213333\n",
       "Motorola       88.336087\n",
       "Nokia          63.505045\n",
       "OnePlus       104.578000\n",
       "Oppo          150.587156\n",
       "Others         78.492102\n",
       "Panasonic      57.668667\n",
       "Realme         66.348000\n",
       "Samsung       132.083462\n",
       "Sony           99.555556\n",
       "Spice          32.299667\n",
       "Vivo          156.784757\n",
       "XOLO           48.848095\n",
       "Xiaomi        123.499273\n",
       "ZTE            86.081533\n",
       "Name: used_price, dtype: float64"
      ]
     },
     "execution_count": 17,
     "metadata": {},
     "output_type": "execute_result"
    }
   ],
   "source": [
    "#how does the used price vary amongst different brand names \n",
    "df2.groupby(\"brand_name\")[\"used_price\"].mean()"
   ]
  },
  {
   "cell_type": "markdown",
   "metadata": {},
   "source": [
    "The price of the used phone varies from 32 euros to 293 euros. It is interesting to see that Apple and Google are still the highest, but not as significantly high as they were compared to their new price."
   ]
  },
  {
   "cell_type": "code",
   "execution_count": 18,
   "metadata": {},
   "outputs": [
    {
     "data": {
      "text/plain": [
       "release_year\n",
       "2013     58.283311\n",
       "2014     69.732779\n",
       "2015     73.329122\n",
       "2016     84.403544\n",
       "2017    101.346013\n",
       "2018    147.249221\n",
       "2019    192.116921\n",
       "2020    244.833057\n",
       "Name: used_price, dtype: float64"
      ]
     },
     "execution_count": 18,
     "metadata": {},
     "output_type": "execute_result"
    }
   ],
   "source": [
    "df2.groupby(\"release_year\")[\"used_price\"].mean() #I want to compare the release year to the used price"
   ]
  },
  {
   "cell_type": "markdown",
   "metadata": {},
   "source": [
    "As expected, the older the phone, the cheaper it is. The newer the used phone is, it will be more expensive."
   ]
  },
  {
   "cell_type": "markdown",
   "metadata": {},
   "source": [
    "## Univariate Analysis"
   ]
  },
  {
   "cell_type": "code",
   "execution_count": 19,
   "metadata": {},
   "outputs": [],
   "source": [
    "# function to plot a boxplot and a histogram along the same scale.\n",
    "\n",
    "\n",
    "def histogram_boxplot(data, feature, figsize=(12, 7), kde=False, bins=None):\n",
    "    \"\"\"\n",
    "    Boxplot and histogram combined\n",
    "\n",
    "    data: dataframe\n",
    "    feature: dataframe column\n",
    "    figsize: size of figure (default (12,7))\n",
    "    kde: whether to the show density curve (default False)\n",
    "    bins: number of bins for histogram (default None)\n",
    "    \"\"\"\n",
    "    f2, (ax_box2, ax_hist2) = plt.subplots(\n",
    "        nrows=2,  # Number of rows of the subplot grid= 2\n",
    "        sharex=True,  # x-axis will be shared among all subplots\n",
    "        gridspec_kw={\"height_ratios\": (0.25, 0.75)},\n",
    "        figsize=figsize,\n",
    "    )  # creating the 2 subplots\n",
    "    sns.boxplot(\n",
    "        data=data, x=feature, ax=ax_box2, showmeans=True, color=\"violet\"\n",
    "    )  # boxplot will be created and a star will indicate the mean value of the column\n",
    "    sns.histplot(\n",
    "        data=data, x=feature, kde=kde, ax=ax_hist2, bins=bins, palette=\"winter\"\n",
    "    ) if bins else sns.histplot(\n",
    "        data=data, x=feature, kde=kde, ax=ax_hist2\n",
    "    )  # For histogram\n",
    "    ax_hist2.axvline(\n",
    "        data[feature].mean(), color=\"green\", linestyle=\"--\"\n",
    "    )  # Add mean to the histogram\n",
    "    ax_hist2.axvline(\n",
    "        data[feature].median(), color=\"black\", linestyle=\"-\"\n",
    "    )  # Add median to the histogram"
   ]
  },
  {
   "cell_type": "markdown",
   "metadata": {},
   "source": [
    "Let's explore the dependent variable, \"used_price\""
   ]
  },
  {
   "cell_type": "code",
   "execution_count": 20,
   "metadata": {},
   "outputs": [
    {
     "data": {
      "image/png": "[encoded data removed]",
      "text/plain": [
       "<Figure size 864x504 with 2 Axes>"
      ]
     },
     "metadata": {
      "needs_background": "light"
     },
     "output_type": "display_data"
    }
   ],
   "source": [
    "histogram_boxplot(df2, \"used_price\")"
   ]
  },
  {
   "cell_type": "markdown",
   "metadata": {},
   "source": [
    "There are multiple outliers in this data set. This is also right-skewed, which means that some used prices are very high. The mean price appears to be around 125 euros."
   ]
  },
  {
   "cell_type": "code",
   "execution_count": 21,
   "metadata": {},
   "outputs": [
    {
     "data": {
      "image/png": "[encoded data removed]",
      "text/plain": [
       "<Figure size 432x288 with 1 Axes>"
      ]
     },
     "metadata": {
      "needs_background": "light"
     },
     "output_type": "display_data"
    }
   ],
   "source": [
    "sns.distplot(df2['used_price']); #we can also use this type of histogram to view the data"
   ]
  },
  {
   "cell_type": "markdown",
   "metadata": {},
   "source": [
    "Now, let's visually explore the new price of the phones."
   ]
  },
  {
   "cell_type": "code",
   "execution_count": 22,
   "metadata": {},
   "outputs": [
    {
     "data": {
      "image/png": "[encoded data removed]",
      "text/plain": [
       "<Figure size 864x504 with 2 Axes>"
      ]
     },
     "metadata": {
      "needs_background": "light"
     },
     "output_type": "display_data"
    }
   ],
   "source": [
    "histogram_boxplot(df2, \"new_price\") #another histogram boxplot"
   ]
  },
  {
   "cell_type": "markdown",
   "metadata": {},
   "source": [
    "There are multiple outliers in this graph. This is right skewed, meaning that there are some phones that are very expensive. The mean price for the new phone is around 250, which seems about double to the used price of the phones. "
   ]
  },
  {
   "cell_type": "markdown",
   "metadata": {},
   "source": [
    "Let's explore screen size "
   ]
  },
  {
   "cell_type": "code",
   "execution_count": 23,
   "metadata": {},
   "outputs": [
    {
     "data": {
      "image/png": "[encoded data removed]",
      "text/plain": [
       "<Figure size 864x504 with 2 Axes>"
      ]
     },
     "metadata": {
      "needs_background": "light"
     },
     "output_type": "display_data"
    }
   ],
   "source": [
    "histogram_boxplot(df2, \"screen_size\")"
   ]
  },
  {
   "cell_type": "markdown",
   "metadata": {},
   "source": [
    "This is interesting. The mean screen size for the phones are around 15 cm. This graph has outliers on both sides, meaning there are phones that have very small screen sizes and very large screen sizes. "
   ]
  },
  {
   "cell_type": "code",
   "execution_count": 24,
   "metadata": {},
   "outputs": [
    {
     "data": {
      "image/png": "[encoded data removed]",
      "text/plain": [
       "<Figure size 864x504 with 2 Axes>"
      ]
     },
     "metadata": {
      "needs_background": "light"
     },
     "output_type": "display_data"
    }
   ],
   "source": [
    "histogram_boxplot(df2, \"main_camera_mp\")"
   ]
  },
  {
   "cell_type": "markdown",
   "metadata": {},
   "source": [
    "This is showing the resolution of the rear camera in mega pixels. The average is around 9 mega pixels, but there are only a few phones that have higher mega pixels. "
   ]
  },
  {
   "cell_type": "code",
   "execution_count": 25,
   "metadata": {},
   "outputs": [
    {
     "data": {
      "image/png": "[encoded data removed]",
      "text/plain": [
       "<Figure size 864x504 with 2 Axes>"
      ]
     },
     "metadata": {
      "needs_background": "light"
     },
     "output_type": "display_data"
    }
   ],
   "source": [
    "histogram_boxplot(df2, \"selfie_camera_mp\")"
   ]
  },
  {
   "cell_type": "markdown",
   "metadata": {},
   "source": [
    "The selfie camera average mega pixels is smaller than the rear camera at about 6 mega pixels. There are outliers that do have improved selfie camera quality."
   ]
  },
  {
   "cell_type": "code",
   "execution_count": 26,
   "metadata": {},
   "outputs": [
    {
     "data": {
      "image/png": "[encoded data removed]",
      "text/plain": [
       "<Figure size 864x504 with 2 Axes>"
      ]
     },
     "metadata": {
      "needs_background": "light"
     },
     "output_type": "display_data"
    }
   ],
   "source": [
    "histogram_boxplot(df2, \"int_memory\")"
   ]
  },
  {
   "cell_type": "markdown",
   "metadata": {},
   "source": [
    "There are some outliers of internal memory (ROM) in GB. This is a skewed right graph, meaning there are some phones with higher memory, but the average lies around 75 GB. "
   ]
  },
  {
   "cell_type": "code",
   "execution_count": 27,
   "metadata": {},
   "outputs": [
    {
     "data": {
      "image/png": "[encoded data removed]",
      "text/plain": [
       "<Figure size 864x504 with 2 Axes>"
      ]
     },
     "metadata": {
      "needs_background": "light"
     },
     "output_type": "display_data"
    }
   ],
   "source": [
    "histogram_boxplot(df2, \"ram\")"
   ]
  },
  {
   "cell_type": "markdown",
   "metadata": {},
   "source": [
    "This is interesting, the average is around 4 RAM in GB, but it does seem to have outliers on both ends. "
   ]
  },
  {
   "cell_type": "code",
   "execution_count": 28,
   "metadata": {},
   "outputs": [
    {
     "data": {
      "image/png": "[encoded data removed]",
      "text/plain": [
       "<Figure size 864x504 with 2 Axes>"
      ]
     },
     "metadata": {
      "needs_background": "light"
     },
     "output_type": "display_data"
    }
   ],
   "source": [
    "histogram_boxplot(df2, \"battery\")"
   ]
  },
  {
   "cell_type": "markdown",
   "metadata": {},
   "source": [
    "The average energy capacity of the phone battery is around 3000 mAh. There are several outliers, there are many phones that have a higher energy capacity. "
   ]
  },
  {
   "cell_type": "code",
   "execution_count": 29,
   "metadata": {},
   "outputs": [
    {
     "data": {
      "image/png": "[encoded data removed]",
      "text/plain": [
       "<Figure size 864x504 with 2 Axes>"
      ]
     },
     "metadata": {
      "needs_background": "light"
     },
     "output_type": "display_data"
    }
   ],
   "source": [
    "histogram_boxplot(df2, \"weight\")"
   ]
  },
  {
   "cell_type": "markdown",
   "metadata": {},
   "source": [
    "The average weight of the phone is just under 200 grams. However, there are several outliers on either side. Meaning there are phones that are very light and phones that are heavier. The data is dispersed."
   ]
  },
  {
   "cell_type": "code",
   "execution_count": 30,
   "metadata": {},
   "outputs": [
    {
     "data": {
      "image/png": "[encoded data removed]",
      "text/plain": [
       "<Figure size 864x504 with 2 Axes>"
      ]
     },
     "metadata": {
      "needs_background": "light"
     },
     "output_type": "display_data"
    }
   ],
   "source": [
    "histogram_boxplot(df2, \"days_used\")"
   ]
  },
  {
   "cell_type": "markdown",
   "metadata": {},
   "source": [
    "The average amount of days used for the phone is around 700 days. There does not seem to be any outliers. "
   ]
  },
  {
   "cell_type": "code",
   "execution_count": 31,
   "metadata": {},
   "outputs": [],
   "source": [
    "# function to create labeled barplots\n",
    "\n",
    "\n",
    "def labeled_barplot(data, feature, perc=False, n=None):\n",
    "    \"\"\"\n",
    "    Barplot with percentage at the top\n",
    "\n",
    "    data: dataframe\n",
    "    feature: dataframe column\n",
    "    perc: whether to display percentages instead of count (default is False)\n",
    "    n: displays the top n category levels (default is None, i.e., display all levels)\n",
    "    \"\"\"\n",
    "\n",
    "    total = len(data[feature])  # length of the column\n",
    "    count = data[feature].nunique()\n",
    "    if n is None:\n",
    "        plt.figure(figsize=(count + 1, 5))\n",
    "    else:\n",
    "        plt.figure(figsize=(n + 1, 5))\n",
    "\n",
    "    plt.xticks(rotation=90, fontsize=15)\n",
    "    ax = sns.countplot(\n",
    "        data=data,\n",
    "        x=feature,\n",
    "        palette=\"Paired\",\n",
    "        order=data[feature].value_counts().index[:n].sort_values(),\n",
    "    )\n",
    "\n",
    "    for p in ax.patches:\n",
    "        if perc == True:\n",
    "            label = \"{:.1f}%\".format(\n",
    "                100 * p.get_height() / total\n",
    "            )  # percentage of each class of the category\n",
    "        else:\n",
    "            label = p.get_height()  # count of each level of the category\n",
    "\n",
    "        x = p.get_x() + p.get_width() / 2  # width of the plot\n",
    "        y = p.get_height()  # height of the plot\n",
    "\n",
    "        ax.annotate(\n",
    "            label,\n",
    "            (x, y),\n",
    "            ha=\"center\",\n",
    "            va=\"center\",\n",
    "            size=12,\n",
    "            xytext=(0, 5),\n",
    "            textcoords=\"offset points\",\n",
    "        )  # annotate the percentage\n",
    "\n",
    "    plt.show()  # show the plot"
   ]
  },
  {
   "cell_type": "code",
   "execution_count": 32,
   "metadata": {},
   "outputs": [
    {
     "data": {
      "image/png": "[encoded data removed]",
      "text/plain": [
       "<Figure size 360x360 with 1 Axes>"
      ]
     },
     "metadata": {
      "needs_background": "light"
     },
     "output_type": "display_data"
    }
   ],
   "source": [
    "labeled_barplot(df2, \"os\", perc=True)"
   ]
  },
  {
   "cell_type": "markdown",
   "metadata": {},
   "source": [
    "There are 4 main OS on which the phone runs. Android is the majority, with others second, then Windows, then iOS. "
   ]
  },
  {
   "cell_type": "code",
   "execution_count": 33,
   "metadata": {},
   "outputs": [
    {
     "data": {
      "image/png": "[encoded data removed]",
      "text/plain": [
       "<Figure size 216x360 with 1 Axes>"
      ]
     },
     "metadata": {
      "needs_background": "light"
     },
     "output_type": "display_data"
    }
   ],
   "source": [
    "labeled_barplot(df2, \"4g\", perc=True)"
   ]
  },
  {
   "cell_type": "code",
   "execution_count": 34,
   "metadata": {},
   "outputs": [
    {
     "data": {
      "image/png": "[encoded data removed]",
      "text/plain": [
       "<Figure size 216x360 with 1 Axes>"
      ]
     },
     "metadata": {
      "needs_background": "light"
     },
     "output_type": "display_data"
    }
   ],
   "source": [
    "labeled_barplot(df2, \"5g\", perc=True)"
   ]
  },
  {
   "cell_type": "markdown",
   "metadata": {},
   "source": [
    "4g seems to be the majority availability. 5g does not seem widely available as there is only 2.5% who have 5g."
   ]
  },
  {
   "cell_type": "code",
   "execution_count": 35,
   "metadata": {},
   "outputs": [
    {
     "data": {
      "image/png": "[encoded data removed]",
      "text/plain": [
       "<Figure size 648x360 with 1 Axes>"
      ]
     },
     "metadata": {
      "needs_background": "light"
     },
     "output_type": "display_data"
    }
   ],
   "source": [
    "labeled_barplot(df2, \"release_year\", perc=True)"
   ]
  },
  {
   "cell_type": "markdown",
   "metadata": {},
   "source": [
    "This is visually appealing as it clearly shows which years the phones were released. The majority of the phones were released from 2013 - 2015."
   ]
  },
  {
   "cell_type": "markdown",
   "metadata": {},
   "source": [
    "## Bivariate Analysis\n",
    "\n",
    "Lets look at correlations."
   ]
  },
  {
   "cell_type": "code",
   "execution_count": 36,
   "metadata": {},
   "outputs": [
    {
     "data": {
      "image/png": "[encoded data removed]",
      "text/plain": [
       "<Figure size 1080x504 with 2 Axes>"
      ]
     },
     "metadata": {
      "needs_background": "light"
     },
     "output_type": "display_data"
    }
   ],
   "source": [
    "numeric_columns = df2.select_dtypes(include=np.number).columns.tolist()\n",
    "\n",
    "\n",
    "# correlation heatmap\n",
    "plt.figure(figsize=(15, 7))\n",
    "sns.heatmap(\n",
    "    df[numeric_columns].corr(),\n",
    "    annot=True,\n",
    "    vmin=-1,\n",
    "    vmax=1,\n",
    "    fmt=\".2f\",\n",
    "    cmap=\"Spectral\",\n",
    ")\n",
    "plt.show()"
   ]
  },
  {
   "cell_type": "markdown",
   "metadata": {},
   "source": [
    "Observations:\n",
    "\n",
    "    1. The variables with the strongest correlation are used price with new price. Trailing not far behind are battery and screen size. We could also argue that screen size and weight are also very correlated.\n",
    "    2. There are some high negative correlations such as days used and selfie camera as well as days used and used price."
   ]
  },
  {
   "cell_type": "markdown",
   "metadata": {},
   "source": [
    "Lets visually look at these variables that are highly correlated"
   ]
  },
  {
   "cell_type": "code",
   "execution_count": 37,
   "metadata": {},
   "outputs": [
    {
     "data": {
      "image/png": "[encoded data removed]",
      "text/plain": [
       "<Figure size 720x504 with 1 Axes>"
      ]
     },
     "metadata": {
      "needs_background": "light"
     },
     "output_type": "display_data"
    }
   ],
   "source": [
    "plt.figure(figsize=(10, 7))\n",
    "sns.scatterplot(y=\"new_price\", x=\"used_price\", hue=\"days_used\", data=df2)\n",
    "plt.show()"
   ]
  },
  {
   "cell_type": "markdown",
   "metadata": {},
   "source": [
    "The fewer the days used, the higher the price for a used phone or new price. The more the days used, the lower the price for a new phone and used phone. However, the new price is always more expensive, no matter how many days used. "
   ]
  },
  {
   "cell_type": "code",
   "execution_count": 38,
   "metadata": {},
   "outputs": [
    {
     "data": {
      "image/png": "[encoded data removed]",
      "text/plain": [
       "<Figure size 720x504 with 1 Axes>"
      ]
     },
     "metadata": {
      "needs_background": "light"
     },
     "output_type": "display_data"
    }
   ],
   "source": [
    "plt.figure(figsize=(10, 7))\n",
    "sns.scatterplot(y=\"battery\", x=\"screen_size\", hue=\"used_price\", data=df2)\n",
    "plt.show()"
   ]
  },
  {
   "cell_type": "markdown",
   "metadata": {},
   "source": [
    "This data appears to have somewhat of a positive line and correlation. The majority of the battery life lies under 6000 mAh and the screen size is mostly below 30 cm."
   ]
  },
  {
   "cell_type": "markdown",
   "metadata": {},
   "source": [
    "## Column Binning"
   ]
  },
  {
   "cell_type": "markdown",
   "metadata": {},
   "source": [
    "I will group together the brand_name column into three different categories. I will bin them into \"Low-Cost\", \"Middle-Cost\", and \"High-End\". "
   ]
  },
  {
   "cell_type": "code",
   "execution_count": 39,
   "metadata": {
    "scrolled": false
   },
   "outputs": [
    {
     "data": {
      "text/html": [
       "<div>\n",
       "<style scoped>\n",
       "    .dataframe tbody tr th:only-of-type {\n",
       "        vertical-align: middle;\n",
       "    }\n",
       "\n",
       "    .dataframe tbody tr th {\n",
       "        vertical-align: top;\n",
       "    }\n",
       "\n",
       "    .dataframe thead th {\n",
       "        text-align: right;\n",
       "    }\n",
       "</style>\n",
       "<table border=\"1\" class=\"dataframe\">\n",
       "  <thead>\n",
       "    <tr style=\"text-align: right;\">\n",
       "      <th></th>\n",
       "      <th>brand_name</th>\n",
       "      <th>os</th>\n",
       "      <th>screen_size</th>\n",
       "      <th>4g</th>\n",
       "      <th>5g</th>\n",
       "      <th>main_camera_mp</th>\n",
       "      <th>selfie_camera_mp</th>\n",
       "      <th>int_memory</th>\n",
       "      <th>ram</th>\n",
       "      <th>battery</th>\n",
       "      <th>weight</th>\n",
       "      <th>release_year</th>\n",
       "      <th>days_used</th>\n",
       "      <th>new_price</th>\n",
       "      <th>used_price</th>\n",
       "      <th>price_range</th>\n",
       "    </tr>\n",
       "  </thead>\n",
       "  <tbody>\n",
       "    <tr>\n",
       "      <th>0</th>\n",
       "      <td>Honor</td>\n",
       "      <td>Android</td>\n",
       "      <td>23.97</td>\n",
       "      <td>yes</td>\n",
       "      <td>no</td>\n",
       "      <td>13.0</td>\n",
       "      <td>5.0</td>\n",
       "      <td>64.0</td>\n",
       "      <td>3.0</td>\n",
       "      <td>3020.0</td>\n",
       "      <td>146.0</td>\n",
       "      <td>2020</td>\n",
       "      <td>127</td>\n",
       "      <td>111.62</td>\n",
       "      <td>86.96</td>\n",
       "      <td>low-cost</td>\n",
       "    </tr>\n",
       "    <tr>\n",
       "      <th>1</th>\n",
       "      <td>Honor</td>\n",
       "      <td>Android</td>\n",
       "      <td>28.10</td>\n",
       "      <td>yes</td>\n",
       "      <td>yes</td>\n",
       "      <td>13.0</td>\n",
       "      <td>16.0</td>\n",
       "      <td>128.0</td>\n",
       "      <td>8.0</td>\n",
       "      <td>4300.0</td>\n",
       "      <td>213.0</td>\n",
       "      <td>2020</td>\n",
       "      <td>325</td>\n",
       "      <td>249.39</td>\n",
       "      <td>161.49</td>\n",
       "      <td>middle-cost</td>\n",
       "    </tr>\n",
       "    <tr>\n",
       "      <th>2</th>\n",
       "      <td>Honor</td>\n",
       "      <td>Android</td>\n",
       "      <td>24.29</td>\n",
       "      <td>yes</td>\n",
       "      <td>yes</td>\n",
       "      <td>13.0</td>\n",
       "      <td>8.0</td>\n",
       "      <td>128.0</td>\n",
       "      <td>8.0</td>\n",
       "      <td>4200.0</td>\n",
       "      <td>213.0</td>\n",
       "      <td>2020</td>\n",
       "      <td>162</td>\n",
       "      <td>359.47</td>\n",
       "      <td>268.55</td>\n",
       "      <td>middle-cost</td>\n",
       "    </tr>\n",
       "    <tr>\n",
       "      <th>3</th>\n",
       "      <td>Honor</td>\n",
       "      <td>Android</td>\n",
       "      <td>26.04</td>\n",
       "      <td>yes</td>\n",
       "      <td>yes</td>\n",
       "      <td>13.0</td>\n",
       "      <td>8.0</td>\n",
       "      <td>64.0</td>\n",
       "      <td>6.0</td>\n",
       "      <td>7250.0</td>\n",
       "      <td>480.0</td>\n",
       "      <td>2020</td>\n",
       "      <td>345</td>\n",
       "      <td>278.93</td>\n",
       "      <td>180.23</td>\n",
       "      <td>middle-cost</td>\n",
       "    </tr>\n",
       "    <tr>\n",
       "      <th>4</th>\n",
       "      <td>Honor</td>\n",
       "      <td>Android</td>\n",
       "      <td>15.72</td>\n",
       "      <td>yes</td>\n",
       "      <td>no</td>\n",
       "      <td>13.0</td>\n",
       "      <td>8.0</td>\n",
       "      <td>64.0</td>\n",
       "      <td>3.0</td>\n",
       "      <td>5000.0</td>\n",
       "      <td>185.0</td>\n",
       "      <td>2020</td>\n",
       "      <td>293</td>\n",
       "      <td>140.87</td>\n",
       "      <td>103.80</td>\n",
       "      <td>middle-cost</td>\n",
       "    </tr>\n",
       "  </tbody>\n",
       "</table>\n",
       "</div>"
      ],
      "text/plain": [
       "  brand_name       os  screen_size   4g   5g  main_camera_mp  \\\n",
       "0      Honor  Android        23.97  yes   no            13.0   \n",
       "1      Honor  Android        28.10  yes  yes            13.0   \n",
       "2      Honor  Android        24.29  yes  yes            13.0   \n",
       "3      Honor  Android        26.04  yes  yes            13.0   \n",
       "4      Honor  Android        15.72  yes   no            13.0   \n",
       "\n",
       "   selfie_camera_mp  int_memory  ram  battery  weight release_year  days_used  \\\n",
       "0               5.0        64.0  3.0   3020.0   146.0         2020        127   \n",
       "1              16.0       128.0  8.0   4300.0   213.0         2020        325   \n",
       "2               8.0       128.0  8.0   4200.0   213.0         2020        162   \n",
       "3               8.0        64.0  6.0   7250.0   480.0         2020        345   \n",
       "4               8.0        64.0  3.0   5000.0   185.0         2020        293   \n",
       "\n",
       "   new_price  used_price  price_range  \n",
       "0     111.62       86.96     low-cost  \n",
       "1     249.39      161.49  middle-cost  \n",
       "2     359.47      268.55  middle-cost  \n",
       "3     278.93      180.23  middle-cost  \n",
       "4     140.87      103.80  middle-cost  "
      ]
     },
     "execution_count": 39,
     "metadata": {},
     "output_type": "execute_result"
    }
   ],
   "source": [
    "# Binning phone cost \n",
    "\n",
    "conditions = [\n",
    "(df2[\"used_price\"]<100),\n",
    "(df2[\"used_price\"].between(100, 400, inclusive=True)),\n",
    "(df2[\"used_price\"]>400)\n",
    "]\n",
    "\n",
    "categories = ['low-cost','middle-cost','high-end']\n",
    "\n",
    "df2['price_range']=np.select(conditions, categories)\n",
    "df2.head()"
   ]
  },
  {
   "cell_type": "code",
   "execution_count": 40,
   "metadata": {},
   "outputs": [
    {
     "name": "stdout",
     "output_type": "stream",
     "text": [
      "<class 'pandas.core.frame.DataFrame'>\n",
      "Int64Index: 3368 entries, 0 to 3570\n",
      "Data columns (total 16 columns):\n",
      " #   Column            Non-Null Count  Dtype   \n",
      "---  ------            --------------  -----   \n",
      " 0   brand_name        3368 non-null   category\n",
      " 1   os                3368 non-null   category\n",
      " 2   screen_size       3368 non-null   float64 \n",
      " 3   4g                3368 non-null   category\n",
      " 4   5g                3368 non-null   category\n",
      " 5   main_camera_mp    3368 non-null   float64 \n",
      " 6   selfie_camera_mp  3368 non-null   float64 \n",
      " 7   int_memory        3368 non-null   float64 \n",
      " 8   ram               3368 non-null   float64 \n",
      " 9   battery           3368 non-null   float64 \n",
      " 10  weight            3368 non-null   float64 \n",
      " 11  release_year      3368 non-null   category\n",
      " 12  days_used         3368 non-null   int64   \n",
      " 13  new_price         3368 non-null   float64 \n",
      " 14  used_price        3368 non-null   float64 \n",
      " 15  price_range       3368 non-null   object  \n",
      "dtypes: category(5), float64(9), int64(1), object(1)\n",
      "memory usage: 463.3+ KB\n"
     ]
    }
   ],
   "source": [
    "df2.info()"
   ]
  },
  {
   "cell_type": "code",
   "execution_count": 41,
   "metadata": {
    "scrolled": true
   },
   "outputs": [
    {
     "data": {
      "text/html": [
       "<div>\n",
       "<style scoped>\n",
       "    .dataframe tbody tr th:only-of-type {\n",
       "        vertical-align: middle;\n",
       "    }\n",
       "\n",
       "    .dataframe tbody tr th {\n",
       "        vertical-align: top;\n",
       "    }\n",
       "\n",
       "    .dataframe thead th {\n",
       "        text-align: right;\n",
       "    }\n",
       "</style>\n",
       "<table border=\"1\" class=\"dataframe\">\n",
       "  <thead>\n",
       "    <tr style=\"text-align: right;\">\n",
       "      <th></th>\n",
       "      <th></th>\n",
       "      <th>screen_size</th>\n",
       "      <th>main_camera_mp</th>\n",
       "      <th>selfie_camera_mp</th>\n",
       "      <th>int_memory</th>\n",
       "      <th>ram</th>\n",
       "      <th>battery</th>\n",
       "      <th>weight</th>\n",
       "      <th>days_used</th>\n",
       "      <th>new_price</th>\n",
       "      <th>used_price</th>\n",
       "    </tr>\n",
       "    <tr>\n",
       "      <th>brand_name</th>\n",
       "      <th>price_range</th>\n",
       "      <th></th>\n",
       "      <th></th>\n",
       "      <th></th>\n",
       "      <th></th>\n",
       "      <th></th>\n",
       "      <th></th>\n",
       "      <th></th>\n",
       "      <th></th>\n",
       "      <th></th>\n",
       "      <th></th>\n",
       "    </tr>\n",
       "  </thead>\n",
       "  <tbody>\n",
       "    <tr>\n",
       "      <th rowspan=\"3\" valign=\"top\">Acer</th>\n",
       "      <th>high-end</th>\n",
       "      <td>NaN</td>\n",
       "      <td>NaN</td>\n",
       "      <td>NaN</td>\n",
       "      <td>NaN</td>\n",
       "      <td>NaN</td>\n",
       "      <td>NaN</td>\n",
       "      <td>NaN</td>\n",
       "      <td>NaN</td>\n",
       "      <td>NaN</td>\n",
       "      <td>NaN</td>\n",
       "    </tr>\n",
       "    <tr>\n",
       "      <th>low-cost</th>\n",
       "      <td>14.877442</td>\n",
       "      <td>6.403488</td>\n",
       "      <td>2.353488</td>\n",
       "      <td>23.441860</td>\n",
       "      <td>3.883721</td>\n",
       "      <td>2845.581395</td>\n",
       "      <td>225.753488</td>\n",
       "      <td>825.069767</td>\n",
       "      <td>155.908837</td>\n",
       "      <td>54.084419</td>\n",
       "    </tr>\n",
       "    <tr>\n",
       "      <th>middle-cost</th>\n",
       "      <td>17.223750</td>\n",
       "      <td>10.000000</td>\n",
       "      <td>3.125000</td>\n",
       "      <td>22.000000</td>\n",
       "      <td>4.000000</td>\n",
       "      <td>3827.500000</td>\n",
       "      <td>226.512500</td>\n",
       "      <td>639.250000</td>\n",
       "      <td>264.021250</td>\n",
       "      <td>116.011250</td>\n",
       "    </tr>\n",
       "    <tr>\n",
       "      <th rowspan=\"3\" valign=\"top\">Alcatel</th>\n",
       "      <th>high-end</th>\n",
       "      <td>NaN</td>\n",
       "      <td>NaN</td>\n",
       "      <td>NaN</td>\n",
       "      <td>NaN</td>\n",
       "      <td>NaN</td>\n",
       "      <td>NaN</td>\n",
       "      <td>NaN</td>\n",
       "      <td>NaN</td>\n",
       "      <td>NaN</td>\n",
       "      <td>NaN</td>\n",
       "    </tr>\n",
       "    <tr>\n",
       "      <th>low-cost</th>\n",
       "      <td>12.859279</td>\n",
       "      <td>5.822523</td>\n",
       "      <td>2.191892</td>\n",
       "      <td>37.477477</td>\n",
       "      <td>3.353604</td>\n",
       "      <td>2335.315315</td>\n",
       "      <td>167.145946</td>\n",
       "      <td>766.846847</td>\n",
       "      <td>119.816815</td>\n",
       "      <td>45.024955</td>\n",
       "    </tr>\n",
       "    <tr>\n",
       "      <th>middle-cost</th>\n",
       "      <td>15.262857</td>\n",
       "      <td>10.307143</td>\n",
       "      <td>2.807143</td>\n",
       "      <td>26.285714</td>\n",
       "      <td>4.000000</td>\n",
       "      <td>2853.571429</td>\n",
       "      <td>161.071429</td>\n",
       "      <td>639.928571</td>\n",
       "      <td>322.337143</td>\n",
       "      <td>136.999286</td>\n",
       "    </tr>\n",
       "    <tr>\n",
       "      <th rowspan=\"3\" valign=\"top\">Apple</th>\n",
       "      <th>high-end</th>\n",
       "      <td>20.192667</td>\n",
       "      <td>10.666667</td>\n",
       "      <td>6.480000</td>\n",
       "      <td>188.800000</td>\n",
       "      <td>4.266667</td>\n",
       "      <td>4001.833333</td>\n",
       "      <td>318.226667</td>\n",
       "      <td>480.400000</td>\n",
       "      <td>1025.516100</td>\n",
       "      <td>552.855333</td>\n",
       "    </tr>\n",
       "    <tr>\n",
       "      <th>low-cost</th>\n",
       "      <td>11.430000</td>\n",
       "      <td>9.500000</td>\n",
       "      <td>2.800000</td>\n",
       "      <td>24.000000</td>\n",
       "      <td>4.000000</td>\n",
       "      <td>1726.500000</td>\n",
       "      <td>106.833333</td>\n",
       "      <td>875.833333</td>\n",
       "      <td>287.141667</td>\n",
       "      <td>90.283333</td>\n",
       "    </tr>\n",
       "    <tr>\n",
       "      <th>middle-cost</th>\n",
       "      <td>15.522895</td>\n",
       "      <td>9.947368</td>\n",
       "      <td>4.600000</td>\n",
       "      <td>37.052632</td>\n",
       "      <td>3.894737</td>\n",
       "      <td>3606.763158</td>\n",
       "      <td>207.239474</td>\n",
       "      <td>682.710526</td>\n",
       "      <td>541.992105</td>\n",
       "      <td>222.788684</td>\n",
       "    </tr>\n",
       "    <tr>\n",
       "      <th rowspan=\"3\" valign=\"top\">Asus</th>\n",
       "      <th>high-end</th>\n",
       "      <td>13.970000</td>\n",
       "      <td>13.000000</td>\n",
       "      <td>5.000000</td>\n",
       "      <td>80.000000</td>\n",
       "      <td>4.000000</td>\n",
       "      <td>3200.000000</td>\n",
       "      <td>170.500000</td>\n",
       "      <td>574.500000</td>\n",
       "      <td>974.880000</td>\n",
       "      <td>437.470000</td>\n",
       "    </tr>\n",
       "    <tr>\n",
       "      <th>low-cost</th>\n",
       "      <td>15.177375</td>\n",
       "      <td>9.351875</td>\n",
       "      <td>3.775000</td>\n",
       "      <td>40.000000</td>\n",
       "      <td>3.950000</td>\n",
       "      <td>3206.000000</td>\n",
       "      <td>212.393750</td>\n",
       "      <td>812.687500</td>\n",
       "      <td>176.791625</td>\n",
       "      <td>61.017250</td>\n",
       "    </tr>\n",
       "    <tr>\n",
       "      <th>middle-cost</th>\n",
       "      <td>15.810750</td>\n",
       "      <td>11.175000</td>\n",
       "      <td>5.280000</td>\n",
       "      <td>68.400000</td>\n",
       "      <td>4.100000</td>\n",
       "      <td>3662.775000</td>\n",
       "      <td>225.985000</td>\n",
       "      <td>660.700000</td>\n",
       "      <td>327.620113</td>\n",
       "      <td>142.981750</td>\n",
       "    </tr>\n",
       "    <tr>\n",
       "      <th rowspan=\"3\" valign=\"top\">BlackBerry</th>\n",
       "      <th>high-end</th>\n",
       "      <td>NaN</td>\n",
       "      <td>NaN</td>\n",
       "      <td>NaN</td>\n",
       "      <td>NaN</td>\n",
       "      <td>NaN</td>\n",
       "      <td>NaN</td>\n",
       "      <td>NaN</td>\n",
       "      <td>NaN</td>\n",
       "      <td>NaN</td>\n",
       "      <td>NaN</td>\n",
       "    </tr>\n",
       "    <tr>\n",
       "      <th>low-cost</th>\n",
       "      <td>10.623846</td>\n",
       "      <td>9.615385</td>\n",
       "      <td>2.853846</td>\n",
       "      <td>60.307692</td>\n",
       "      <td>3.711538</td>\n",
       "      <td>2553.461538</td>\n",
       "      <td>159.730769</td>\n",
       "      <td>791.692308</td>\n",
       "      <td>144.850769</td>\n",
       "      <td>52.056923</td>\n",
       "    </tr>\n",
       "    <tr>\n",
       "      <th>middle-cost</th>\n",
       "      <td>11.238000</td>\n",
       "      <td>12.200000</td>\n",
       "      <td>5.600000</td>\n",
       "      <td>51.200000</td>\n",
       "      <td>4.000000</td>\n",
       "      <td>2880.000000</td>\n",
       "      <td>158.400000</td>\n",
       "      <td>583.400000</td>\n",
       "      <td>359.910000</td>\n",
       "      <td>163.572000</td>\n",
       "    </tr>\n",
       "    <tr>\n",
       "      <th rowspan=\"3\" valign=\"top\">Celkon</th>\n",
       "      <th>high-end</th>\n",
       "      <td>NaN</td>\n",
       "      <td>NaN</td>\n",
       "      <td>NaN</td>\n",
       "      <td>NaN</td>\n",
       "      <td>NaN</td>\n",
       "      <td>NaN</td>\n",
       "      <td>NaN</td>\n",
       "      <td>NaN</td>\n",
       "      <td>NaN</td>\n",
       "      <td>NaN</td>\n",
       "    </tr>\n",
       "    <tr>\n",
       "      <th>low-cost</th>\n",
       "      <td>9.554054</td>\n",
       "      <td>3.597297</td>\n",
       "      <td>0.635135</td>\n",
       "      <td>219.675676</td>\n",
       "      <td>1.466216</td>\n",
       "      <td>1459.459459</td>\n",
       "      <td>135.202703</td>\n",
       "      <td>801.405405</td>\n",
       "      <td>60.956486</td>\n",
       "      <td>22.648378</td>\n",
       "    </tr>\n",
       "    <tr>\n",
       "      <th>middle-cost</th>\n",
       "      <td>NaN</td>\n",
       "      <td>NaN</td>\n",
       "      <td>NaN</td>\n",
       "      <td>NaN</td>\n",
       "      <td>NaN</td>\n",
       "      <td>NaN</td>\n",
       "      <td>NaN</td>\n",
       "      <td>NaN</td>\n",
       "      <td>NaN</td>\n",
       "      <td>NaN</td>\n",
       "    </tr>\n",
       "    <tr>\n",
       "      <th rowspan=\"2\" valign=\"top\">Coolpad</th>\n",
       "      <th>high-end</th>\n",
       "      <td>NaN</td>\n",
       "      <td>NaN</td>\n",
       "      <td>NaN</td>\n",
       "      <td>NaN</td>\n",
       "      <td>NaN</td>\n",
       "      <td>NaN</td>\n",
       "      <td>NaN</td>\n",
       "      <td>NaN</td>\n",
       "      <td>NaN</td>\n",
       "      <td>NaN</td>\n",
       "    </tr>\n",
       "    <tr>\n",
       "      <th>low-cost</th>\n",
       "      <td>13.036000</td>\n",
       "      <td>10.666667</td>\n",
       "      <td>5.800000</td>\n",
       "      <td>24.533333</td>\n",
       "      <td>4.000000</td>\n",
       "      <td>2681.333333</td>\n",
       "      <td>147.760000</td>\n",
       "      <td>849.266667</td>\n",
       "      <td>149.450667</td>\n",
       "      <td>51.135333</td>\n",
       "    </tr>\n",
       "  </tbody>\n",
       "</table>\n",
       "</div>"
      ],
      "text/plain": [
       "                        screen_size  main_camera_mp  selfie_camera_mp  \\\n",
       "brand_name price_range                                                  \n",
       "Acer       high-end             NaN             NaN               NaN   \n",
       "           low-cost       14.877442        6.403488          2.353488   \n",
       "           middle-cost    17.223750       10.000000          3.125000   \n",
       "Alcatel    high-end             NaN             NaN               NaN   \n",
       "           low-cost       12.859279        5.822523          2.191892   \n",
       "           middle-cost    15.262857       10.307143          2.807143   \n",
       "Apple      high-end       20.192667       10.666667          6.480000   \n",
       "           low-cost       11.430000        9.500000          2.800000   \n",
       "           middle-cost    15.522895        9.947368          4.600000   \n",
       "Asus       high-end       13.970000       13.000000          5.000000   \n",
       "           low-cost       15.177375        9.351875          3.775000   \n",
       "           middle-cost    15.810750       11.175000          5.280000   \n",
       "BlackBerry high-end             NaN             NaN               NaN   \n",
       "           low-cost       10.623846        9.615385          2.853846   \n",
       "           middle-cost    11.238000       12.200000          5.600000   \n",
       "Celkon     high-end             NaN             NaN               NaN   \n",
       "           low-cost        9.554054        3.597297          0.635135   \n",
       "           middle-cost          NaN             NaN               NaN   \n",
       "Coolpad    high-end             NaN             NaN               NaN   \n",
       "           low-cost       13.036000       10.666667          5.800000   \n",
       "\n",
       "                        int_memory       ram      battery      weight  \\\n",
       "brand_name price_range                                                  \n",
       "Acer       high-end            NaN       NaN          NaN         NaN   \n",
       "           low-cost      23.441860  3.883721  2845.581395  225.753488   \n",
       "           middle-cost   22.000000  4.000000  3827.500000  226.512500   \n",
       "Alcatel    high-end            NaN       NaN          NaN         NaN   \n",
       "           low-cost      37.477477  3.353604  2335.315315  167.145946   \n",
       "           middle-cost   26.285714  4.000000  2853.571429  161.071429   \n",
       "Apple      high-end     188.800000  4.266667  4001.833333  318.226667   \n",
       "           low-cost      24.000000  4.000000  1726.500000  106.833333   \n",
       "           middle-cost   37.052632  3.894737  3606.763158  207.239474   \n",
       "Asus       high-end      80.000000  4.000000  3200.000000  170.500000   \n",
       "           low-cost      40.000000  3.950000  3206.000000  212.393750   \n",
       "           middle-cost   68.400000  4.100000  3662.775000  225.985000   \n",
       "BlackBerry high-end            NaN       NaN          NaN         NaN   \n",
       "           low-cost      60.307692  3.711538  2553.461538  159.730769   \n",
       "           middle-cost   51.200000  4.000000  2880.000000  158.400000   \n",
       "Celkon     high-end            NaN       NaN          NaN         NaN   \n",
       "           low-cost     219.675676  1.466216  1459.459459  135.202703   \n",
       "           middle-cost         NaN       NaN          NaN         NaN   \n",
       "Coolpad    high-end            NaN       NaN          NaN         NaN   \n",
       "           low-cost      24.533333  4.000000  2681.333333  147.760000   \n",
       "\n",
       "                         days_used    new_price  used_price  \n",
       "brand_name price_range                                       \n",
       "Acer       high-end            NaN          NaN         NaN  \n",
       "           low-cost     825.069767   155.908837   54.084419  \n",
       "           middle-cost  639.250000   264.021250  116.011250  \n",
       "Alcatel    high-end            NaN          NaN         NaN  \n",
       "           low-cost     766.846847   119.816815   45.024955  \n",
       "           middle-cost  639.928571   322.337143  136.999286  \n",
       "Apple      high-end     480.400000  1025.516100  552.855333  \n",
       "           low-cost     875.833333   287.141667   90.283333  \n",
       "           middle-cost  682.710526   541.992105  222.788684  \n",
       "Asus       high-end     574.500000   974.880000  437.470000  \n",
       "           low-cost     812.687500   176.791625   61.017250  \n",
       "           middle-cost  660.700000   327.620113  142.981750  \n",
       "BlackBerry high-end            NaN          NaN         NaN  \n",
       "           low-cost     791.692308   144.850769   52.056923  \n",
       "           middle-cost  583.400000   359.910000  163.572000  \n",
       "Celkon     high-end            NaN          NaN         NaN  \n",
       "           low-cost     801.405405    60.956486   22.648378  \n",
       "           middle-cost         NaN          NaN         NaN  \n",
       "Coolpad    high-end            NaN          NaN         NaN  \n",
       "           low-cost     849.266667   149.450667   51.135333  "
      ]
     },
     "execution_count": 41,
     "metadata": {},
     "output_type": "execute_result"
    }
   ],
   "source": [
    "df2agg=df2.groupby([\"brand_name\", \"price_range\"]).mean()\n",
    "\n",
    "#df2agg = df2.groupby('brand_name')[\"price_range\"]\n",
    "df2agg.head(20)"
   ]
  },
  {
   "cell_type": "raw",
   "metadata": {},
   "source": [
    "Through the groupby's, we can see that every brand doesn't have each tier of phones. This is a useful column since we can see which brands have all three cost categories of phones. We can see which brands of phones are more affordable to some people."
   ]
  },
  {
   "cell_type": "markdown",
   "metadata": {},
   "source": [
    "EDA continued"
   ]
  },
  {
   "cell_type": "code",
   "execution_count": 42,
   "metadata": {},
   "outputs": [
    {
     "data": {
      "image/png": "[encoded data removed]",
      "text/plain": [
       "<Figure size 288x360 with 1 Axes>"
      ]
     },
     "metadata": {
      "needs_background": "light"
     },
     "output_type": "display_data"
    }
   ],
   "source": [
    "labeled_barplot(df2, \"price_range\", perc=True)"
   ]
  },
  {
   "cell_type": "markdown",
   "metadata": {},
   "source": [
    "There are very few phones that are considered high end. Most used phones fall within the low-cost range."
   ]
  },
  {
   "cell_type": "code",
   "execution_count": 45,
   "metadata": {},
   "outputs": [
    {
     "data": {
      "image/png": "[encoded data removed]",
      "text/plain": [
       "<Figure size 720x504 with 1 Axes>"
      ]
     },
     "metadata": {
      "needs_background": "light"
     },
     "output_type": "display_data"
    }
   ],
   "source": [
    "#I would like to compare release year vs days used vs price range\n",
    "plt.figure(figsize=(10, 7))\n",
    "sns.scatterplot(y=\"release_year\", x=\"days_used\", hue=\"price_range\", data=df2)\n",
    "plt.show()"
   ]
  },
  {
   "cell_type": "markdown",
   "metadata": {},
   "source": [
    "You can see that the earlier the phone was released, the more likely it was a low-cost or middle-cost phone. You also see that the earlier the phone was released, between 2013 and 2017, that phones were being used on average for more than approximately 550 days. "
   ]
  },
  {
   "cell_type": "code",
   "execution_count": 46,
   "metadata": {},
   "outputs": [
    {
     "data": {
      "image/png": "[encoded data removed]",
      "text/plain": [
       "<Figure size 720x504 with 2 Axes>"
      ]
     },
     "metadata": {
      "needs_background": "light"
     },
     "output_type": "display_data"
    }
   ],
   "source": [
    "df_hm = df2.pivot_table(\n",
    "    index=\"price_range\", columns=\"os\", values=\"ram\", aggfunc=np.median\n",
    ")\n",
    "\n",
    "# Draw a heatmap\n",
    "f, ax = plt.subplots(figsize=(10, 7))\n",
    "sns.heatmap(df_hm, cmap=\"Spectral\", linewidths=0.5, annot=True, ax=ax)\n",
    "plt.show()"
   ]
  },
  {
   "cell_type": "markdown",
   "metadata": {},
   "source": [
    "The high-end phones use mostly Android or other. The low to middle cost phones use all types of os. "
   ]
  },
  {
   "cell_type": "markdown",
   "metadata": {},
   "source": [
    "## Outlier Detection"
   ]
  },
  {
   "cell_type": "markdown",
   "metadata": {},
   "source": [
    "Let's look at outliers in every numerical column"
   ]
  },
  {
   "cell_type": "code",
   "execution_count": 47,
   "metadata": {},
   "outputs": [
    {
     "data": {
      "image/png": "[encoded data removed]",
      "text/plain": [
       "<Figure size 1440x2160 with 10 Axes>"
      ]
     },
     "metadata": {
      "needs_background": "light"
     },
     "output_type": "display_data"
    }
   ],
   "source": [
    "# let's plot the boxplots of all columns to check for outliers\n",
    "plt.figure(figsize=(20, 30))\n",
    "\n",
    "for i, variable in enumerate(numeric_columns):\n",
    "    plt.subplot(5, 4, i + 1)\n",
    "    plt.boxplot(df2[variable], whis=1.5)\n",
    "    plt.tight_layout()\n",
    "    plt.title(variable)\n",
    "\n",
    "plt.show()"
   ]
  },
  {
   "cell_type": "markdown",
   "metadata": {},
   "source": [
    "Observations:\n",
    "    \n",
    "    There are high and low outliers in screen_size, ram, and weight.\n",
    "    There are just high outliers in main_camera_mp, selfie_camera_mp, int_memory, battery, new_price, and used_price.\n",
    "    The only one that doesn't have any ouliers is days_used.\n",
    "    No variable has just low outliers, it is either high and low outliers or just high outliers.\n",
    "    We will treat the outliers as if they would affect the linear model."
   ]
  },
  {
   "cell_type": "markdown",
   "metadata": {},
   "source": [
    "Outlier Treatment"
   ]
  },
  {
   "cell_type": "markdown",
   "metadata": {},
   "source": [
    "I will use flooring and capping to treat the outliers."
   ]
  },
  {
   "cell_type": "code",
   "execution_count": 48,
   "metadata": {},
   "outputs": [],
   "source": [
    "def treat_outliers(df2, col):\n",
    "    \"\"\"\n",
    "    treats outliers in a variable\n",
    "    col: str, name of the numerical variable\n",
    "    df: dataframe\n",
    "    col: name of the column\n",
    "    \"\"\"\n",
    "    Q1 = df2[col].quantile(0.25)  # 25th quantile\n",
    "    Q3 = df2[col].quantile(0.75)  # 75th quantile\n",
    "    IQR = Q3 - Q1\n",
    "    Lower_Whisker = Q1 - 1.5 * IQR\n",
    "    Upper_Whisker = Q3 + 1.5 * IQR\n",
    "\n",
    "    # all the values smaller than Lower_Whisker will be assigned the value of Lower_Whisker\n",
    "    # all the values greater than Upper_Whisker will be assigned the value of Upper_Whisker\n",
    "    df2[col] = np.clip(df2[col], Lower_Whisker, Upper_Whisker)\n",
    "\n",
    "    return df2\n",
    "\n",
    "\n",
    "def treat_outliers_all(df2, col_list):\n",
    "    \"\"\"\n",
    "    treat outlier in all numerical variables\n",
    "    col_list: list of numerical variables\n",
    "    df: data frame\n",
    "    \"\"\"\n",
    "    for c in col_list:\n",
    "        df2 = treat_outliers(df2, c)\n",
    "\n",
    "    return df2"
   ]
  },
  {
   "cell_type": "code",
   "execution_count": 49,
   "metadata": {},
   "outputs": [],
   "source": [
    "# treating the outliers\n",
    "numerical_col = df2.select_dtypes(include=np.number).columns.tolist()\n",
    "df2 = treat_outliers_all(df2, numerical_col)"
   ]
  },
  {
   "cell_type": "code",
   "execution_count": 45,
   "metadata": {},
   "outputs": [
    {
     "data": {
      "image/png": "[encoded data removed]",
      "text/plain": [
       "<Figure size 1440x2160 with 10 Axes>"
      ]
     },
     "metadata": {
      "needs_background": "light"
     },
     "output_type": "display_data"
    }
   ],
   "source": [
    "# let's look at the boxplots to see if the outliers have been treated or not\n",
    "plt.figure(figsize=(20, 30))\n",
    "\n",
    "for i, variable in enumerate(numeric_columns):\n",
    "    plt.subplot(5, 4, i + 1)\n",
    "    plt.boxplot(df2[variable], whis=1.5)\n",
    "    plt.tight_layout()\n",
    "    plt.title(variable)\n",
    "\n",
    "plt.show()"
   ]
  },
  {
   "cell_type": "markdown",
   "metadata": {},
   "source": [
    "The outliers have successfully been removed and treated."
   ]
  },
  {
   "cell_type": "code",
   "execution_count": 50,
   "metadata": {},
   "outputs": [
    {
     "data": {
      "text/plain": [
       "0        (52.527, 100.35]\n",
       "1       (100.35, 233.229]\n",
       "2       (100.35, 233.229]\n",
       "3       (100.35, 233.229]\n",
       "4       (100.35, 233.229]\n",
       "              ...        \n",
       "3564    (100.35, 233.229]\n",
       "3567    (100.35, 233.229]\n",
       "3568     (52.527, 100.35]\n",
       "3569     (52.527, 100.35]\n",
       "3570      (2.509, 52.527]\n",
       "Name: used_price, Length: 3368, dtype: category\n",
       "Categories (3, interval[float64]): [(2.509, 52.527] < (52.527, 100.35] < (100.35, 233.229]]"
      ]
     },
     "execution_count": 50,
     "metadata": {},
     "output_type": "execute_result"
    }
   ],
   "source": [
    "pd.qcut(df2['used_price'], q=3)"
   ]
  },
  {
   "cell_type": "markdown",
   "metadata": {},
   "source": [
    "With the cutting of the outliers, the data no longer has any high-cost phones. The highest phone is now at 233 euros. Therefore, I will redefine the bins to create the three categories with new prices. "
   ]
  },
  {
   "cell_type": "code",
   "execution_count": 52,
   "metadata": {
    "scrolled": true
   },
   "outputs": [
    {
     "data": {
      "text/html": [
       "<div>\n",
       "<style scoped>\n",
       "    .dataframe tbody tr th:only-of-type {\n",
       "        vertical-align: middle;\n",
       "    }\n",
       "\n",
       "    .dataframe tbody tr th {\n",
       "        vertical-align: top;\n",
       "    }\n",
       "\n",
       "    .dataframe thead th {\n",
       "        text-align: right;\n",
       "    }\n",
       "</style>\n",
       "<table border=\"1\" class=\"dataframe\">\n",
       "  <thead>\n",
       "    <tr style=\"text-align: right;\">\n",
       "      <th></th>\n",
       "      <th>brand_name</th>\n",
       "      <th>os</th>\n",
       "      <th>screen_size</th>\n",
       "      <th>4g</th>\n",
       "      <th>5g</th>\n",
       "      <th>main_camera_mp</th>\n",
       "      <th>selfie_camera_mp</th>\n",
       "      <th>int_memory</th>\n",
       "      <th>ram</th>\n",
       "      <th>battery</th>\n",
       "      <th>weight</th>\n",
       "      <th>release_year</th>\n",
       "      <th>days_used</th>\n",
       "      <th>new_price</th>\n",
       "      <th>used_price</th>\n",
       "      <th>price_range</th>\n",
       "    </tr>\n",
       "  </thead>\n",
       "  <tbody>\n",
       "    <tr>\n",
       "      <th>0</th>\n",
       "      <td>Honor</td>\n",
       "      <td>Android</td>\n",
       "      <td>22.93</td>\n",
       "      <td>yes</td>\n",
       "      <td>no</td>\n",
       "      <td>13.0</td>\n",
       "      <td>5.0</td>\n",
       "      <td>64.0</td>\n",
       "      <td>4.0</td>\n",
       "      <td>3020.0</td>\n",
       "      <td>146.0</td>\n",
       "      <td>2020</td>\n",
       "      <td>127</td>\n",
       "      <td>111.62</td>\n",
       "      <td>86.96000</td>\n",
       "      <td>middle-cost</td>\n",
       "    </tr>\n",
       "    <tr>\n",
       "      <th>1</th>\n",
       "      <td>Honor</td>\n",
       "      <td>Android</td>\n",
       "      <td>22.93</td>\n",
       "      <td>yes</td>\n",
       "      <td>yes</td>\n",
       "      <td>13.0</td>\n",
       "      <td>16.0</td>\n",
       "      <td>128.0</td>\n",
       "      <td>4.0</td>\n",
       "      <td>4300.0</td>\n",
       "      <td>213.0</td>\n",
       "      <td>2020</td>\n",
       "      <td>325</td>\n",
       "      <td>249.39</td>\n",
       "      <td>161.49000</td>\n",
       "      <td>high-end</td>\n",
       "    </tr>\n",
       "    <tr>\n",
       "      <th>2</th>\n",
       "      <td>Honor</td>\n",
       "      <td>Android</td>\n",
       "      <td>22.93</td>\n",
       "      <td>yes</td>\n",
       "      <td>yes</td>\n",
       "      <td>13.0</td>\n",
       "      <td>8.0</td>\n",
       "      <td>128.0</td>\n",
       "      <td>4.0</td>\n",
       "      <td>4200.0</td>\n",
       "      <td>213.0</td>\n",
       "      <td>2020</td>\n",
       "      <td>162</td>\n",
       "      <td>359.47</td>\n",
       "      <td>233.22875</td>\n",
       "      <td>high-end</td>\n",
       "    </tr>\n",
       "    <tr>\n",
       "      <th>3</th>\n",
       "      <td>Honor</td>\n",
       "      <td>Android</td>\n",
       "      <td>22.93</td>\n",
       "      <td>yes</td>\n",
       "      <td>yes</td>\n",
       "      <td>13.0</td>\n",
       "      <td>8.0</td>\n",
       "      <td>64.0</td>\n",
       "      <td>4.0</td>\n",
       "      <td>6675.0</td>\n",
       "      <td>240.0</td>\n",
       "      <td>2020</td>\n",
       "      <td>345</td>\n",
       "      <td>278.93</td>\n",
       "      <td>180.23000</td>\n",
       "      <td>high-end</td>\n",
       "    </tr>\n",
       "    <tr>\n",
       "      <th>4</th>\n",
       "      <td>Honor</td>\n",
       "      <td>Android</td>\n",
       "      <td>15.72</td>\n",
       "      <td>yes</td>\n",
       "      <td>no</td>\n",
       "      <td>13.0</td>\n",
       "      <td>8.0</td>\n",
       "      <td>64.0</td>\n",
       "      <td>4.0</td>\n",
       "      <td>5000.0</td>\n",
       "      <td>185.0</td>\n",
       "      <td>2020</td>\n",
       "      <td>293</td>\n",
       "      <td>140.87</td>\n",
       "      <td>103.80000</td>\n",
       "      <td>high-end</td>\n",
       "    </tr>\n",
       "  </tbody>\n",
       "</table>\n",
       "</div>"
      ],
      "text/plain": [
       "  brand_name       os  screen_size   4g   5g  main_camera_mp  \\\n",
       "0      Honor  Android        22.93  yes   no            13.0   \n",
       "1      Honor  Android        22.93  yes  yes            13.0   \n",
       "2      Honor  Android        22.93  yes  yes            13.0   \n",
       "3      Honor  Android        22.93  yes  yes            13.0   \n",
       "4      Honor  Android        15.72  yes   no            13.0   \n",
       "\n",
       "   selfie_camera_mp  int_memory  ram  battery  weight release_year  days_used  \\\n",
       "0               5.0        64.0  4.0   3020.0   146.0         2020        127   \n",
       "1              16.0       128.0  4.0   4300.0   213.0         2020        325   \n",
       "2               8.0       128.0  4.0   4200.0   213.0         2020        162   \n",
       "3               8.0        64.0  4.0   6675.0   240.0         2020        345   \n",
       "4               8.0        64.0  4.0   5000.0   185.0         2020        293   \n",
       "\n",
       "   new_price  used_price  price_range  \n",
       "0     111.62    86.96000  middle-cost  \n",
       "1     249.39   161.49000     high-end  \n",
       "2     359.47   233.22875     high-end  \n",
       "3     278.93   180.23000     high-end  \n",
       "4     140.87   103.80000     high-end  "
      ]
     },
     "execution_count": 52,
     "metadata": {},
     "output_type": "execute_result"
    }
   ],
   "source": [
    "#I am redefining the categories for low-cost, middle-cost, and high-end brand names. \n",
    "\n",
    "conditions = [\n",
    "(df2[\"used_price\"]<52),\n",
    "(df2[\"used_price\"].between(52, 100, inclusive=True)),\n",
    "(df2[\"used_price\"]>100)\n",
    "]\n",
    "\n",
    "categories = ['low-cost','middle-cost','high-end']\n",
    "\n",
    "df2['price_range']=np.select(conditions, categories)\n",
    "df2.head()"
   ]
  },
  {
   "cell_type": "markdown",
   "metadata": {},
   "source": [
    "## Linear Model Building"
   ]
  },
  {
   "cell_type": "markdown",
   "metadata": {},
   "source": [
    "We want to predict the price of a used phone and identify factors that significantly influence it.\n",
    "\n",
    "Before we proceed to build a model, we'll have to encode categorical features.\n",
    "\n",
    "We'll split the data into train and test to be able to evaluate the model that we build on the train data.\n",
    "\n",
    "We will build a Linear Regression model using the train data and then check it's performance."
   ]
  },
  {
   "cell_type": "code",
   "execution_count": 57,
   "metadata": {},
   "outputs": [
    {
     "name": "stdout",
     "output_type": "stream",
     "text": [
      "  brand_name  screen_size  main_camera_mp  selfie_camera_mp  int_memory  ram  \\\n",
      "0      Honor        22.93            13.0               5.0        64.0  4.0   \n",
      "1      Honor        22.93            13.0              16.0       128.0  4.0   \n",
      "2      Honor        22.93            13.0               8.0       128.0  4.0   \n",
      "3      Honor        22.93            13.0               8.0        64.0  4.0   \n",
      "4      Honor        15.72            13.0               8.0        64.0  4.0   \n",
      "\n",
      "   battery  weight release_year  days_used  new_price  price_range  \n",
      "0   3020.0   146.0         2020        127     111.62  middle-cost  \n",
      "1   4300.0   213.0         2020        325     249.39     high-end  \n",
      "2   4200.0   213.0         2020        162     359.47     high-end  \n",
      "3   6675.0   240.0         2020        345     278.93     high-end  \n",
      "4   5000.0   185.0         2020        293     140.87     high-end  \n",
      "0     86.96000\n",
      "1    161.49000\n",
      "2    233.22875\n",
      "3    180.23000\n",
      "4    103.80000\n",
      "Name: used_price, dtype: float64\n"
     ]
    }
   ],
   "source": [
    "# defining X and y variables\n",
    "#dropping used price since this is what we are trying to predict\n",
    "X = df2.drop([\"used_price\", \"4g\",\"5g\",\"os\"], axis=1)\n",
    "y = df2[\"used_price\"]\n",
    "\n",
    "print(X.head())\n",
    "print(y.head())"
   ]
  },
  {
   "cell_type": "code",
   "execution_count": 58,
   "metadata": {
    "scrolled": true
   },
   "outputs": [
    {
     "data": {
      "text/html": [
       "<div>\n",
       "<style scoped>\n",
       "    .dataframe tbody tr th:only-of-type {\n",
       "        vertical-align: middle;\n",
       "    }\n",
       "\n",
       "    .dataframe tbody tr th {\n",
       "        vertical-align: top;\n",
       "    }\n",
       "\n",
       "    .dataframe thead th {\n",
       "        text-align: right;\n",
       "    }\n",
       "</style>\n",
       "<table border=\"1\" class=\"dataframe\">\n",
       "  <thead>\n",
       "    <tr style=\"text-align: right;\">\n",
       "      <th></th>\n",
       "      <th>screen_size</th>\n",
       "      <th>main_camera_mp</th>\n",
       "      <th>selfie_camera_mp</th>\n",
       "      <th>int_memory</th>\n",
       "      <th>ram</th>\n",
       "      <th>battery</th>\n",
       "      <th>weight</th>\n",
       "      <th>days_used</th>\n",
       "      <th>new_price</th>\n",
       "      <th>brand_name_Alcatel</th>\n",
       "      <th>...</th>\n",
       "      <th>brand_name_ZTE</th>\n",
       "      <th>release_year_2014</th>\n",
       "      <th>release_year_2015</th>\n",
       "      <th>release_year_2016</th>\n",
       "      <th>release_year_2017</th>\n",
       "      <th>release_year_2018</th>\n",
       "      <th>release_year_2019</th>\n",
       "      <th>release_year_2020</th>\n",
       "      <th>price_range_low-cost</th>\n",
       "      <th>price_range_middle-cost</th>\n",
       "    </tr>\n",
       "  </thead>\n",
       "  <tbody>\n",
       "    <tr>\n",
       "      <th>0</th>\n",
       "      <td>22.93</td>\n",
       "      <td>13.0</td>\n",
       "      <td>5.0</td>\n",
       "      <td>64.0</td>\n",
       "      <td>4.0</td>\n",
       "      <td>3020.0</td>\n",
       "      <td>146.0</td>\n",
       "      <td>127</td>\n",
       "      <td>111.62</td>\n",
       "      <td>0</td>\n",
       "      <td>...</td>\n",
       "      <td>0</td>\n",
       "      <td>0</td>\n",
       "      <td>0</td>\n",
       "      <td>0</td>\n",
       "      <td>0</td>\n",
       "      <td>0</td>\n",
       "      <td>0</td>\n",
       "      <td>1</td>\n",
       "      <td>0</td>\n",
       "      <td>1</td>\n",
       "    </tr>\n",
       "    <tr>\n",
       "      <th>1</th>\n",
       "      <td>22.93</td>\n",
       "      <td>13.0</td>\n",
       "      <td>16.0</td>\n",
       "      <td>128.0</td>\n",
       "      <td>4.0</td>\n",
       "      <td>4300.0</td>\n",
       "      <td>213.0</td>\n",
       "      <td>325</td>\n",
       "      <td>249.39</td>\n",
       "      <td>0</td>\n",
       "      <td>...</td>\n",
       "      <td>0</td>\n",
       "      <td>0</td>\n",
       "      <td>0</td>\n",
       "      <td>0</td>\n",
       "      <td>0</td>\n",
       "      <td>0</td>\n",
       "      <td>0</td>\n",
       "      <td>1</td>\n",
       "      <td>0</td>\n",
       "      <td>0</td>\n",
       "    </tr>\n",
       "    <tr>\n",
       "      <th>2</th>\n",
       "      <td>22.93</td>\n",
       "      <td>13.0</td>\n",
       "      <td>8.0</td>\n",
       "      <td>128.0</td>\n",
       "      <td>4.0</td>\n",
       "      <td>4200.0</td>\n",
       "      <td>213.0</td>\n",
       "      <td>162</td>\n",
       "      <td>359.47</td>\n",
       "      <td>0</td>\n",
       "      <td>...</td>\n",
       "      <td>0</td>\n",
       "      <td>0</td>\n",
       "      <td>0</td>\n",
       "      <td>0</td>\n",
       "      <td>0</td>\n",
       "      <td>0</td>\n",
       "      <td>0</td>\n",
       "      <td>1</td>\n",
       "      <td>0</td>\n",
       "      <td>0</td>\n",
       "    </tr>\n",
       "    <tr>\n",
       "      <th>3</th>\n",
       "      <td>22.93</td>\n",
       "      <td>13.0</td>\n",
       "      <td>8.0</td>\n",
       "      <td>64.0</td>\n",
       "      <td>4.0</td>\n",
       "      <td>6675.0</td>\n",
       "      <td>240.0</td>\n",
       "      <td>345</td>\n",
       "      <td>278.93</td>\n",
       "      <td>0</td>\n",
       "      <td>...</td>\n",
       "      <td>0</td>\n",
       "      <td>0</td>\n",
       "      <td>0</td>\n",
       "      <td>0</td>\n",
       "      <td>0</td>\n",
       "      <td>0</td>\n",
       "      <td>0</td>\n",
       "      <td>1</td>\n",
       "      <td>0</td>\n",
       "      <td>0</td>\n",
       "    </tr>\n",
       "    <tr>\n",
       "      <th>4</th>\n",
       "      <td>15.72</td>\n",
       "      <td>13.0</td>\n",
       "      <td>8.0</td>\n",
       "      <td>64.0</td>\n",
       "      <td>4.0</td>\n",
       "      <td>5000.0</td>\n",
       "      <td>185.0</td>\n",
       "      <td>293</td>\n",
       "      <td>140.87</td>\n",
       "      <td>0</td>\n",
       "      <td>...</td>\n",
       "      <td>0</td>\n",
       "      <td>0</td>\n",
       "      <td>0</td>\n",
       "      <td>0</td>\n",
       "      <td>0</td>\n",
       "      <td>0</td>\n",
       "      <td>0</td>\n",
       "      <td>1</td>\n",
       "      <td>0</td>\n",
       "      <td>0</td>\n",
       "    </tr>\n",
       "  </tbody>\n",
       "</table>\n",
       "<p>5 rows × 50 columns</p>\n",
       "</div>"
      ],
      "text/plain": [
       "   screen_size  main_camera_mp  selfie_camera_mp  int_memory  ram  battery  \\\n",
       "0        22.93            13.0               5.0        64.0  4.0   3020.0   \n",
       "1        22.93            13.0              16.0       128.0  4.0   4300.0   \n",
       "2        22.93            13.0               8.0       128.0  4.0   4200.0   \n",
       "3        22.93            13.0               8.0        64.0  4.0   6675.0   \n",
       "4        15.72            13.0               8.0        64.0  4.0   5000.0   \n",
       "\n",
       "   weight  days_used  new_price  brand_name_Alcatel  ...  brand_name_ZTE  \\\n",
       "0   146.0        127     111.62                   0  ...               0   \n",
       "1   213.0        325     249.39                   0  ...               0   \n",
       "2   213.0        162     359.47                   0  ...               0   \n",
       "3   240.0        345     278.93                   0  ...               0   \n",
       "4   185.0        293     140.87                   0  ...               0   \n",
       "\n",
       "   release_year_2014  release_year_2015  release_year_2016  release_year_2017  \\\n",
       "0                  0                  0                  0                  0   \n",
       "1                  0                  0                  0                  0   \n",
       "2                  0                  0                  0                  0   \n",
       "3                  0                  0                  0                  0   \n",
       "4                  0                  0                  0                  0   \n",
       "\n",
       "   release_year_2018  release_year_2019  release_year_2020  \\\n",
       "0                  0                  0                  1   \n",
       "1                  0                  0                  1   \n",
       "2                  0                  0                  1   \n",
       "3                  0                  0                  1   \n",
       "4                  0                  0                  1   \n",
       "\n",
       "   price_range_low-cost  price_range_middle-cost  \n",
       "0                     0                        1  \n",
       "1                     0                        0  \n",
       "2                     0                        0  \n",
       "3                     0                        0  \n",
       "4                     0                        0  \n",
       "\n",
       "[5 rows x 50 columns]"
      ]
     },
     "execution_count": 58,
     "metadata": {},
     "output_type": "execute_result"
    }
   ],
   "source": [
    "X = pd.get_dummies(\n",
    "    X,\n",
    "    columns=X.select_dtypes(include=[\"object\", \"category\"]).columns.tolist(),\n",
    "    drop_first=True,\n",
    ")\n",
    "X.head()"
   ]
  },
  {
   "cell_type": "code",
   "execution_count": 59,
   "metadata": {},
   "outputs": [
    {
     "name": "stdout",
     "output_type": "stream",
     "text": [
      "<class 'pandas.core.frame.DataFrame'>\n",
      "Int64Index: 3368 entries, 0 to 3570\n",
      "Data columns (total 50 columns):\n",
      " #   Column                   Non-Null Count  Dtype  \n",
      "---  ------                   --------------  -----  \n",
      " 0   screen_size              3368 non-null   float64\n",
      " 1   main_camera_mp           3368 non-null   float64\n",
      " 2   selfie_camera_mp         3368 non-null   float64\n",
      " 3   int_memory               3368 non-null   float64\n",
      " 4   ram                      3368 non-null   float64\n",
      " 5   battery                  3368 non-null   float64\n",
      " 6   weight                   3368 non-null   float64\n",
      " 7   days_used                3368 non-null   int64  \n",
      " 8   new_price                3368 non-null   float64\n",
      " 9   brand_name_Alcatel       3368 non-null   uint8  \n",
      " 10  brand_name_Apple         3368 non-null   uint8  \n",
      " 11  brand_name_Asus          3368 non-null   uint8  \n",
      " 12  brand_name_BlackBerry    3368 non-null   uint8  \n",
      " 13  brand_name_Celkon        3368 non-null   uint8  \n",
      " 14  brand_name_Coolpad       3368 non-null   uint8  \n",
      " 15  brand_name_Gionee        3368 non-null   uint8  \n",
      " 16  brand_name_Google        3368 non-null   uint8  \n",
      " 17  brand_name_HTC           3368 non-null   uint8  \n",
      " 18  brand_name_Honor         3368 non-null   uint8  \n",
      " 19  brand_name_Huawei        3368 non-null   uint8  \n",
      " 20  brand_name_Karbonn       3368 non-null   uint8  \n",
      " 21  brand_name_LG            3368 non-null   uint8  \n",
      " 22  brand_name_Lava          3368 non-null   uint8  \n",
      " 23  brand_name_Lenovo        3368 non-null   uint8  \n",
      " 24  brand_name_Meizu         3368 non-null   uint8  \n",
      " 25  brand_name_Micromax      3368 non-null   uint8  \n",
      " 26  brand_name_Microsoft     3368 non-null   uint8  \n",
      " 27  brand_name_Motorola      3368 non-null   uint8  \n",
      " 28  brand_name_Nokia         3368 non-null   uint8  \n",
      " 29  brand_name_OnePlus       3368 non-null   uint8  \n",
      " 30  brand_name_Oppo          3368 non-null   uint8  \n",
      " 31  brand_name_Others        3368 non-null   uint8  \n",
      " 32  brand_name_Panasonic     3368 non-null   uint8  \n",
      " 33  brand_name_Realme        3368 non-null   uint8  \n",
      " 34  brand_name_Samsung       3368 non-null   uint8  \n",
      " 35  brand_name_Sony          3368 non-null   uint8  \n",
      " 36  brand_name_Spice         3368 non-null   uint8  \n",
      " 37  brand_name_Vivo          3368 non-null   uint8  \n",
      " 38  brand_name_XOLO          3368 non-null   uint8  \n",
      " 39  brand_name_Xiaomi        3368 non-null   uint8  \n",
      " 40  brand_name_ZTE           3368 non-null   uint8  \n",
      " 41  release_year_2014        3368 non-null   uint8  \n",
      " 42  release_year_2015        3368 non-null   uint8  \n",
      " 43  release_year_2016        3368 non-null   uint8  \n",
      " 44  release_year_2017        3368 non-null   uint8  \n",
      " 45  release_year_2018        3368 non-null   uint8  \n",
      " 46  release_year_2019        3368 non-null   uint8  \n",
      " 47  release_year_2020        3368 non-null   uint8  \n",
      " 48  price_range_low-cost     3368 non-null   uint8  \n",
      " 49  price_range_middle-cost  3368 non-null   uint8  \n",
      "dtypes: float64(8), int64(1), uint8(41)\n",
      "memory usage: 527.0 KB\n"
     ]
    }
   ],
   "source": [
    "X.info()"
   ]
  },
  {
   "cell_type": "code",
   "execution_count": 60,
   "metadata": {},
   "outputs": [],
   "source": [
    "# to split the data into train and test\n",
    "from sklearn.model_selection import train_test_split\n",
    "\n",
    "# to build linear regression_model\n",
    "from sklearn.linear_model import LinearRegression\n",
    "\n",
    "# to check model performance\n",
    "from sklearn.metrics import mean_absolute_error, mean_squared_error, r2_score\n",
    "\n",
    "# to build linear regression_model using statsmodels\n",
    "import statsmodels.api as sm"
   ]
  },
  {
   "cell_type": "code",
   "execution_count": 61,
   "metadata": {},
   "outputs": [],
   "source": [
    "# splitting the data in 70:30 ratio for train to test data\n",
    "\n",
    "x_train, x_test, y_train, y_test = train_test_split(\n",
    "    X, y, test_size=0.3, random_state=42\n",
    ")"
   ]
  },
  {
   "cell_type": "code",
   "execution_count": 62,
   "metadata": {},
   "outputs": [
    {
     "name": "stdout",
     "output_type": "stream",
     "text": [
      "Number of rows in train data = 2357\n",
      "Number of rows in test data = 1011\n"
     ]
    }
   ],
   "source": [
    "print(\"Number of rows in train data =\", x_train.shape[0])\n",
    "print(\"Number of rows in test data =\", x_test.shape[0])"
   ]
  },
  {
   "cell_type": "code",
   "execution_count": 63,
   "metadata": {},
   "outputs": [],
   "source": [
    "# fitting the model on the train data (70% of the whole data)\n",
    "from sklearn.linear_model import LinearRegression"
   ]
  },
  {
   "cell_type": "code",
   "execution_count": 64,
   "metadata": {},
   "outputs": [
    {
     "data": {
      "text/plain": [
       "LinearRegression()"
      ]
     },
     "execution_count": 64,
     "metadata": {},
     "output_type": "execute_result"
    }
   ],
   "source": [
    "linearregression = LinearRegression()\n",
    "linearregression.fit(x_train, y_train)"
   ]
  },
  {
   "cell_type": "code",
   "execution_count": 65,
   "metadata": {},
   "outputs": [
    {
     "data": {
      "text/plain": [
       "array([ 3.43250713e-02, -1.87151729e-01,  4.91018173e-01,  5.92854147e-02,\n",
       "       -9.10679865e-12,  1.31779077e-04,  1.06576851e-02, -6.92978917e-02,\n",
       "        3.37288549e-01, -9.04656899e-01,  8.00860998e+00,  2.30616467e-01,\n",
       "        3.40708443e+00, -4.82807284e+00, -3.63286443e+00, -4.01390192e+00,\n",
       "        1.02891778e+01, -2.23711613e+00,  1.49552611e+00, -8.69693266e-01,\n",
       "       -5.03688766e-01,  2.46936957e-01, -6.42693238e-01, -2.68550079e+00,\n",
       "       -3.86381907e+00, -3.56027473e-01, -2.73052572e+00, -2.31405262e+00,\n",
       "       -1.03093328e+01, -1.02322480e+01, -4.27600814e+00, -4.21409140e-01,\n",
       "        8.35486244e-01, -1.32724440e+01, -2.12872842e+00, -1.92233842e+00,\n",
       "        1.55060930e+00,  5.72777865e-02,  2.94686805e+00, -1.03580435e+00,\n",
       "       -1.15996048e+00, -3.26639335e-01, -3.58902479e-01, -8.31932325e-01,\n",
       "       -4.24867916e+00,  1.41574854e+00,  4.73597655e+00,  2.51949908e+00,\n",
       "       -1.66977934e+01, -1.66703838e+01])"
      ]
     },
     "execution_count": 65,
     "metadata": {},
     "output_type": "execute_result"
    }
   ],
   "source": [
    "linearregression.coef_"
   ]
  },
  {
   "cell_type": "code",
   "execution_count": 66,
   "metadata": {},
   "outputs": [
    {
     "data": {
      "text/html": [
       "<div>\n",
       "<style scoped>\n",
       "    .dataframe tbody tr th:only-of-type {\n",
       "        vertical-align: middle;\n",
       "    }\n",
       "\n",
       "    .dataframe tbody tr th {\n",
       "        vertical-align: top;\n",
       "    }\n",
       "\n",
       "    .dataframe thead th {\n",
       "        text-align: right;\n",
       "    }\n",
       "</style>\n",
       "<table border=\"1\" class=\"dataframe\">\n",
       "  <thead>\n",
       "    <tr style=\"text-align: right;\">\n",
       "      <th></th>\n",
       "      <th>Coefficients</th>\n",
       "    </tr>\n",
       "  </thead>\n",
       "  <tbody>\n",
       "    <tr>\n",
       "      <th>screen_size</th>\n",
       "      <td>3.432507e-02</td>\n",
       "    </tr>\n",
       "    <tr>\n",
       "      <th>main_camera_mp</th>\n",
       "      <td>-1.871517e-01</td>\n",
       "    </tr>\n",
       "    <tr>\n",
       "      <th>selfie_camera_mp</th>\n",
       "      <td>4.910182e-01</td>\n",
       "    </tr>\n",
       "    <tr>\n",
       "      <th>int_memory</th>\n",
       "      <td>5.928541e-02</td>\n",
       "    </tr>\n",
       "    <tr>\n",
       "      <th>ram</th>\n",
       "      <td>-9.106799e-12</td>\n",
       "    </tr>\n",
       "    <tr>\n",
       "      <th>battery</th>\n",
       "      <td>1.317791e-04</td>\n",
       "    </tr>\n",
       "    <tr>\n",
       "      <th>weight</th>\n",
       "      <td>1.065769e-02</td>\n",
       "    </tr>\n",
       "    <tr>\n",
       "      <th>days_used</th>\n",
       "      <td>-6.929789e-02</td>\n",
       "    </tr>\n",
       "    <tr>\n",
       "      <th>new_price</th>\n",
       "      <td>3.372885e-01</td>\n",
       "    </tr>\n",
       "    <tr>\n",
       "      <th>brand_name_Alcatel</th>\n",
       "      <td>-9.046569e-01</td>\n",
       "    </tr>\n",
       "    <tr>\n",
       "      <th>brand_name_Apple</th>\n",
       "      <td>8.008610e+00</td>\n",
       "    </tr>\n",
       "    <tr>\n",
       "      <th>brand_name_Asus</th>\n",
       "      <td>2.306165e-01</td>\n",
       "    </tr>\n",
       "    <tr>\n",
       "      <th>brand_name_BlackBerry</th>\n",
       "      <td>3.407084e+00</td>\n",
       "    </tr>\n",
       "    <tr>\n",
       "      <th>brand_name_Celkon</th>\n",
       "      <td>-4.828073e+00</td>\n",
       "    </tr>\n",
       "    <tr>\n",
       "      <th>brand_name_Coolpad</th>\n",
       "      <td>-3.632864e+00</td>\n",
       "    </tr>\n",
       "    <tr>\n",
       "      <th>brand_name_Gionee</th>\n",
       "      <td>-4.013902e+00</td>\n",
       "    </tr>\n",
       "    <tr>\n",
       "      <th>brand_name_Google</th>\n",
       "      <td>1.028918e+01</td>\n",
       "    </tr>\n",
       "    <tr>\n",
       "      <th>brand_name_HTC</th>\n",
       "      <td>-2.237116e+00</td>\n",
       "    </tr>\n",
       "    <tr>\n",
       "      <th>brand_name_Honor</th>\n",
       "      <td>1.495526e+00</td>\n",
       "    </tr>\n",
       "    <tr>\n",
       "      <th>brand_name_Huawei</th>\n",
       "      <td>-8.696933e-01</td>\n",
       "    </tr>\n",
       "    <tr>\n",
       "      <th>brand_name_Karbonn</th>\n",
       "      <td>-5.036888e-01</td>\n",
       "    </tr>\n",
       "    <tr>\n",
       "      <th>brand_name_LG</th>\n",
       "      <td>2.469370e-01</td>\n",
       "    </tr>\n",
       "    <tr>\n",
       "      <th>brand_name_Lava</th>\n",
       "      <td>-6.426932e-01</td>\n",
       "    </tr>\n",
       "    <tr>\n",
       "      <th>brand_name_Lenovo</th>\n",
       "      <td>-2.685501e+00</td>\n",
       "    </tr>\n",
       "    <tr>\n",
       "      <th>brand_name_Meizu</th>\n",
       "      <td>-3.863819e+00</td>\n",
       "    </tr>\n",
       "    <tr>\n",
       "      <th>brand_name_Micromax</th>\n",
       "      <td>-3.560275e-01</td>\n",
       "    </tr>\n",
       "    <tr>\n",
       "      <th>brand_name_Microsoft</th>\n",
       "      <td>-2.730526e+00</td>\n",
       "    </tr>\n",
       "    <tr>\n",
       "      <th>brand_name_Motorola</th>\n",
       "      <td>-2.314053e+00</td>\n",
       "    </tr>\n",
       "    <tr>\n",
       "      <th>brand_name_Nokia</th>\n",
       "      <td>-1.030933e+01</td>\n",
       "    </tr>\n",
       "    <tr>\n",
       "      <th>brand_name_OnePlus</th>\n",
       "      <td>-1.023225e+01</td>\n",
       "    </tr>\n",
       "    <tr>\n",
       "      <th>brand_name_Oppo</th>\n",
       "      <td>-4.276008e+00</td>\n",
       "    </tr>\n",
       "    <tr>\n",
       "      <th>brand_name_Others</th>\n",
       "      <td>-4.214091e-01</td>\n",
       "    </tr>\n",
       "    <tr>\n",
       "      <th>brand_name_Panasonic</th>\n",
       "      <td>8.354862e-01</td>\n",
       "    </tr>\n",
       "    <tr>\n",
       "      <th>brand_name_Realme</th>\n",
       "      <td>-1.327244e+01</td>\n",
       "    </tr>\n",
       "    <tr>\n",
       "      <th>brand_name_Samsung</th>\n",
       "      <td>-2.128728e+00</td>\n",
       "    </tr>\n",
       "    <tr>\n",
       "      <th>brand_name_Sony</th>\n",
       "      <td>-1.922338e+00</td>\n",
       "    </tr>\n",
       "    <tr>\n",
       "      <th>brand_name_Spice</th>\n",
       "      <td>1.550609e+00</td>\n",
       "    </tr>\n",
       "    <tr>\n",
       "      <th>brand_name_Vivo</th>\n",
       "      <td>5.727779e-02</td>\n",
       "    </tr>\n",
       "    <tr>\n",
       "      <th>brand_name_XOLO</th>\n",
       "      <td>2.946868e+00</td>\n",
       "    </tr>\n",
       "    <tr>\n",
       "      <th>brand_name_Xiaomi</th>\n",
       "      <td>-1.035804e+00</td>\n",
       "    </tr>\n",
       "    <tr>\n",
       "      <th>brand_name_ZTE</th>\n",
       "      <td>-1.159960e+00</td>\n",
       "    </tr>\n",
       "    <tr>\n",
       "      <th>release_year_2014</th>\n",
       "      <td>-3.266393e-01</td>\n",
       "    </tr>\n",
       "    <tr>\n",
       "      <th>release_year_2015</th>\n",
       "      <td>-3.589025e-01</td>\n",
       "    </tr>\n",
       "    <tr>\n",
       "      <th>release_year_2016</th>\n",
       "      <td>-8.319323e-01</td>\n",
       "    </tr>\n",
       "    <tr>\n",
       "      <th>release_year_2017</th>\n",
       "      <td>-4.248679e+00</td>\n",
       "    </tr>\n",
       "    <tr>\n",
       "      <th>release_year_2018</th>\n",
       "      <td>1.415749e+00</td>\n",
       "    </tr>\n",
       "    <tr>\n",
       "      <th>release_year_2019</th>\n",
       "      <td>4.735977e+00</td>\n",
       "    </tr>\n",
       "    <tr>\n",
       "      <th>release_year_2020</th>\n",
       "      <td>2.519499e+00</td>\n",
       "    </tr>\n",
       "    <tr>\n",
       "      <th>price_range_low-cost</th>\n",
       "      <td>-1.669779e+01</td>\n",
       "    </tr>\n",
       "    <tr>\n",
       "      <th>price_range_middle-cost</th>\n",
       "      <td>-1.667038e+01</td>\n",
       "    </tr>\n",
       "    <tr>\n",
       "      <th>Intercept</th>\n",
       "      <td>7.184248e+01</td>\n",
       "    </tr>\n",
       "  </tbody>\n",
       "</table>\n",
       "</div>"
      ],
      "text/plain": [
       "                         Coefficients\n",
       "screen_size              3.432507e-02\n",
       "main_camera_mp          -1.871517e-01\n",
       "selfie_camera_mp         4.910182e-01\n",
       "int_memory               5.928541e-02\n",
       "ram                     -9.106799e-12\n",
       "battery                  1.317791e-04\n",
       "weight                   1.065769e-02\n",
       "days_used               -6.929789e-02\n",
       "new_price                3.372885e-01\n",
       "brand_name_Alcatel      -9.046569e-01\n",
       "brand_name_Apple         8.008610e+00\n",
       "brand_name_Asus          2.306165e-01\n",
       "brand_name_BlackBerry    3.407084e+00\n",
       "brand_name_Celkon       -4.828073e+00\n",
       "brand_name_Coolpad      -3.632864e+00\n",
       "brand_name_Gionee       -4.013902e+00\n",
       "brand_name_Google        1.028918e+01\n",
       "brand_name_HTC          -2.237116e+00\n",
       "brand_name_Honor         1.495526e+00\n",
       "brand_name_Huawei       -8.696933e-01\n",
       "brand_name_Karbonn      -5.036888e-01\n",
       "brand_name_LG            2.469370e-01\n",
       "brand_name_Lava         -6.426932e-01\n",
       "brand_name_Lenovo       -2.685501e+00\n",
       "brand_name_Meizu        -3.863819e+00\n",
       "brand_name_Micromax     -3.560275e-01\n",
       "brand_name_Microsoft    -2.730526e+00\n",
       "brand_name_Motorola     -2.314053e+00\n",
       "brand_name_Nokia        -1.030933e+01\n",
       "brand_name_OnePlus      -1.023225e+01\n",
       "brand_name_Oppo         -4.276008e+00\n",
       "brand_name_Others       -4.214091e-01\n",
       "brand_name_Panasonic     8.354862e-01\n",
       "brand_name_Realme       -1.327244e+01\n",
       "brand_name_Samsung      -2.128728e+00\n",
       "brand_name_Sony         -1.922338e+00\n",
       "brand_name_Spice         1.550609e+00\n",
       "brand_name_Vivo          5.727779e-02\n",
       "brand_name_XOLO          2.946868e+00\n",
       "brand_name_Xiaomi       -1.035804e+00\n",
       "brand_name_ZTE          -1.159960e+00\n",
       "release_year_2014       -3.266393e-01\n",
       "release_year_2015       -3.589025e-01\n",
       "release_year_2016       -8.319323e-01\n",
       "release_year_2017       -4.248679e+00\n",
       "release_year_2018        1.415749e+00\n",
       "release_year_2019        4.735977e+00\n",
       "release_year_2020        2.519499e+00\n",
       "price_range_low-cost    -1.669779e+01\n",
       "price_range_middle-cost -1.667038e+01\n",
       "Intercept                7.184248e+01"
      ]
     },
     "execution_count": 66,
     "metadata": {},
     "output_type": "execute_result"
    }
   ],
   "source": [
    "#lets check the coefficents and intercepts of the model\n",
    "coef_df = pd.DataFrame(\n",
    "    np.append(linearregression.coef_, linearregression.intercept_),\n",
    "    index=x_train.columns.tolist() + [\"Intercept\"],\n",
    "    columns=[\"Coefficients\"],\n",
    ")\n",
    "\n",
    "coef_df"
   ]
  },
  {
   "cell_type": "markdown",
   "metadata": {},
   "source": [
    "Let's check the performance of the model using different metrics."
   ]
  },
  {
   "cell_type": "markdown",
   "metadata": {},
   "source": [
    "We will be using metric functions defined in sklearn for RMSE, MAE, and R2.\n",
    "We will define a function to calculate MAPE and adjusted R2.\n",
    "\n",
    "The mean absolute percentage error (MAPE) measures the accuracy of predictions as a percentage, and can be calculated as the average absolute percent error for each predicted value minus actual values divided by actual values. It works best if there are no extreme values in the data and none of the actual values are 0.\n",
    "We will create a function which will print out all the above metrics in one go."
   ]
  },
  {
   "cell_type": "code",
   "execution_count": 67,
   "metadata": {},
   "outputs": [],
   "source": [
    "# function to compute adjusted R-squared\n",
    "def adj_r2_score(predictors, targets, predictions):\n",
    "    r2 = r2_score(targets, predictions)\n",
    "    n = predictors.shape[0]\n",
    "    k = predictors.shape[1]\n",
    "    return 1 - ((1 - r2) * (n - 1) / (n - k - 1))\n",
    "\n",
    "\n",
    "# function to compute MAPE\n",
    "def mape_score(targets, predictions):\n",
    "    return np.mean(np.abs(targets - predictions) / targets) * 100\n",
    "\n",
    "\n",
    "# function to compute different metrics to check performance of a regression model\n",
    "def model_performance_regression(model, predictors, target):\n",
    "    \"\"\"\n",
    "    Function to compute different metrics to check regression model performance\n",
    "\n",
    "    model: regressor\n",
    "    predictors: independent variables\n",
    "    target: dependent variable\n",
    "    \"\"\"\n",
    "\n",
    "    # predicting using the independent variables\n",
    "    pred = model.predict(predictors)\n",
    "\n",
    "    r2 = r2_score(target, pred)  # to compute R-squared\n",
    "    adjr2 = adj_r2_score(predictors, target, pred)  # to compute adjusted R-squared\n",
    "    rmse = np.sqrt(mean_squared_error(target, pred))  # to compute RMSE\n",
    "    mae = mean_absolute_error(target, pred)  # to compute MAE\n",
    "    mape = mape_score(target, pred)  # to compute MAPE\n",
    "\n",
    "    # creating a dataframe of metrics\n",
    "    df_perf = pd.DataFrame(\n",
    "        {\n",
    "            \"RMSE\": rmse,\n",
    "            \"MAE\": mae,\n",
    "            \"R-squared\": r2,\n",
    "            \"Adj. R-squared\": adjr2,\n",
    "            \"MAPE\": mape,\n",
    "        },\n",
    "        index=[0],\n",
    "    )\n",
    "\n",
    "    return df_perf"
   ]
  },
  {
   "cell_type": "code",
   "execution_count": 68,
   "metadata": {},
   "outputs": [
    {
     "name": "stdout",
     "output_type": "stream",
     "text": [
      "Training Performance\n",
      "\n"
     ]
    },
    {
     "data": {
      "text/html": [
       "<div>\n",
       "<style scoped>\n",
       "    .dataframe tbody tr th:only-of-type {\n",
       "        vertical-align: middle;\n",
       "    }\n",
       "\n",
       "    .dataframe tbody tr th {\n",
       "        vertical-align: top;\n",
       "    }\n",
       "\n",
       "    .dataframe thead th {\n",
       "        text-align: right;\n",
       "    }\n",
       "</style>\n",
       "<table border=\"1\" class=\"dataframe\">\n",
       "  <thead>\n",
       "    <tr style=\"text-align: right;\">\n",
       "      <th></th>\n",
       "      <th>RMSE</th>\n",
       "      <th>MAE</th>\n",
       "      <th>R-squared</th>\n",
       "      <th>Adj. R-squared</th>\n",
       "      <th>MAPE</th>\n",
       "    </tr>\n",
       "  </thead>\n",
       "  <tbody>\n",
       "    <tr>\n",
       "      <th>0</th>\n",
       "      <td>12.006673</td>\n",
       "      <td>8.648114</td>\n",
       "      <td>0.961117</td>\n",
       "      <td>0.960274</td>\n",
       "      <td>15.401215</td>\n",
       "    </tr>\n",
       "  </tbody>\n",
       "</table>\n",
       "</div>"
      ],
      "text/plain": [
       "        RMSE       MAE  R-squared  Adj. R-squared       MAPE\n",
       "0  12.006673  8.648114   0.961117        0.960274  15.401215"
      ]
     },
     "execution_count": 68,
     "metadata": {},
     "output_type": "execute_result"
    }
   ],
   "source": [
    "# checking model performance on train set (seen 70% data)\n",
    "print(\"Training Performance\\n\")\n",
    "linearregression_train_perf = model_performance_regression(\n",
    "    linearregression, x_train, y_train\n",
    ")\n",
    "linearregression_train_perf"
   ]
  },
  {
   "cell_type": "code",
   "execution_count": 69,
   "metadata": {},
   "outputs": [
    {
     "name": "stdout",
     "output_type": "stream",
     "text": [
      "Test Performance\n",
      "\n"
     ]
    },
    {
     "data": {
      "text/html": [
       "<div>\n",
       "<style scoped>\n",
       "    .dataframe tbody tr th:only-of-type {\n",
       "        vertical-align: middle;\n",
       "    }\n",
       "\n",
       "    .dataframe tbody tr th {\n",
       "        vertical-align: top;\n",
       "    }\n",
       "\n",
       "    .dataframe thead th {\n",
       "        text-align: right;\n",
       "    }\n",
       "</style>\n",
       "<table border=\"1\" class=\"dataframe\">\n",
       "  <thead>\n",
       "    <tr style=\"text-align: right;\">\n",
       "      <th></th>\n",
       "      <th>RMSE</th>\n",
       "      <th>MAE</th>\n",
       "      <th>R-squared</th>\n",
       "      <th>Adj. R-squared</th>\n",
       "      <th>MAPE</th>\n",
       "    </tr>\n",
       "  </thead>\n",
       "  <tbody>\n",
       "    <tr>\n",
       "      <th>0</th>\n",
       "      <td>12.156217</td>\n",
       "      <td>8.823566</td>\n",
       "      <td>0.961082</td>\n",
       "      <td>0.959055</td>\n",
       "      <td>14.274823</td>\n",
       "    </tr>\n",
       "  </tbody>\n",
       "</table>\n",
       "</div>"
      ],
      "text/plain": [
       "        RMSE       MAE  R-squared  Adj. R-squared       MAPE\n",
       "0  12.156217  8.823566   0.961082        0.959055  14.274823"
      ]
     },
     "execution_count": 69,
     "metadata": {},
     "output_type": "execute_result"
    }
   ],
   "source": [
    "# checking model performance on test set (seen 30% data)\n",
    "print(\"Test Performance\\n\")\n",
    "linearregression_test_perf = model_performance_regression(\n",
    "    linearregression, x_test, y_test\n",
    ")\n",
    "linearregression_test_perf"
   ]
  },
  {
   "cell_type": "markdown",
   "metadata": {},
   "source": [
    "Observations:\n",
    "    \n",
    "    1. The training R2 is 96.1%, indicating that the model explains 96.1% of the variation in the train data. So, the model is not underfitting.\n",
    "    2. RMSE and MAE on the train and test sets are comparable, which shows that the model is not overfitting.\n",
    "    3. MAE indicates that our current model is able to predict the price of a used phone within a mean error of 8.8% euros on the test data.\n",
    "    4. MAPE on the test set suggests we can predict within 14.3% of the price of a used phone."
   ]
  },
  {
   "cell_type": "markdown",
   "metadata": {},
   "source": [
    "Linear Regression Using Stats Models"
   ]
  },
  {
   "cell_type": "code",
   "execution_count": 70,
   "metadata": {},
   "outputs": [
    {
     "name": "stdout",
     "output_type": "stream",
     "text": [
      "                            OLS Regression Results                            \n",
      "==============================================================================\n",
      "Dep. Variable:             used_price   R-squared:                       0.961\n",
      "Model:                            OLS   Adj. R-squared:                  0.960\n",
      "Method:                 Least Squares   F-statistic:                     1164.\n",
      "Date:                Fri, 20 Aug 2021   Prob (F-statistic):               0.00\n",
      "Time:                        16:46:24   Log-Likelihood:                -9202.7\n",
      "No. Observations:                2357   AIC:                         1.851e+04\n",
      "Df Residuals:                    2307   BIC:                         1.879e+04\n",
      "Df Model:                          49                                         \n",
      "Covariance Type:            nonrobust                                         \n",
      "===========================================================================================\n",
      "                              coef    std err          t      P>|t|      [0.025      0.975]\n",
      "-------------------------------------------------------------------------------------------\n",
      "screen_size                 0.0343      0.106      0.324      0.746      -0.174       0.242\n",
      "main_camera_mp             -0.1872      0.084     -2.239      0.025      -0.351      -0.023\n",
      "selfie_camera_mp            0.4910      0.097      5.037      0.000       0.300       0.682\n",
      "int_memory                  0.0593      0.010      6.154      0.000       0.040       0.078\n",
      "ram                        17.9606      0.740     24.268      0.000      16.509      19.412\n",
      "battery                     0.0001      0.000      0.352      0.725      -0.001       0.001\n",
      "weight                      0.0107      0.011      0.954      0.340      -0.011       0.033\n",
      "days_used                  -0.0693      0.002    -36.419      0.000      -0.073      -0.066\n",
      "new_price                   0.3373      0.004     84.068      0.000       0.329       0.345\n",
      "brand_name_Alcatel         -0.9047      2.399     -0.377      0.706      -5.610       3.800\n",
      "brand_name_Apple            8.0086      2.854      2.806      0.005       2.413      13.605\n",
      "brand_name_Asus             0.2306      2.343      0.098      0.922      -4.363       4.824\n",
      "brand_name_BlackBerry       3.4071      4.030      0.845      0.398      -4.497      11.311\n",
      "brand_name_Celkon          -4.8281      3.192     -1.512      0.131     -11.088       1.432\n",
      "brand_name_Coolpad         -3.6329      4.046     -0.898      0.369     -11.568       4.302\n",
      "brand_name_Gionee          -4.0139      2.850     -1.409      0.159      -9.602       1.574\n",
      "brand_name_Google          10.2892      4.575      2.249      0.025       1.318      19.260\n",
      "brand_name_HTC             -2.2371      2.387     -0.937      0.349      -6.918       2.444\n",
      "brand_name_Honor            1.4955      2.472      0.605      0.545      -3.351       6.342\n",
      "brand_name_Huawei          -0.8697      2.195     -0.396      0.692      -5.174       3.435\n",
      "brand_name_Karbonn         -0.5037      3.322     -0.152      0.879      -7.017       6.010\n",
      "brand_name_LG               0.2469      2.210      0.112      0.911      -4.087       4.581\n",
      "brand_name_Lava            -0.6427      3.316     -0.194      0.846      -7.145       5.859\n",
      "brand_name_Lenovo          -2.6855      2.247     -1.195      0.232      -7.092       1.721\n",
      "brand_name_Meizu           -3.8638      2.981     -1.296      0.195      -9.709       1.981\n",
      "brand_name_Micromax        -0.3560      2.361     -0.151      0.880      -4.986       4.274\n",
      "brand_name_Microsoft       -2.7305      3.576     -0.764      0.445      -9.742       4.281\n",
      "brand_name_Motorola        -2.3141      2.560     -0.904      0.366      -7.333       2.705\n",
      "brand_name_Nokia          -10.3093      2.406     -4.285      0.000     -15.027      -5.592\n",
      "brand_name_OnePlus        -10.2322      7.292     -1.403      0.161     -24.532       4.068\n",
      "brand_name_Oppo            -4.2760      2.450     -1.745      0.081      -9.080       0.528\n",
      "brand_name_Others          -0.4214      2.060     -0.205      0.838      -4.462       3.619\n",
      "brand_name_Panasonic        0.8355      2.856      0.293      0.770      -4.765       6.436\n",
      "brand_name_Realme         -13.2724      6.474     -2.050      0.040     -25.969      -0.576\n",
      "brand_name_Samsung         -2.1287      2.115     -1.006      0.314      -6.277       2.019\n",
      "brand_name_Sony            -1.9223      2.560     -0.751      0.453      -6.942       3.097\n",
      "brand_name_Spice            1.5506      3.507      0.442      0.658      -5.326       8.428\n",
      "brand_name_Vivo             0.0573      2.459      0.023      0.981      -4.765       4.880\n",
      "brand_name_XOLO             2.9469      3.009      0.979      0.328      -2.954       8.848\n",
      "brand_name_Xiaomi          -1.0358      2.482     -0.417      0.676      -5.903       3.831\n",
      "brand_name_ZTE             -1.1600      2.334     -0.497      0.619      -5.736       3.417\n",
      "release_year_2014          -0.3266      0.860     -0.380      0.704      -2.014       1.360\n",
      "release_year_2015          -0.3589      0.963     -0.373      0.709      -2.247       1.529\n",
      "release_year_2016          -0.8319      1.126     -0.739      0.460      -3.040       1.376\n",
      "release_year_2017          -4.2487      1.263     -3.363      0.001      -6.726      -1.771\n",
      "release_year_2018           1.4157      1.417      0.999      0.318      -1.362       4.194\n",
      "release_year_2019           4.7360      1.643      2.883      0.004       1.515       7.957\n",
      "release_year_2020           2.5195      2.055      1.226      0.220      -1.511       6.550\n",
      "price_range_low-cost      -16.6978      1.319    -12.663      0.000     -19.284     -14.112\n",
      "price_range_middle-cost   -16.6704      0.920    -18.124      0.000     -18.474     -14.867\n",
      "==============================================================================\n",
      "Omnibus:                      243.904   Durbin-Watson:                   1.952\n",
      "Prob(Omnibus):                  0.000   Jarque-Bera (JB):              770.704\n",
      "Skew:                           0.521   Prob(JB):                    4.40e-168\n",
      "Kurtosis:                       5.601   Cond. No.                     1.52e+05\n",
      "==============================================================================\n",
      "\n",
      "Notes:\n",
      "[1] Standard Errors assume that the covariance matrix of the errors is correctly specified.\n",
      "[2] The condition number is large, 1.52e+05. This might indicate that there are\n",
      "strong multicollinearity or other numerical problems.\n"
     ]
    }
   ],
   "source": [
    "#unlike sklearn, statsmodels does not add a constant to the data on its own\n",
    "# we have to add the constant manually\n",
    "x_train1 = sm.add_constant(x_train)\n",
    "# adding constant to the test data\n",
    "x_test1 = sm.add_constant(x_test)\n",
    "\n",
    "olsmod0 = sm.OLS(y_train, x_train1).fit()\n",
    "print(olsmod0.summary())\n"
   ]
  },
  {
   "cell_type": "markdown",
   "metadata": {},
   "source": [
    "OBSERVATIONS:\n",
    "\n",
    "\n",
    "Negative values of the coefficient show that used_price decreases with the decreases of corresponding attribute value.\n",
    "\n",
    "Positive values of the coefficient show that used_price increases with the increase of corresponding attribute value.\n",
    "\n",
    "p-value of a variable indicates if the variable is significant or not. If we consider the significance level to be 0.05 (5%), then any variable with a p-value less than 0.05 would be considered significant.\n",
    "\n",
    "But these variables might contain multicollinearity, which will affect the p-values.\n",
    "\n",
    "So, we need to deal with multicollinearity and check the other assumptions of linear regression first, and then look at the p-values."
   ]
  },
  {
   "cell_type": "markdown",
   "metadata": {},
   "source": [
    "Checking Linear Regression Assumptions\n",
    "\n",
    "We will be checking the following Linear Regression assumptions:\n",
    "\n",
    "1. No Multicollinearity\n",
    "\n",
    "2. Linearity of variables\n",
    "\n",
    "3. Independence of error terms\n",
    "\n",
    "4. Normality of error terms\n",
    "\n",
    "5. No Heteroscedasticity"
   ]
  },
  {
   "cell_type": "markdown",
   "metadata": {},
   "source": [
    "Multicollinearity\n",
    "There are different ways of detecting (or testing) multicollinearity. One such way is by using the Variance Inflation Factor, or VIF."
   ]
  },
  {
   "cell_type": "code",
   "execution_count": 71,
   "metadata": {},
   "outputs": [],
   "source": [
    "from statsmodels.stats.outliers_influence import variance_inflation_factor\n",
    "\n",
    "# we will define a function to check VIF\n",
    "def checking_vif(predictors):\n",
    "    vif = pd.DataFrame()\n",
    "    vif[\"feature\"] = predictors.columns\n",
    "\n",
    "    # calculating VIF for each feature\n",
    "    vif[\"VIF\"] = [\n",
    "        variance_inflation_factor(predictors.values, i)\n",
    "        for i in range(len(predictors.columns))\n",
    "    ]\n",
    "    return vif"
   ]
  },
  {
   "cell_type": "code",
   "execution_count": 72,
   "metadata": {},
   "outputs": [
    {
     "data": {
      "text/html": [
       "<div>\n",
       "<style scoped>\n",
       "    .dataframe tbody tr th:only-of-type {\n",
       "        vertical-align: middle;\n",
       "    }\n",
       "\n",
       "    .dataframe tbody tr th {\n",
       "        vertical-align: top;\n",
       "    }\n",
       "\n",
       "    .dataframe thead th {\n",
       "        text-align: right;\n",
       "    }\n",
       "</style>\n",
       "<table border=\"1\" class=\"dataframe\">\n",
       "  <thead>\n",
       "    <tr style=\"text-align: right;\">\n",
       "      <th></th>\n",
       "      <th>feature</th>\n",
       "      <th>VIF</th>\n",
       "    </tr>\n",
       "  </thead>\n",
       "  <tbody>\n",
       "    <tr>\n",
       "      <th>0</th>\n",
       "      <td>screen_size</td>\n",
       "      <td>3.353001</td>\n",
       "    </tr>\n",
       "    <tr>\n",
       "      <th>1</th>\n",
       "      <td>main_camera_mp</td>\n",
       "      <td>2.377990</td>\n",
       "    </tr>\n",
       "    <tr>\n",
       "      <th>2</th>\n",
       "      <td>selfie_camera_mp</td>\n",
       "      <td>3.829377</td>\n",
       "    </tr>\n",
       "    <tr>\n",
       "      <th>3</th>\n",
       "      <td>int_memory</td>\n",
       "      <td>2.097310</td>\n",
       "    </tr>\n",
       "    <tr>\n",
       "      <th>4</th>\n",
       "      <td>ram</td>\n",
       "      <td>140.252470</td>\n",
       "    </tr>\n",
       "    <tr>\n",
       "      <th>5</th>\n",
       "      <td>battery</td>\n",
       "      <td>3.531992</td>\n",
       "    </tr>\n",
       "    <tr>\n",
       "      <th>6</th>\n",
       "      <td>weight</td>\n",
       "      <td>2.996637</td>\n",
       "    </tr>\n",
       "    <tr>\n",
       "      <th>7</th>\n",
       "      <td>days_used</td>\n",
       "      <td>3.229587</td>\n",
       "    </tr>\n",
       "    <tr>\n",
       "      <th>8</th>\n",
       "      <td>new_price</td>\n",
       "      <td>4.265235</td>\n",
       "    </tr>\n",
       "    <tr>\n",
       "      <th>9</th>\n",
       "      <td>brand_name_Alcatel</td>\n",
       "      <td>2.911233</td>\n",
       "    </tr>\n",
       "    <tr>\n",
       "      <th>10</th>\n",
       "      <td>brand_name_Apple</td>\n",
       "      <td>2.227496</td>\n",
       "    </tr>\n",
       "    <tr>\n",
       "      <th>11</th>\n",
       "      <td>brand_name_Asus</td>\n",
       "      <td>3.225106</td>\n",
       "    </tr>\n",
       "    <tr>\n",
       "      <th>12</th>\n",
       "      <td>brand_name_BlackBerry</td>\n",
       "      <td>1.316775</td>\n",
       "    </tr>\n",
       "    <tr>\n",
       "      <th>13</th>\n",
       "      <td>brand_name_Celkon</td>\n",
       "      <td>1.846826</td>\n",
       "    </tr>\n",
       "    <tr>\n",
       "      <th>14</th>\n",
       "      <td>brand_name_Coolpad</td>\n",
       "      <td>1.327164</td>\n",
       "    </tr>\n",
       "    <tr>\n",
       "      <th>15</th>\n",
       "      <td>brand_name_Gionee</td>\n",
       "      <td>1.901211</td>\n",
       "    </tr>\n",
       "    <tr>\n",
       "      <th>16</th>\n",
       "      <td>brand_name_Google</td>\n",
       "      <td>1.273971</td>\n",
       "    </tr>\n",
       "    <tr>\n",
       "      <th>17</th>\n",
       "      <td>brand_name_HTC</td>\n",
       "      <td>3.097607</td>\n",
       "    </tr>\n",
       "    <tr>\n",
       "      <th>18</th>\n",
       "      <td>brand_name_Honor</td>\n",
       "      <td>3.205228</td>\n",
       "    </tr>\n",
       "    <tr>\n",
       "      <th>19</th>\n",
       "      <td>brand_name_Huawei</td>\n",
       "      <td>5.299703</td>\n",
       "    </tr>\n",
       "    <tr>\n",
       "      <th>20</th>\n",
       "      <td>brand_name_Karbonn</td>\n",
       "      <td>1.559024</td>\n",
       "    </tr>\n",
       "    <tr>\n",
       "      <th>21</th>\n",
       "      <td>brand_name_LG</td>\n",
       "      <td>4.571348</td>\n",
       "    </tr>\n",
       "    <tr>\n",
       "      <th>22</th>\n",
       "      <td>brand_name_Lava</td>\n",
       "      <td>1.553458</td>\n",
       "    </tr>\n",
       "    <tr>\n",
       "      <th>23</th>\n",
       "      <td>brand_name_Lenovo</td>\n",
       "      <td>3.934678</td>\n",
       "    </tr>\n",
       "    <tr>\n",
       "      <th>24</th>\n",
       "      <td>brand_name_Meizu</td>\n",
       "      <td>1.845220</td>\n",
       "    </tr>\n",
       "    <tr>\n",
       "      <th>25</th>\n",
       "      <td>brand_name_Micromax</td>\n",
       "      <td>3.171449</td>\n",
       "    </tr>\n",
       "    <tr>\n",
       "      <th>26</th>\n",
       "      <td>brand_name_Microsoft</td>\n",
       "      <td>1.465119</td>\n",
       "    </tr>\n",
       "    <tr>\n",
       "      <th>27</th>\n",
       "      <td>brand_name_Motorola</td>\n",
       "      <td>2.601075</td>\n",
       "    </tr>\n",
       "    <tr>\n",
       "      <th>28</th>\n",
       "      <td>brand_name_Nokia</td>\n",
       "      <td>3.183171</td>\n",
       "    </tr>\n",
       "    <tr>\n",
       "      <th>29</th>\n",
       "      <td>brand_name_OnePlus</td>\n",
       "      <td>1.081787</td>\n",
       "    </tr>\n",
       "    <tr>\n",
       "      <th>30</th>\n",
       "      <td>brand_name_Oppo</td>\n",
       "      <td>3.111106</td>\n",
       "    </tr>\n",
       "    <tr>\n",
       "      <th>31</th>\n",
       "      <td>brand_name_Others</td>\n",
       "      <td>8.710981</td>\n",
       "    </tr>\n",
       "    <tr>\n",
       "      <th>32</th>\n",
       "      <td>brand_name_Panasonic</td>\n",
       "      <td>1.909804</td>\n",
       "    </tr>\n",
       "    <tr>\n",
       "      <th>33</th>\n",
       "      <td>brand_name_Realme</td>\n",
       "      <td>1.136493</td>\n",
       "    </tr>\n",
       "    <tr>\n",
       "      <th>34</th>\n",
       "      <td>brand_name_Samsung</td>\n",
       "      <td>6.979337</td>\n",
       "    </tr>\n",
       "    <tr>\n",
       "      <th>35</th>\n",
       "      <td>brand_name_Sony</td>\n",
       "      <td>2.559198</td>\n",
       "    </tr>\n",
       "    <tr>\n",
       "      <th>36</th>\n",
       "      <td>brand_name_Spice</td>\n",
       "      <td>1.491512</td>\n",
       "    </tr>\n",
       "    <tr>\n",
       "      <th>37</th>\n",
       "      <td>brand_name_Vivo</td>\n",
       "      <td>3.173623</td>\n",
       "    </tr>\n",
       "    <tr>\n",
       "      <th>38</th>\n",
       "      <td>brand_name_XOLO</td>\n",
       "      <td>1.760827</td>\n",
       "    </tr>\n",
       "    <tr>\n",
       "      <th>39</th>\n",
       "      <td>brand_name_Xiaomi</td>\n",
       "      <td>2.879942</td>\n",
       "    </tr>\n",
       "    <tr>\n",
       "      <th>40</th>\n",
       "      <td>brand_name_ZTE</td>\n",
       "      <td>3.405470</td>\n",
       "    </tr>\n",
       "    <tr>\n",
       "      <th>41</th>\n",
       "      <td>release_year_2014</td>\n",
       "      <td>1.878446</td>\n",
       "    </tr>\n",
       "    <tr>\n",
       "      <th>42</th>\n",
       "      <td>release_year_2015</td>\n",
       "      <td>2.057166</td>\n",
       "    </tr>\n",
       "    <tr>\n",
       "      <th>43</th>\n",
       "      <td>release_year_2016</td>\n",
       "      <td>2.070314</td>\n",
       "    </tr>\n",
       "    <tr>\n",
       "      <th>44</th>\n",
       "      <td>release_year_2017</td>\n",
       "      <td>2.117730</td>\n",
       "    </tr>\n",
       "    <tr>\n",
       "      <th>45</th>\n",
       "      <td>release_year_2018</td>\n",
       "      <td>2.728652</td>\n",
       "    </tr>\n",
       "    <tr>\n",
       "      <th>46</th>\n",
       "      <td>release_year_2019</td>\n",
       "      <td>4.617117</td>\n",
       "    </tr>\n",
       "    <tr>\n",
       "      <th>47</th>\n",
       "      <td>release_year_2020</td>\n",
       "      <td>2.694106</td>\n",
       "    </tr>\n",
       "    <tr>\n",
       "      <th>48</th>\n",
       "      <td>price_range_low-cost</td>\n",
       "      <td>6.141439</td>\n",
       "    </tr>\n",
       "    <tr>\n",
       "      <th>49</th>\n",
       "      <td>price_range_middle-cost</td>\n",
       "      <td>3.020847</td>\n",
       "    </tr>\n",
       "  </tbody>\n",
       "</table>\n",
       "</div>"
      ],
      "text/plain": [
       "                    feature         VIF\n",
       "0               screen_size    3.353001\n",
       "1            main_camera_mp    2.377990\n",
       "2          selfie_camera_mp    3.829377\n",
       "3                int_memory    2.097310\n",
       "4                       ram  140.252470\n",
       "5                   battery    3.531992\n",
       "6                    weight    2.996637\n",
       "7                 days_used    3.229587\n",
       "8                 new_price    4.265235\n",
       "9        brand_name_Alcatel    2.911233\n",
       "10         brand_name_Apple    2.227496\n",
       "11          brand_name_Asus    3.225106\n",
       "12    brand_name_BlackBerry    1.316775\n",
       "13        brand_name_Celkon    1.846826\n",
       "14       brand_name_Coolpad    1.327164\n",
       "15        brand_name_Gionee    1.901211\n",
       "16        brand_name_Google    1.273971\n",
       "17           brand_name_HTC    3.097607\n",
       "18         brand_name_Honor    3.205228\n",
       "19        brand_name_Huawei    5.299703\n",
       "20       brand_name_Karbonn    1.559024\n",
       "21            brand_name_LG    4.571348\n",
       "22          brand_name_Lava    1.553458\n",
       "23        brand_name_Lenovo    3.934678\n",
       "24         brand_name_Meizu    1.845220\n",
       "25      brand_name_Micromax    3.171449\n",
       "26     brand_name_Microsoft    1.465119\n",
       "27      brand_name_Motorola    2.601075\n",
       "28         brand_name_Nokia    3.183171\n",
       "29       brand_name_OnePlus    1.081787\n",
       "30          brand_name_Oppo    3.111106\n",
       "31        brand_name_Others    8.710981\n",
       "32     brand_name_Panasonic    1.909804\n",
       "33        brand_name_Realme    1.136493\n",
       "34       brand_name_Samsung    6.979337\n",
       "35          brand_name_Sony    2.559198\n",
       "36         brand_name_Spice    1.491512\n",
       "37          brand_name_Vivo    3.173623\n",
       "38          brand_name_XOLO    1.760827\n",
       "39        brand_name_Xiaomi    2.879942\n",
       "40           brand_name_ZTE    3.405470\n",
       "41        release_year_2014    1.878446\n",
       "42        release_year_2015    2.057166\n",
       "43        release_year_2016    2.070314\n",
       "44        release_year_2017    2.117730\n",
       "45        release_year_2018    2.728652\n",
       "46        release_year_2019    4.617117\n",
       "47        release_year_2020    2.694106\n",
       "48     price_range_low-cost    6.141439\n",
       "49  price_range_middle-cost    3.020847"
      ]
     },
     "execution_count": 72,
     "metadata": {},
     "output_type": "execute_result"
    }
   ],
   "source": [
    "checking_vif(x_train1)"
   ]
  },
  {
   "cell_type": "markdown",
   "metadata": {},
   "source": [
    "Observations:\n",
    "\n",
    "    1. ram is well over 5, meaning there is high multicollinearity\n",
    "    2. there are a few brands, such as Huawei, Samsung and others that are higher. However, since a majority of the other brands are well under 5, the brand names will average out under 5. So I will leave those be. \n",
    "    \n",
    "    \n",
    "While RAM is showing high multicollinearity, I am going to ignore this and proceed otherwise it will significantly affect the model."
   ]
  },
  {
   "cell_type": "markdown",
   "metadata": {},
   "source": [
    "Let's move on and check the model performance. "
   ]
  },
  {
   "cell_type": "code",
   "execution_count": 73,
   "metadata": {},
   "outputs": [
    {
     "name": "stdout",
     "output_type": "stream",
     "text": [
      "                            OLS Regression Results                            \n",
      "==============================================================================\n",
      "Dep. Variable:             used_price   R-squared:                       0.961\n",
      "Model:                            OLS   Adj. R-squared:                  0.960\n",
      "Method:                 Least Squares   F-statistic:                     1164.\n",
      "Date:                Fri, 20 Aug 2021   Prob (F-statistic):               0.00\n",
      "Time:                        16:49:02   Log-Likelihood:                -9202.7\n",
      "No. Observations:                2357   AIC:                         1.851e+04\n",
      "Df Residuals:                    2307   BIC:                         1.879e+04\n",
      "Df Model:                          49                                         \n",
      "Covariance Type:            nonrobust                                         \n",
      "===========================================================================================\n",
      "                              coef    std err          t      P>|t|      [0.025      0.975]\n",
      "-------------------------------------------------------------------------------------------\n",
      "screen_size                 0.0343      0.106      0.324      0.746      -0.174       0.242\n",
      "main_camera_mp             -0.1872      0.084     -2.239      0.025      -0.351      -0.023\n",
      "selfie_camera_mp            0.4910      0.097      5.037      0.000       0.300       0.682\n",
      "int_memory                  0.0593      0.010      6.154      0.000       0.040       0.078\n",
      "ram                        17.9606      0.740     24.268      0.000      16.509      19.412\n",
      "battery                     0.0001      0.000      0.352      0.725      -0.001       0.001\n",
      "weight                      0.0107      0.011      0.954      0.340      -0.011       0.033\n",
      "days_used                  -0.0693      0.002    -36.419      0.000      -0.073      -0.066\n",
      "new_price                   0.3373      0.004     84.068      0.000       0.329       0.345\n",
      "brand_name_Alcatel         -0.9047      2.399     -0.377      0.706      -5.610       3.800\n",
      "brand_name_Apple            8.0086      2.854      2.806      0.005       2.413      13.605\n",
      "brand_name_Asus             0.2306      2.343      0.098      0.922      -4.363       4.824\n",
      "brand_name_BlackBerry       3.4071      4.030      0.845      0.398      -4.497      11.311\n",
      "brand_name_Celkon          -4.8281      3.192     -1.512      0.131     -11.088       1.432\n",
      "brand_name_Coolpad         -3.6329      4.046     -0.898      0.369     -11.568       4.302\n",
      "brand_name_Gionee          -4.0139      2.850     -1.409      0.159      -9.602       1.574\n",
      "brand_name_Google          10.2892      4.575      2.249      0.025       1.318      19.260\n",
      "brand_name_HTC             -2.2371      2.387     -0.937      0.349      -6.918       2.444\n",
      "brand_name_Honor            1.4955      2.472      0.605      0.545      -3.351       6.342\n",
      "brand_name_Huawei          -0.8697      2.195     -0.396      0.692      -5.174       3.435\n",
      "brand_name_Karbonn         -0.5037      3.322     -0.152      0.879      -7.017       6.010\n",
      "brand_name_LG               0.2469      2.210      0.112      0.911      -4.087       4.581\n",
      "brand_name_Lava            -0.6427      3.316     -0.194      0.846      -7.145       5.859\n",
      "brand_name_Lenovo          -2.6855      2.247     -1.195      0.232      -7.092       1.721\n",
      "brand_name_Meizu           -3.8638      2.981     -1.296      0.195      -9.709       1.981\n",
      "brand_name_Micromax        -0.3560      2.361     -0.151      0.880      -4.986       4.274\n",
      "brand_name_Microsoft       -2.7305      3.576     -0.764      0.445      -9.742       4.281\n",
      "brand_name_Motorola        -2.3141      2.560     -0.904      0.366      -7.333       2.705\n",
      "brand_name_Nokia          -10.3093      2.406     -4.285      0.000     -15.027      -5.592\n",
      "brand_name_OnePlus        -10.2322      7.292     -1.403      0.161     -24.532       4.068\n",
      "brand_name_Oppo            -4.2760      2.450     -1.745      0.081      -9.080       0.528\n",
      "brand_name_Others          -0.4214      2.060     -0.205      0.838      -4.462       3.619\n",
      "brand_name_Panasonic        0.8355      2.856      0.293      0.770      -4.765       6.436\n",
      "brand_name_Realme         -13.2724      6.474     -2.050      0.040     -25.969      -0.576\n",
      "brand_name_Samsung         -2.1287      2.115     -1.006      0.314      -6.277       2.019\n",
      "brand_name_Sony            -1.9223      2.560     -0.751      0.453      -6.942       3.097\n",
      "brand_name_Spice            1.5506      3.507      0.442      0.658      -5.326       8.428\n",
      "brand_name_Vivo             0.0573      2.459      0.023      0.981      -4.765       4.880\n",
      "brand_name_XOLO             2.9469      3.009      0.979      0.328      -2.954       8.848\n",
      "brand_name_Xiaomi          -1.0358      2.482     -0.417      0.676      -5.903       3.831\n",
      "brand_name_ZTE             -1.1600      2.334     -0.497      0.619      -5.736       3.417\n",
      "release_year_2014          -0.3266      0.860     -0.380      0.704      -2.014       1.360\n",
      "release_year_2015          -0.3589      0.963     -0.373      0.709      -2.247       1.529\n",
      "release_year_2016          -0.8319      1.126     -0.739      0.460      -3.040       1.376\n",
      "release_year_2017          -4.2487      1.263     -3.363      0.001      -6.726      -1.771\n",
      "release_year_2018           1.4157      1.417      0.999      0.318      -1.362       4.194\n",
      "release_year_2019           4.7360      1.643      2.883      0.004       1.515       7.957\n",
      "release_year_2020           2.5195      2.055      1.226      0.220      -1.511       6.550\n",
      "price_range_low-cost      -16.6978      1.319    -12.663      0.000     -19.284     -14.112\n",
      "price_range_middle-cost   -16.6704      0.920    -18.124      0.000     -18.474     -14.867\n",
      "==============================================================================\n",
      "Omnibus:                      243.904   Durbin-Watson:                   1.952\n",
      "Prob(Omnibus):                  0.000   Jarque-Bera (JB):              770.704\n",
      "Skew:                           0.521   Prob(JB):                    4.40e-168\n",
      "Kurtosis:                       5.601   Cond. No.                     1.52e+05\n",
      "==============================================================================\n",
      "\n",
      "Notes:\n",
      "[1] Standard Errors assume that the covariance matrix of the errors is correctly specified.\n",
      "[2] The condition number is large, 1.52e+05. This might indicate that there are\n",
      "strong multicollinearity or other numerical problems.\n"
     ]
    }
   ],
   "source": [
    "olsmod1 = sm.OLS(y_train, x_train1).fit()\n",
    "print(olsmod1.summary())"
   ]
  },
  {
   "cell_type": "markdown",
   "metadata": {},
   "source": [
    "Observations:\n",
    "    \n",
    "    1. There are quite a few variables that have a higher than 0.05 significance. I will build a model, then drop the column with the highest p-value. "
   ]
  },
  {
   "cell_type": "code",
   "execution_count": 74,
   "metadata": {},
   "outputs": [
    {
     "name": "stdout",
     "output_type": "stream",
     "text": [
      "['main_camera_mp', 'selfie_camera_mp', 'int_memory', 'ram', 'weight', 'days_used', 'new_price', 'brand_name_Apple', 'brand_name_Google', 'brand_name_Honor', 'brand_name_Nokia', 'brand_name_Oppo', 'release_year_2017', 'release_year_2019', 'price_range_low-cost', 'price_range_middle-cost']\n"
     ]
    }
   ],
   "source": [
    "# initial list of columns\n",
    "cols = x_train1.columns.tolist()\n",
    "\n",
    "# setting an initial max p-value\n",
    "max_p_value = 1\n",
    "\n",
    "while len(cols) > 0:\n",
    "    # defining the train set\n",
    "    x_train_aux = x_train1[cols]\n",
    "\n",
    "    # fitting the model\n",
    "    model = sm.OLS(y_train, x_train_aux).fit()\n",
    "\n",
    "    # getting the p-values and the maximum p-value\n",
    "    p_values = model.pvalues\n",
    "    max_p_value = max(p_values)\n",
    "\n",
    "    # name of the variable with maximum p-value\n",
    "    feature_with_p_max = p_values.idxmax()\n",
    "\n",
    "    if max_p_value > 0.05:\n",
    "        cols.remove(feature_with_p_max)\n",
    "    else:\n",
    "        break\n",
    "\n",
    "selected_features = cols\n",
    "print(selected_features)"
   ]
  },
  {
   "cell_type": "code",
   "execution_count": 75,
   "metadata": {},
   "outputs": [],
   "source": [
    "x_train2 = x_train1[selected_features]\n",
    "x_test2 = x_test1[selected_features]"
   ]
  },
  {
   "cell_type": "code",
   "execution_count": 76,
   "metadata": {},
   "outputs": [
    {
     "name": "stdout",
     "output_type": "stream",
     "text": [
      "                            OLS Regression Results                            \n",
      "==============================================================================\n",
      "Dep. Variable:             used_price   R-squared:                       0.961\n",
      "Model:                            OLS   Adj. R-squared:                  0.960\n",
      "Method:                 Least Squares   F-statistic:                     3797.\n",
      "Date:                Fri, 20 Aug 2021   Prob (F-statistic):               0.00\n",
      "Time:                        16:49:40   Log-Likelihood:                -9220.6\n",
      "No. Observations:                2357   AIC:                         1.847e+04\n",
      "Df Residuals:                    2341   BIC:                         1.857e+04\n",
      "Df Model:                          15                                         \n",
      "Covariance Type:            nonrobust                                         \n",
      "===========================================================================================\n",
      "                              coef    std err          t      P>|t|      [0.025      0.975]\n",
      "-------------------------------------------------------------------------------------------\n",
      "main_camera_mp             -0.2291      0.074     -3.102      0.002      -0.374      -0.084\n",
      "selfie_camera_mp            0.5445      0.085      6.421      0.000       0.378       0.711\n",
      "int_memory                  0.0577      0.009      6.500      0.000       0.040       0.075\n",
      "ram                        18.0596      0.501     36.031      0.000      17.077      19.042\n",
      "weight                      0.0168      0.007      2.363      0.018       0.003       0.031\n",
      "days_used                  -0.0716      0.002    -46.249      0.000      -0.075      -0.069\n",
      "new_price                   0.3383      0.004     87.288      0.000       0.331       0.346\n",
      "brand_name_Apple            9.1885      2.031      4.524      0.000       5.206      13.171\n",
      "brand_name_Google          11.3456      4.107      2.762      0.006       3.292      19.400\n",
      "brand_name_Honor            3.2317      1.429      2.261      0.024       0.429       6.034\n",
      "brand_name_Nokia           -9.0700      1.384     -6.552      0.000     -11.785      -6.355\n",
      "brand_name_Oppo            -3.2663      1.435     -2.276      0.023      -6.081      -0.452\n",
      "release_year_2017          -4.3686      0.911     -4.793      0.000      -6.156      -2.581\n",
      "release_year_2019           3.6533      0.978      3.735      0.000       1.735       5.571\n",
      "price_range_low-cost      -16.3582      1.269    -12.892      0.000     -18.846     -13.870\n",
      "price_range_middle-cost   -16.6380      0.904    -18.401      0.000     -18.411     -14.865\n",
      "==============================================================================\n",
      "Omnibus:                      248.998   Durbin-Watson:                   1.946\n",
      "Prob(Omnibus):                  0.000   Jarque-Bera (JB):              791.142\n",
      "Skew:                           0.531   Prob(JB):                    1.61e-172\n",
      "Kurtosis:                       5.632   Cond. No.                     1.29e+04\n",
      "==============================================================================\n",
      "\n",
      "Notes:\n",
      "[1] Standard Errors assume that the covariance matrix of the errors is correctly specified.\n",
      "[2] The condition number is large, 1.29e+04. This might indicate that there are\n",
      "strong multicollinearity or other numerical problems.\n"
     ]
    }
   ],
   "source": [
    "olsmod2 = sm.OLS(y_train, x_train2).fit()\n",
    "print(olsmod2.summary())"
   ]
  },
  {
   "cell_type": "markdown",
   "metadata": {},
   "source": [
    "Now that no feature has a p-value greater than 0.05, we will consider the features in x_train2 as the final ones and olsmod2 as the final model. \n",
    "\n",
    "Observations\n",
    "\n",
    "    1. Our adjusted R-squared is 0.96, so our model is able to explain ~96% of the variance. Our model is good.\n",
    "    2. The adjusted R-squared in olsmod0 was 0.96. This shows that the variables we dropped were not affecting the model much."
   ]
  },
  {
   "cell_type": "markdown",
   "metadata": {},
   "source": [
    "Test for Linearity and Independence:\n",
    "\n",
    "    I will make a plot of fitted values vs residuals"
   ]
  },
  {
   "cell_type": "code",
   "execution_count": 77,
   "metadata": {},
   "outputs": [
    {
     "data": {
      "text/html": [
       "<div>\n",
       "<style scoped>\n",
       "    .dataframe tbody tr th:only-of-type {\n",
       "        vertical-align: middle;\n",
       "    }\n",
       "\n",
       "    .dataframe tbody tr th {\n",
       "        vertical-align: top;\n",
       "    }\n",
       "\n",
       "    .dataframe thead th {\n",
       "        text-align: right;\n",
       "    }\n",
       "</style>\n",
       "<table border=\"1\" class=\"dataframe\">\n",
       "  <thead>\n",
       "    <tr style=\"text-align: right;\">\n",
       "      <th></th>\n",
       "      <th>Actual Values</th>\n",
       "      <th>Fitted Values</th>\n",
       "      <th>Residuals</th>\n",
       "    </tr>\n",
       "  </thead>\n",
       "  <tbody>\n",
       "    <tr>\n",
       "      <th>652</th>\n",
       "      <td>6.48</td>\n",
       "      <td>-9.391994</td>\n",
       "      <td>15.871994</td>\n",
       "    </tr>\n",
       "    <tr>\n",
       "      <th>2960</th>\n",
       "      <td>60.00</td>\n",
       "      <td>68.790231</td>\n",
       "      <td>-8.790231</td>\n",
       "    </tr>\n",
       "    <tr>\n",
       "      <th>2123</th>\n",
       "      <td>39.82</td>\n",
       "      <td>40.700702</td>\n",
       "      <td>-0.880702</td>\n",
       "    </tr>\n",
       "    <tr>\n",
       "      <th>588</th>\n",
       "      <td>50.27</td>\n",
       "      <td>49.527156</td>\n",
       "      <td>0.742844</td>\n",
       "    </tr>\n",
       "    <tr>\n",
       "      <th>723</th>\n",
       "      <td>73.33</td>\n",
       "      <td>72.026141</td>\n",
       "      <td>1.303859</td>\n",
       "    </tr>\n",
       "  </tbody>\n",
       "</table>\n",
       "</div>"
      ],
      "text/plain": [
       "      Actual Values  Fitted Values  Residuals\n",
       "652            6.48      -9.391994  15.871994\n",
       "2960          60.00      68.790231  -8.790231\n",
       "2123          39.82      40.700702  -0.880702\n",
       "588           50.27      49.527156   0.742844\n",
       "723           73.33      72.026141   1.303859"
      ]
     },
     "execution_count": 77,
     "metadata": {},
     "output_type": "execute_result"
    }
   ],
   "source": [
    "# let us create a dataframe with actual, fitted and residual values\n",
    "df_pred = pd.DataFrame()\n",
    "\n",
    "df_pred[\"Actual Values\"] = y_train  # actual values\n",
    "df_pred[\"Fitted Values\"] = olsmod2.fittedvalues  # predicted values\n",
    "df_pred[\"Residuals\"] = olsmod2.resid  # residuals\n",
    "\n",
    "df_pred.head()"
   ]
  },
  {
   "cell_type": "code",
   "execution_count": 78,
   "metadata": {},
   "outputs": [
    {
     "data": {
      "image/png": "[encoded data removed]",
      "text/plain": [
       "<Figure size 432x288 with 1 Axes>"
      ]
     },
     "metadata": {
      "needs_background": "light"
     },
     "output_type": "display_data"
    }
   ],
   "source": [
    "# let's plot the fitted values vs residuals\n",
    "\n",
    "sns.residplot(\n",
    "    data=df_pred, x=\"Fitted Values\", y=\"Residuals\", color=\"purple\", lowess=True\n",
    ")\n",
    "plt.xlabel(\"Fitted Values\")\n",
    "plt.ylabel(\"Residuals\")\n",
    "plt.title(\"Fitted vs Residual plot\")\n",
    "plt.show()"
   ]
  },
  {
   "cell_type": "markdown",
   "metadata": {},
   "source": [
    "There is no pattern in the plot above. Hence the assumptions of linearity and indepence are satisfied. "
   ]
  },
  {
   "cell_type": "markdown",
   "metadata": {},
   "source": [
    "Test for Normality\n",
    "\n",
    "I will check for the normality by using Q-Q plot of residuals and the Shapiro-Wilk test. "
   ]
  },
  {
   "cell_type": "code",
   "execution_count": 79,
   "metadata": {},
   "outputs": [
    {
     "data": {
      "image/png": "[encoded data removed]",
      "text/plain": [
       "<Figure size 432x288 with 1 Axes>"
      ]
     },
     "metadata": {
      "needs_background": "light"
     },
     "output_type": "display_data"
    }
   ],
   "source": [
    "sns.histplot(data=df_pred, x=\"Residuals\", kde=True)\n",
    "plt.title(\"Normality of residuals\")\n",
    "plt.show()"
   ]
  },
  {
   "cell_type": "markdown",
   "metadata": {},
   "source": [
    "The histogram of residuals does have a bell shape. Now let's try the Q-Q plot. "
   ]
  },
  {
   "cell_type": "code",
   "execution_count": 80,
   "metadata": {},
   "outputs": [
    {
     "data": {
      "image/png": "[encoded data removed]",
      "text/plain": [
       "<Figure size 432x288 with 1 Axes>"
      ]
     },
     "metadata": {
      "needs_background": "light"
     },
     "output_type": "display_data"
    }
   ],
   "source": [
    "import pylab\n",
    "import scipy.stats as stats\n",
    "\n",
    "stats.probplot(df_pred[\"Residuals\"], dist=\"norm\", plot=pylab)\n",
    "plt.show()"
   ]
  },
  {
   "cell_type": "markdown",
   "metadata": {},
   "source": [
    "The residuals mostly follows a straight line, except towards the higher end it falls off. Now, let's try Shapiro-Wilk test."
   ]
  },
  {
   "cell_type": "code",
   "execution_count": 81,
   "metadata": {},
   "outputs": [
    {
     "data": {
      "text/plain": [
       "ShapiroResult(statistic=0.9606461524963379, pvalue=8.393142793514584e-25)"
      ]
     },
     "execution_count": 81,
     "metadata": {},
     "output_type": "execute_result"
    }
   ],
   "source": [
    "stats.shapiro(df_pred[\"Residuals\"])"
   ]
  },
  {
   "cell_type": "markdown",
   "metadata": {},
   "source": [
    "Since the p-value is greater than 0.05, the residuals are not normal as per the Shapiro-Wilk test. The residuals are not normal. However, as an approxmation, we can accept this distribution as close to being normal. The assumption is satisfied."
   ]
  },
  {
   "cell_type": "markdown",
   "metadata": {},
   "source": [
    "Test for homoscedasticity. I will be looking to see if the variance of the residuals across the regression line"
   ]
  },
  {
   "cell_type": "code",
   "execution_count": 82,
   "metadata": {},
   "outputs": [
    {
     "data": {
      "text/plain": [
       "[('F statistic', 1.0668775536813437), ('p-value', 0.13495170042996218)]"
      ]
     },
     "execution_count": 82,
     "metadata": {},
     "output_type": "execute_result"
    }
   ],
   "source": [
    "import statsmodels.stats.api as sms\n",
    "from statsmodels.compat import lzip\n",
    "\n",
    "name = [\"F statistic\", \"p-value\"]\n",
    "test = sms.het_goldfeldquandt(df_pred[\"Residuals\"], x_train2)\n",
    "lzip(name, test)"
   ]
  },
  {
   "cell_type": "markdown",
   "metadata": {},
   "source": [
    "Since the p-value is greater than 0.05, we can say that the residuals are homoscedastitc. This assumption is satisfied. \n",
    "\n",
    "Let's move to the prediction part."
   ]
  },
  {
   "cell_type": "code",
   "execution_count": 83,
   "metadata": {},
   "outputs": [
    {
     "data": {
      "text/html": [
       "<div>\n",
       "<style scoped>\n",
       "    .dataframe tbody tr th:only-of-type {\n",
       "        vertical-align: middle;\n",
       "    }\n",
       "\n",
       "    .dataframe tbody tr th {\n",
       "        vertical-align: top;\n",
       "    }\n",
       "\n",
       "    .dataframe thead th {\n",
       "        text-align: right;\n",
       "    }\n",
       "</style>\n",
       "<table border=\"1\" class=\"dataframe\">\n",
       "  <thead>\n",
       "    <tr style=\"text-align: right;\">\n",
       "      <th></th>\n",
       "      <th>Actual</th>\n",
       "      <th>Predicted</th>\n",
       "    </tr>\n",
       "  </thead>\n",
       "  <tbody>\n",
       "    <tr>\n",
       "      <th>1141</th>\n",
       "      <td>99.77</td>\n",
       "      <td>106.712879</td>\n",
       "    </tr>\n",
       "    <tr>\n",
       "      <th>1163</th>\n",
       "      <td>51.43</td>\n",
       "      <td>53.303679</td>\n",
       "    </tr>\n",
       "    <tr>\n",
       "      <th>1594</th>\n",
       "      <td>23.58</td>\n",
       "      <td>26.124003</td>\n",
       "    </tr>\n",
       "    <tr>\n",
       "      <th>1890</th>\n",
       "      <td>88.37</td>\n",
       "      <td>84.386375</td>\n",
       "    </tr>\n",
       "    <tr>\n",
       "      <th>2692</th>\n",
       "      <td>126.32</td>\n",
       "      <td>143.768890</td>\n",
       "    </tr>\n",
       "    <tr>\n",
       "      <th>1517</th>\n",
       "      <td>28.38</td>\n",
       "      <td>33.058931</td>\n",
       "    </tr>\n",
       "    <tr>\n",
       "      <th>810</th>\n",
       "      <td>65.93</td>\n",
       "      <td>66.345558</td>\n",
       "    </tr>\n",
       "    <tr>\n",
       "      <th>2597</th>\n",
       "      <td>200.07</td>\n",
       "      <td>194.649064</td>\n",
       "    </tr>\n",
       "    <tr>\n",
       "      <th>3100</th>\n",
       "      <td>99.91</td>\n",
       "      <td>100.315433</td>\n",
       "    </tr>\n",
       "    <tr>\n",
       "      <th>51</th>\n",
       "      <td>174.79</td>\n",
       "      <td>177.886950</td>\n",
       "    </tr>\n",
       "  </tbody>\n",
       "</table>\n",
       "</div>"
      ],
      "text/plain": [
       "      Actual   Predicted\n",
       "1141   99.77  106.712879\n",
       "1163   51.43   53.303679\n",
       "1594   23.58   26.124003\n",
       "1890   88.37   84.386375\n",
       "2692  126.32  143.768890\n",
       "1517   28.38   33.058931\n",
       "810    65.93   66.345558\n",
       "2597  200.07  194.649064\n",
       "3100   99.91  100.315433\n",
       "51    174.79  177.886950"
      ]
     },
     "execution_count": 83,
     "metadata": {},
     "output_type": "execute_result"
    }
   ],
   "source": [
    "# predictions on the test set\n",
    "pred = olsmod2.predict(x_test2)\n",
    "\n",
    "df_pred_test = pd.DataFrame({\"Actual\": y_test, \"Predicted\": pred})\n",
    "df_pred_test.sample(10, random_state=1)"
   ]
  },
  {
   "cell_type": "markdown",
   "metadata": {},
   "source": [
    "We can see here that the model has returned pretty good prediction results. The actual and predicted values are comparable. Let's view the comparison results as a bar graph. Since the records are large, I am going to use a sample of 25 records only."
   ]
  },
  {
   "cell_type": "code",
   "execution_count": 84,
   "metadata": {},
   "outputs": [
    {
     "data": {
      "image/png": "[encoded data removed]",
      "text/plain": [
       "<Figure size 1080x504 with 1 Axes>"
      ]
     },
     "metadata": {
      "needs_background": "light"
     },
     "output_type": "display_data"
    }
   ],
   "source": [
    "df1 = df_pred_test.sample(25, random_state=1)\n",
    "df1.plot(kind=\"bar\", figsize=(15, 7))\n",
    "plt.show()"
   ]
  },
  {
   "cell_type": "code",
   "execution_count": 85,
   "metadata": {},
   "outputs": [
    {
     "name": "stdout",
     "output_type": "stream",
     "text": [
      "Training Performance\n",
      "\n"
     ]
    },
    {
     "data": {
      "text/html": [
       "<div>\n",
       "<style scoped>\n",
       "    .dataframe tbody tr th:only-of-type {\n",
       "        vertical-align: middle;\n",
       "    }\n",
       "\n",
       "    .dataframe tbody tr th {\n",
       "        vertical-align: top;\n",
       "    }\n",
       "\n",
       "    .dataframe thead th {\n",
       "        text-align: right;\n",
       "    }\n",
       "</style>\n",
       "<table border=\"1\" class=\"dataframe\">\n",
       "  <thead>\n",
       "    <tr style=\"text-align: right;\">\n",
       "      <th></th>\n",
       "      <th>RMSE</th>\n",
       "      <th>MAE</th>\n",
       "      <th>R-squared</th>\n",
       "      <th>Adj. R-squared</th>\n",
       "      <th>MAPE</th>\n",
       "    </tr>\n",
       "  </thead>\n",
       "  <tbody>\n",
       "    <tr>\n",
       "      <th>0</th>\n",
       "      <td>12.098263</td>\n",
       "      <td>8.736598</td>\n",
       "      <td>0.960521</td>\n",
       "      <td>0.960251</td>\n",
       "      <td>15.679265</td>\n",
       "    </tr>\n",
       "  </tbody>\n",
       "</table>\n",
       "</div>"
      ],
      "text/plain": [
       "        RMSE       MAE  R-squared  Adj. R-squared       MAPE\n",
       "0  12.098263  8.736598   0.960521        0.960251  15.679265"
      ]
     },
     "execution_count": 85,
     "metadata": {},
     "output_type": "execute_result"
    }
   ],
   "source": [
    "# checking model performance on train set (seen 70% data)\n",
    "print(\"Training Performance\\n\")\n",
    "olsmod2_train_perf = model_performance_regression(olsmod2, x_train2, y_train)\n",
    "olsmod2_train_perf"
   ]
  },
  {
   "cell_type": "code",
   "execution_count": 86,
   "metadata": {},
   "outputs": [
    {
     "name": "stdout",
     "output_type": "stream",
     "text": [
      "Test Performance\n",
      "\n"
     ]
    },
    {
     "data": {
      "text/html": [
       "<div>\n",
       "<style scoped>\n",
       "    .dataframe tbody tr th:only-of-type {\n",
       "        vertical-align: middle;\n",
       "    }\n",
       "\n",
       "    .dataframe tbody tr th {\n",
       "        vertical-align: top;\n",
       "    }\n",
       "\n",
       "    .dataframe thead th {\n",
       "        text-align: right;\n",
       "    }\n",
       "</style>\n",
       "<table border=\"1\" class=\"dataframe\">\n",
       "  <thead>\n",
       "    <tr style=\"text-align: right;\">\n",
       "      <th></th>\n",
       "      <th>RMSE</th>\n",
       "      <th>MAE</th>\n",
       "      <th>R-squared</th>\n",
       "      <th>Adj. R-squared</th>\n",
       "      <th>MAPE</th>\n",
       "    </tr>\n",
       "  </thead>\n",
       "  <tbody>\n",
       "    <tr>\n",
       "      <th>0</th>\n",
       "      <td>12.17737</td>\n",
       "      <td>8.826289</td>\n",
       "      <td>0.960946</td>\n",
       "      <td>0.960318</td>\n",
       "      <td>14.481512</td>\n",
       "    </tr>\n",
       "  </tbody>\n",
       "</table>\n",
       "</div>"
      ],
      "text/plain": [
       "       RMSE       MAE  R-squared  Adj. R-squared       MAPE\n",
       "0  12.17737  8.826289   0.960946        0.960318  14.481512"
      ]
     },
     "execution_count": 86,
     "metadata": {},
     "output_type": "execute_result"
    }
   ],
   "source": [
    "# checking model performance on test set (seen 30% data)\n",
    "print(\"Test Performance\\n\")\n",
    "olsmod2_test_perf = model_performance_regression(olsmod2, x_test2, y_test)\n",
    "olsmod2_test_perf"
   ]
  },
  {
   "cell_type": "markdown",
   "metadata": {},
   "source": [
    "The model is able to explain 96% of the variation in the data, which is great.\n",
    "\n",
    "The train and test RMSE and MAE are low and comparable. So, our model is not affected by overfitting. \n",
    "\n",
    "The MAPE on the test suggests that we can predict within 14.5% of the used phone price. \n",
    "\n",
    "Hence, we can conclude that the model olsmod2 is good for prediction as well as interference purposes. "
   ]
  },
  {
   "cell_type": "markdown",
   "metadata": {},
   "source": [
    "Let's compare the initial model created with sklearn and the final statsmodels model. "
   ]
  },
  {
   "cell_type": "code",
   "execution_count": 89,
   "metadata": {},
   "outputs": [
    {
     "name": "stdout",
     "output_type": "stream",
     "text": [
      "Training performance comparison:\n"
     ]
    },
    {
     "data": {
      "text/html": [
       "<div>\n",
       "<style scoped>\n",
       "    .dataframe tbody tr th:only-of-type {\n",
       "        vertical-align: middle;\n",
       "    }\n",
       "\n",
       "    .dataframe tbody tr th {\n",
       "        vertical-align: top;\n",
       "    }\n",
       "\n",
       "    .dataframe thead th {\n",
       "        text-align: right;\n",
       "    }\n",
       "</style>\n",
       "<table border=\"1\" class=\"dataframe\">\n",
       "  <thead>\n",
       "    <tr style=\"text-align: right;\">\n",
       "      <th></th>\n",
       "      <th>Linear Regression sklearn</th>\n",
       "      <th>Linear Regression statsmodels</th>\n",
       "    </tr>\n",
       "  </thead>\n",
       "  <tbody>\n",
       "    <tr>\n",
       "      <th>RMSE</th>\n",
       "      <td>12.006673</td>\n",
       "      <td>12.098263</td>\n",
       "    </tr>\n",
       "    <tr>\n",
       "      <th>MAE</th>\n",
       "      <td>8.648114</td>\n",
       "      <td>8.736598</td>\n",
       "    </tr>\n",
       "    <tr>\n",
       "      <th>R-squared</th>\n",
       "      <td>0.961117</td>\n",
       "      <td>0.960521</td>\n",
       "    </tr>\n",
       "    <tr>\n",
       "      <th>Adj. R-squared</th>\n",
       "      <td>0.960274</td>\n",
       "      <td>0.960251</td>\n",
       "    </tr>\n",
       "    <tr>\n",
       "      <th>MAPE</th>\n",
       "      <td>15.401215</td>\n",
       "      <td>15.679265</td>\n",
       "    </tr>\n",
       "  </tbody>\n",
       "</table>\n",
       "</div>"
      ],
      "text/plain": [
       "                Linear Regression sklearn  Linear Regression statsmodels\n",
       "RMSE                            12.006673                      12.098263\n",
       "MAE                              8.648114                       8.736598\n",
       "R-squared                        0.961117                       0.960521\n",
       "Adj. R-squared                   0.960274                       0.960251\n",
       "MAPE                            15.401215                      15.679265"
      ]
     },
     "execution_count": 89,
     "metadata": {},
     "output_type": "execute_result"
    }
   ],
   "source": [
    "# training performance comparison\n",
    "\n",
    "models_train_comp_df = pd.concat(\n",
    "    [linearregression_train_perf.T, olsmod2_train_perf.T],\n",
    "    axis=1,\n",
    ")\n",
    "\n",
    "models_train_comp_df.columns = [\n",
    "    \"Linear Regression sklearn\",\n",
    "    \"Linear Regression statsmodels\",\n",
    "]\n",
    "\n",
    "print(\"Training performance comparison:\")\n",
    "models_train_comp_df"
   ]
  },
  {
   "cell_type": "code",
   "execution_count": 90,
   "metadata": {},
   "outputs": [
    {
     "name": "stdout",
     "output_type": "stream",
     "text": [
      "Test performance comparison:\n"
     ]
    },
    {
     "data": {
      "text/html": [
       "<div>\n",
       "<style scoped>\n",
       "    .dataframe tbody tr th:only-of-type {\n",
       "        vertical-align: middle;\n",
       "    }\n",
       "\n",
       "    .dataframe tbody tr th {\n",
       "        vertical-align: top;\n",
       "    }\n",
       "\n",
       "    .dataframe thead th {\n",
       "        text-align: right;\n",
       "    }\n",
       "</style>\n",
       "<table border=\"1\" class=\"dataframe\">\n",
       "  <thead>\n",
       "    <tr style=\"text-align: right;\">\n",
       "      <th></th>\n",
       "      <th>Linear Regression sklearn</th>\n",
       "      <th>Linear Regression statsmodels</th>\n",
       "    </tr>\n",
       "  </thead>\n",
       "  <tbody>\n",
       "    <tr>\n",
       "      <th>RMSE</th>\n",
       "      <td>12.156217</td>\n",
       "      <td>12.177370</td>\n",
       "    </tr>\n",
       "    <tr>\n",
       "      <th>MAE</th>\n",
       "      <td>8.823566</td>\n",
       "      <td>8.826289</td>\n",
       "    </tr>\n",
       "    <tr>\n",
       "      <th>R-squared</th>\n",
       "      <td>0.961082</td>\n",
       "      <td>0.960946</td>\n",
       "    </tr>\n",
       "    <tr>\n",
       "      <th>Adj. R-squared</th>\n",
       "      <td>0.959055</td>\n",
       "      <td>0.960318</td>\n",
       "    </tr>\n",
       "    <tr>\n",
       "      <th>MAPE</th>\n",
       "      <td>14.274823</td>\n",
       "      <td>14.481512</td>\n",
       "    </tr>\n",
       "  </tbody>\n",
       "</table>\n",
       "</div>"
      ],
      "text/plain": [
       "                Linear Regression sklearn  Linear Regression statsmodels\n",
       "RMSE                            12.156217                      12.177370\n",
       "MAE                              8.823566                       8.826289\n",
       "R-squared                        0.961082                       0.960946\n",
       "Adj. R-squared                   0.959055                       0.960318\n",
       "MAPE                            14.274823                      14.481512"
      ]
     },
     "execution_count": 90,
     "metadata": {},
     "output_type": "execute_result"
    }
   ],
   "source": [
    "# test performance comparison\n",
    "\n",
    "models_test_comp_df = pd.concat(\n",
    "    [linearregression_test_perf.T, olsmod2_test_perf.T],\n",
    "    axis=1,\n",
    ")\n",
    "\n",
    "models_test_comp_df.columns = [\n",
    "    \"Linear Regression sklearn\",\n",
    "    \"Linear Regression statsmodels\",\n",
    "]\n",
    "\n",
    "print(\"Test performance comparison:\")\n",
    "models_test_comp_df"
   ]
  },
  {
   "cell_type": "markdown",
   "metadata": {},
   "source": [
    "The performance of the twoo models are close to eachother. "
   ]
  },
  {
   "cell_type": "markdown",
   "metadata": {},
   "source": [
    "Let's recreate the final statsmodel model and print it's summary to gain insights."
   ]
  },
  {
   "cell_type": "code",
   "execution_count": 91,
   "metadata": {},
   "outputs": [
    {
     "name": "stdout",
     "output_type": "stream",
     "text": [
      "                            OLS Regression Results                            \n",
      "==============================================================================\n",
      "Dep. Variable:             used_price   R-squared:                       0.961\n",
      "Model:                            OLS   Adj. R-squared:                  0.960\n",
      "Method:                 Least Squares   F-statistic:                     3797.\n",
      "Date:                Fri, 20 Aug 2021   Prob (F-statistic):               0.00\n",
      "Time:                        16:51:33   Log-Likelihood:                -9220.6\n",
      "No. Observations:                2357   AIC:                         1.847e+04\n",
      "Df Residuals:                    2341   BIC:                         1.857e+04\n",
      "Df Model:                          15                                         \n",
      "Covariance Type:            nonrobust                                         \n",
      "===========================================================================================\n",
      "                              coef    std err          t      P>|t|      [0.025      0.975]\n",
      "-------------------------------------------------------------------------------------------\n",
      "main_camera_mp             -0.2291      0.074     -3.102      0.002      -0.374      -0.084\n",
      "selfie_camera_mp            0.5445      0.085      6.421      0.000       0.378       0.711\n",
      "int_memory                  0.0577      0.009      6.500      0.000       0.040       0.075\n",
      "ram                        18.0596      0.501     36.031      0.000      17.077      19.042\n",
      "weight                      0.0168      0.007      2.363      0.018       0.003       0.031\n",
      "days_used                  -0.0716      0.002    -46.249      0.000      -0.075      -0.069\n",
      "new_price                   0.3383      0.004     87.288      0.000       0.331       0.346\n",
      "brand_name_Apple            9.1885      2.031      4.524      0.000       5.206      13.171\n",
      "brand_name_Google          11.3456      4.107      2.762      0.006       3.292      19.400\n",
      "brand_name_Honor            3.2317      1.429      2.261      0.024       0.429       6.034\n",
      "brand_name_Nokia           -9.0700      1.384     -6.552      0.000     -11.785      -6.355\n",
      "brand_name_Oppo            -3.2663      1.435     -2.276      0.023      -6.081      -0.452\n",
      "release_year_2017          -4.3686      0.911     -4.793      0.000      -6.156      -2.581\n",
      "release_year_2019           3.6533      0.978      3.735      0.000       1.735       5.571\n",
      "price_range_low-cost      -16.3582      1.269    -12.892      0.000     -18.846     -13.870\n",
      "price_range_middle-cost   -16.6380      0.904    -18.401      0.000     -18.411     -14.865\n",
      "==============================================================================\n",
      "Omnibus:                      248.998   Durbin-Watson:                   1.946\n",
      "Prob(Omnibus):                  0.000   Jarque-Bera (JB):              791.142\n",
      "Skew:                           0.531   Prob(JB):                    1.61e-172\n",
      "Kurtosis:                       5.632   Cond. No.                     1.29e+04\n",
      "==============================================================================\n",
      "\n",
      "Notes:\n",
      "[1] Standard Errors assume that the covariance matrix of the errors is correctly specified.\n",
      "[2] The condition number is large, 1.29e+04. This might indicate that there are\n",
      "strong multicollinearity or other numerical problems.\n"
     ]
    }
   ],
   "source": [
    "olsmodel_final = sm.OLS(y_train, x_train2).fit()\n",
    "print(olsmodel_final.summary())"
   ]
  },
  {
   "cell_type": "markdown",
   "metadata": {},
   "source": [
    "Conclusions:\n",
    "  \n",
    "  \n",
    "  1. Days_used comes out to be very significant. The longer someone has used a phone, the used price also will go down. Which makes sense. \n",
    "  2. Main camera mp has a negative coefficient, so when the resolutioin of the rear camera in megapixels decreases, so does the used price. This makes so much sense since a lot of people like to have good quality camera to upload photos to social media, share with friends, and keep for themselves. They like to access these photos whenever on their camera. So when the camera quality is bad, the used price will decrease. \n",
    "  2. New price and used price are highly correlated. When a new phone is highly priced, it tends to sell for more when it is used/refurbished. \n",
    "  3. Apple, Google, and Honor have high coefficients. This makes sense as these brands are in the top brands for cell phones. (Google being the highest by 11.3 euros on average)\n",
    "  4. Nokia and Oppo have negative coefficients. The used price is low for these brands of phones. \n",
    "  5. Ram and int_memory have a high coefficient. People want phones that have a high amount of GB for storage. When ram increases, so does used price.\n",
    "  6. Used prices for phones in 2019 are more expensive than used prices for phone in 2017, which makes sense since they are much newer and probably have better features and are nicer. \n",
    "    "
   ]
  },
  {
   "cell_type": "code",
   "execution_count": null,
   "metadata": {},
   "outputs": [],
   "source": []
  }
 ],
 "metadata": {
  "kernelspec": {
   "display_name": "Python 3",
   "language": "python",
   "name": "python3"
  },
  "language_info": {
   "codemirror_mode": {
    "name": "ipython",
    "version": 3
   },
   "file_extension": ".py",
   "mimetype": "text/x-python",
   "name": "python",
   "nbconvert_exporter": "python",
   "pygments_lexer": "ipython3",
   "version": "3.8.5"
  }
 },
 "nbformat": 4,
 "nbformat_minor": 4
}
